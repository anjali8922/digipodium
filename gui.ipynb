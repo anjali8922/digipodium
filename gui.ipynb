{
 "cells": [
  {
   "cell_type": "code",
   "execution_count": 3,
   "metadata": {},
   "outputs": [
    {
     "ename": "AttributeError",
     "evalue": "'str' object has no attribute 'tk'",
     "output_type": "error",
     "traceback": [
      "\u001b[1;31m---------------------------------------------------------------------------\u001b[0m",
      "\u001b[1;31mAttributeError\u001b[0m                            Traceback (most recent call last)",
      "\u001b[1;32mc:\\Users\\anjal\\OneDrive\\Desktop\\digipodium\\gui.ipynb Cell 1\u001b[0m line \u001b[0;36m1\n\u001b[0;32m      <a href='vscode-notebook-cell:/c%3A/Users/anjal/OneDrive/Desktop/digipodium/gui.ipynb#W0sZmlsZQ%3D%3D?line=7'>8</a>\u001b[0m  \u001b[39m#maxsize\u001b[39;00m\n\u001b[0;32m      <a href='vscode-notebook-cell:/c%3A/Users/anjal/OneDrive/Desktop/digipodium/gui.ipynb#W0sZmlsZQ%3D%3D?line=8'>9</a>\u001b[0m anjaliprajapati_root\u001b[39m.\u001b[39mmaxsize(\u001b[39m600\u001b[39m,\u001b[39m600\u001b[39m)\n\u001b[1;32m---> <a href='vscode-notebook-cell:/c%3A/Users/anjal/OneDrive/Desktop/digipodium/gui.ipynb#W0sZmlsZQ%3D%3D?line=10'>11</a>\u001b[0m x_label\u001b[39m=\u001b[39mLabel(\u001b[39m\"\u001b[39m\u001b[39mWELCOME TO MY GUI WORK😊\u001b[39m\u001b[39m\"\u001b[39m)\n\u001b[0;32m     <a href='vscode-notebook-cell:/c%3A/Users/anjal/OneDrive/Desktop/digipodium/gui.ipynb#W0sZmlsZQ%3D%3D?line=11'>12</a>\u001b[0m x_label\u001b[39m.\u001b[39mpack()\n\u001b[0;32m     <a href='vscode-notebook-cell:/c%3A/Users/anjal/OneDrive/Desktop/digipodium/gui.ipynb#W0sZmlsZQ%3D%3D?line=12'>13</a>\u001b[0m \u001b[39m# gui logic hare\u001b[39;00m\n\u001b[0;32m     <a href='vscode-notebook-cell:/c%3A/Users/anjal/OneDrive/Desktop/digipodium/gui.ipynb#W0sZmlsZQ%3D%3D?line=13'>14</a>\u001b[0m \u001b[39m# make intract to user\u001b[39;00m\n",
      "File \u001b[1;32mc:\\Users\\anjal\\miniconda3\\Lib\\tkinter\\__init__.py:3214\u001b[0m, in \u001b[0;36mLabel.__init__\u001b[1;34m(self, master, cnf, **kw)\u001b[0m\n\u001b[0;32m   3196\u001b[0m \u001b[39mdef\u001b[39;00m \u001b[39m__init__\u001b[39m(\u001b[39mself\u001b[39m, master\u001b[39m=\u001b[39m\u001b[39mNone\u001b[39;00m, cnf\u001b[39m=\u001b[39m{}, \u001b[39m*\u001b[39m\u001b[39m*\u001b[39mkw):\n\u001b[0;32m   3197\u001b[0m \u001b[39m    \u001b[39m\u001b[39m\"\"\"Construct a label widget with the parent MASTER.\u001b[39;00m\n\u001b[0;32m   3198\u001b[0m \n\u001b[0;32m   3199\u001b[0m \u001b[39m    STANDARD OPTIONS\u001b[39;00m\n\u001b[1;32m   (...)\u001b[0m\n\u001b[0;32m   3212\u001b[0m \n\u001b[0;32m   3213\u001b[0m \u001b[39m    \"\"\"\u001b[39;00m\n\u001b[1;32m-> 3214\u001b[0m     Widget\u001b[39m.\u001b[39m\u001b[39m__init__\u001b[39m(\u001b[39mself\u001b[39m, master, \u001b[39m'\u001b[39m\u001b[39mlabel\u001b[39m\u001b[39m'\u001b[39m, cnf, kw)\n",
      "File \u001b[1;32mc:\\Users\\anjal\\miniconda3\\Lib\\tkinter\\__init__.py:2622\u001b[0m, in \u001b[0;36mBaseWidget.__init__\u001b[1;34m(self, master, widgetName, cnf, kw, extra)\u001b[0m\n\u001b[0;32m   2620\u001b[0m     cnf \u001b[39m=\u001b[39m _cnfmerge((cnf, kw))\n\u001b[0;32m   2621\u001b[0m \u001b[39mself\u001b[39m\u001b[39m.\u001b[39mwidgetName \u001b[39m=\u001b[39m widgetName\n\u001b[1;32m-> 2622\u001b[0m \u001b[39mself\u001b[39m\u001b[39m.\u001b[39m_setup(master, cnf)\n\u001b[0;32m   2623\u001b[0m \u001b[39mif\u001b[39;00m \u001b[39mself\u001b[39m\u001b[39m.\u001b[39m_tclCommands \u001b[39mis\u001b[39;00m \u001b[39mNone\u001b[39;00m:\n\u001b[0;32m   2624\u001b[0m     \u001b[39mself\u001b[39m\u001b[39m.\u001b[39m_tclCommands \u001b[39m=\u001b[39m []\n",
      "File \u001b[1;32mc:\\Users\\anjal\\miniconda3\\Lib\\tkinter\\__init__.py:2591\u001b[0m, in \u001b[0;36mBaseWidget._setup\u001b[1;34m(self, master, cnf)\u001b[0m\n\u001b[0;32m   2589\u001b[0m     master \u001b[39m=\u001b[39m _get_default_root()\n\u001b[0;32m   2590\u001b[0m \u001b[39mself\u001b[39m\u001b[39m.\u001b[39mmaster \u001b[39m=\u001b[39m master\n\u001b[1;32m-> 2591\u001b[0m \u001b[39mself\u001b[39m\u001b[39m.\u001b[39mtk \u001b[39m=\u001b[39m master\u001b[39m.\u001b[39mtk\n\u001b[0;32m   2592\u001b[0m name \u001b[39m=\u001b[39m \u001b[39mNone\u001b[39;00m\n\u001b[0;32m   2593\u001b[0m \u001b[39mif\u001b[39;00m \u001b[39m'\u001b[39m\u001b[39mname\u001b[39m\u001b[39m'\u001b[39m \u001b[39min\u001b[39;00m cnf:\n",
      "\u001b[1;31mAttributeError\u001b[0m: 'str' object has no attribute 'tk'"
     ]
    }
   ],
   "source": [
    "from tkinter import *\n",
    "#to create base\n",
    "anjaliprajapati_root = Tk()\n",
    "# for frame\n",
    "anjaliprajapati_root.geometry(\"644x434\")\n",
    "#minsize\n",
    "anjaliprajapati_root.minsize(200,98)\n",
    " #maxsize\n",
    "anjaliprajapati_root.maxsize(600,600)\n",
    "\n",
    "x_label=Label(\"WELCOME TO MY GUI WORK😊\")\n",
    "x_label.pack()\n",
    "# gui logic hare\n",
    "# make intract to user\n",
    "anjaliprajapati_root.mainloop()\n"
   ]
  },
  {
   "cell_type": "code",
   "execution_count": null,
   "metadata": {},
   "outputs": [],
   "source": []
  },
  {
   "cell_type": "code",
   "execution_count": null,
   "metadata": {},
   "outputs": [],
   "source": []
  }
 ],
 "metadata": {
  "kernelspec": {
   "display_name": "base",
   "language": "python",
   "name": "python3"
  },
  "language_info": {
   "codemirror_mode": {
    "name": "ipython",
    "version": 3
   },
   "file_extension": ".py",
   "mimetype": "text/x-python",
   "name": "python",
   "nbconvert_exporter": "python",
   "pygments_lexer": "ipython3",
   "version": "3.11.4"
  },
  "orig_nbformat": 4
 },
 "nbformat": 4,
 "nbformat_minor": 2
}
