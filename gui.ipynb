{
 "cells": [
  {
   "cell_type": "code",
   "execution_count": 2,
   "metadata": {},
   "outputs": [],
   "source": [
    "from tkinter import *\n",
    "#to create base\n",
    "anjaliprajapati_root = Tk()\n",
    "# for frame\n",
    "anjaliprajapati_root.geometry(\"644x434\")\n",
    "#minsize\n",
    "anjaliprajapati_root.minsize(200,98)\n",
    " #maxsize\n",
    "anjaliprajapati_root.maxsize(600,600)\n",
    "\n",
    "#x_label=Label(\"WELCOME TO MY GUI WORK😊\")\n",
    "#x_label.pack()\n",
    "# gui logic hare\n",
    "# make intract to user\n",
    "anjaliprajapati_root.mainloop()\n"
   ]
  },
  {
   "cell_type": "code",
   "execution_count": null,
   "metadata": {},
   "outputs": [],
   "source": []
  },
  {
   "cell_type": "code",
   "execution_count": null,
   "metadata": {},
   "outputs": [],
   "source": []
  }
 ],
 "metadata": {
  "kernelspec": {
   "display_name": "base",
   "language": "python",
   "name": "python3"
  },
  "language_info": {
   "codemirror_mode": {
    "name": "ipython",
    "version": 3
   },
   "file_extension": ".py",
   "mimetype": "text/x-python",
   "name": "python",
   "nbconvert_exporter": "python",
   "pygments_lexer": "ipython3",
   "version": "3.11.4"
  },
  "orig_nbformat": 4
 },
 "nbformat": 4,
 "nbformat_minor": 2
}
