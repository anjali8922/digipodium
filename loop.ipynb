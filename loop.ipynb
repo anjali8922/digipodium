{
 "cells": [
  {
   "cell_type": "code",
   "execution_count": 92,
   "metadata": {},
   "outputs": [
    {
     "name": "stdout",
     "output_type": "stream",
     "text": [
      "red\n",
      "blue\n",
      "green\n",
      "white\n",
      "yellow\n",
      "black\n"
     ]
    }
   ],
   "source": [
    "colors=['red','blue','green','white','yellow','black']\n",
    "for color in colors:\n",
    "    print(color)\n"
   ]
  },
  {
   "cell_type": "markdown",
   "metadata": {},
   "source": [
    "loop\n",
    "- for loop\n",
    "  - break\n",
    "  - continue\n",
    "  - else\n",
    "  - enumerate\n",
    "  - zip\n",
    "- while  "
   ]
  },
  {
   "cell_type": "markdown",
   "metadata": {},
   "source": []
  },
  {
   "cell_type": "code",
   "execution_count": 93,
   "metadata": {},
   "outputs": [
    {
     "name": "stdout",
     "output_type": "stream",
     "text": [
      "red        3 chars\n",
      "blue       4 chars\n",
      "green      5 chars\n",
      "white      5 chars\n",
      "yellow     6 chars\n",
      "black      5 chars\n"
     ]
    }
   ],
   "source": [
    "for color in colors:\n",
    "    size=len(color)\n",
    "    print(f'{color:10} {size} chars')"
   ]
  },
  {
   "cell_type": "code",
   "execution_count": 94,
   "metadata": {},
   "outputs": [
    {
     "name": "stdout",
     "output_type": "stream",
     "text": [
      "red\n",
      "blue\n",
      "green\n",
      "white\n",
      "yellow\n"
     ]
    }
   ],
   "source": [
    "for color in colors:\n",
    "    if 'e' in color:\n",
    "        print(color)"
   ]
  },
  {
   "cell_type": "code",
   "execution_count": 95,
   "metadata": {},
   "outputs": [
    {
     "name": "stdout",
     "output_type": "stream",
     "text": [
      "alex\n",
      "rahul\n",
      "sonu\n",
      "monu\n",
      "raj\n",
      "rohan\n"
     ]
    }
   ],
   "source": [
    "raw_data=['alex','rahul','sonu','monu','raj','rohan']\n",
    "for name in raw_data:\n",
    "    print(name)"
   ]
  },
  {
   "cell_type": "code",
   "execution_count": 96,
   "metadata": {},
   "outputs": [
    {
     "name": "stdout",
     "output_type": "stream",
     "text": [
      "alex\n",
      "rahul\n",
      "sonu\n",
      "monu\n",
      "raj\n",
      "rohan\n"
     ]
    }
   ],
   "source": [
    "for name in raw_data:\n",
    "    if len(name)>0:\n",
    "        print(name)"
   ]
  },
  {
   "cell_type": "code",
   "execution_count": 97,
   "metadata": {},
   "outputs": [
    {
     "name": "stdout",
     "output_type": "stream",
     "text": [
      "alex\n",
      "rahul\n",
      "sonu\n",
      "monu\n",
      "raj\n",
      "rohan\n"
     ]
    }
   ],
   "source": [
    "for name in raw_data:\n",
    "    if not name:\n",
    "        continue\n",
    "    print(name)"
   ]
  },
  {
   "cell_type": "code",
   "execution_count": null,
   "metadata": {},
   "outputs": [],
   "source": []
  },
  {
   "cell_type": "code",
   "execution_count": 98,
   "metadata": {},
   "outputs": [
    {
     "name": "stdout",
     "output_type": "stream",
     "text": [
      "2\n",
      "4\n"
     ]
    }
   ],
   "source": [
    "numbers=[2,4,3,6,8,1183,89,98,64,]\n",
    "for number in numbers:\n",
    "    if number % 2 != 0:\n",
    "        break\n",
    "    print(number)\n",
    "    "
   ]
  },
  {
   "cell_type": "markdown",
   "metadata": {},
   "source": [
    "- aggregation logic"
   ]
  },
  {
   "cell_type": "code",
   "execution_count": 99,
   "metadata": {},
   "outputs": [
    {
     "name": "stdout",
     "output_type": "stream",
     "text": [
      "760734793728\n"
     ]
    }
   ],
   "source": [
    "total=1\n",
    "for i in numbers:   #collecting of parts of units into mass(aggregation)\n",
    "    total*=i\n",
    "print(total)"
   ]
  },
  {
   "cell_type": "code",
   "execution_count": 100,
   "metadata": {},
   "outputs": [
    {
     "name": "stdout",
     "output_type": "stream",
     "text": [
      "7 spaces found\n"
     ]
    }
   ],
   "source": [
    "msg='this is a simple mesage with few words'\n",
    "count=0\n",
    "for char in msg:\n",
    "    if char == ' ':\n",
    "        count += 1\n",
    "print(f'{count} spaces found')        "
   ]
  },
  {
   "cell_type": "code",
   "execution_count": 101,
   "metadata": {},
   "outputs": [
    {
     "name": "stdout",
     "output_type": "stream",
     "text": [
      "total spaces are= 7\n"
     ]
    }
   ],
   "source": [
    "print( 'total spaces are=', msg.count(' '))\n"
   ]
  },
  {
   "cell_type": "code",
   "execution_count": 102,
   "metadata": {},
   "outputs": [
    {
     "name": "stdout",
     "output_type": "stream",
     "text": [
      "the final empire\n",
      "the well of ascension\n",
      "the hero of ages\n"
     ]
    }
   ],
   "source": [
    "books=['the final empire','the well of ascension','the hero of ages']\n",
    "for book in books:\n",
    "    print(book)"
   ]
  },
  {
   "cell_type": "code",
   "execution_count": 107,
   "metadata": {},
   "outputs": [
    {
     "name": "stdout",
     "output_type": "stream",
     "text": [
      "0 the final empire\n",
      "1 the well of ascension\n",
      "2 the hero of ages\n"
     ]
    }
   ],
   "source": [
    "idx=0\n",
    "for book in books:\n",
    "    print(f'{idx} {book}')\n",
    "    idx +=1"
   ]
  },
  {
   "cell_type": "code",
   "execution_count": 104,
   "metadata": {},
   "outputs": [
    {
     "name": "stdout",
     "output_type": "stream",
     "text": [
      "0 the final empire\n",
      "1 the well of ascension\n",
      "2 the hero of ages\n"
     ]
    }
   ],
   "source": [
    "#better code\n",
    "for i in range(len(books)):\n",
    "    print(f\"{i} {books[i]}\")\n"
   ]
  },
  {
   "cell_type": "code",
   "execution_count": 105,
   "metadata": {},
   "outputs": [
    {
     "name": "stdout",
     "output_type": "stream",
     "text": [
      "0 the hero of ages\n",
      "1 the hero of ages\n",
      "2 the hero of ages\n"
     ]
    }
   ],
   "source": [
    "#python code\n",
    "for idx , val in enumerate(books):\n",
    "    print(f\"{idx} { book}\")"
   ]
  },
  {
   "cell_type": "code",
   "execution_count": 106,
   "metadata": {},
   "outputs": [
    {
     "name": "stdout",
     "output_type": "stream",
     "text": [
      "fjhrh\n",
      "rhguh\n",
      "jrfiuh\n",
      "eruihtfrnruigti\n",
      "gntiugi\n"
     ]
    }
   ],
   "source": [
    "name=['fjhrh','rhguh','jrfiuh','eruiht'\n",
    "      'frnruigti','gntiugi','riruigti','anjaki']\n",
    "for idx,nam in enumerate(name):\n",
    "    if idx==5:break\n",
    "    print(nam)\n"
   ]
  },
  {
   "cell_type": "code",
   "execution_count": null,
   "metadata": {},
   "outputs": [],
   "source": []
  }
 ],
 "metadata": {
  "kernelspec": {
   "display_name": "base",
   "language": "python",
   "name": "python3"
  },
  "language_info": {
   "codemirror_mode": {
    "name": "ipython",
    "version": 3
   },
   "file_extension": ".py",
   "mimetype": "text/x-python",
   "name": "python",
   "nbconvert_exporter": "python",
   "pygments_lexer": "ipython3",
   "version": "3.11.4"
  },
  "orig_nbformat": 4
 },
 "nbformat": 4,
 "nbformat_minor": 2
}
