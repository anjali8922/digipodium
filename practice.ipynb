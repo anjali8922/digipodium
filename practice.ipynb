{
 "cells": [
  {
   "cell_type": "markdown",
   "metadata": {},
   "source": [
    "Arithmetic operations"
   ]
  },
  {
   "cell_type": "code",
   "execution_count": 12,
   "metadata": {},
   "outputs": [
    {
     "name": "stdout",
     "output_type": "stream",
     "text": [
      "5 + 6 = 11\n"
     ]
    }
   ],
   "source": [
    "x=int(input(\"enter the first number:\"))\n",
    "y=int(input(\"enter the second number:\"))\n",
    "\n",
    "print(f'{x} + {y} =',x+y)"
   ]
  },
  {
   "cell_type": "code",
   "execution_count": 13,
   "metadata": {},
   "outputs": [
    {
     "name": "stdout",
     "output_type": "stream",
     "text": [
      "7 - 7 = 0\n"
     ]
    }
   ],
   "source": [
    "x=int(input(\"enter the first number:\"))\n",
    "y=int(input(\"enter the second number:\"))\n",
    "\n",
    "print(f'{x} - {y} =',x-y)"
   ]
  },
  {
   "cell_type": "code",
   "execution_count": 14,
   "metadata": {},
   "outputs": [
    {
     "name": "stdout",
     "output_type": "stream",
     "text": [
      "5.0\n",
      "-3.3333333333333335\n",
      "1\n",
      "2\n",
      "-1\n",
      "3\n",
      "-4\n"
     ]
    }
   ],
   "source": [
    "print(10/2)\n",
    "print(-10/3)\n",
    "print(13%3)\n",
    "print(-10%3)\n",
    "print(-10%-3)\n",
    "print(10//3)\n",
    "print(10//-3)"
   ]
  },
  {
   "cell_type": "code",
   "execution_count": 15,
   "metadata": {},
   "outputs": [
    {
     "name": "stdout",
     "output_type": "stream",
     "text": [
      "7,6\n"
     ]
    }
   ],
   "source": [
    "x=int(input(\"enter the number\"))\n",
    "y=int(input(\"enter the second number\"))\n",
    "\n",
    "temp=x\n",
    "x=y\n",
    "y=temp\n",
    "print(f'{x},{y}')"
   ]
  },
  {
   "cell_type": "code",
   "execution_count": 16,
   "metadata": {},
   "outputs": [
    {
     "name": "stdout",
     "output_type": "stream",
     "text": [
      "7,7\n"
     ]
    }
   ],
   "source": [
    "x=int(input(\"enter the number\"))\n",
    "y=int(input(\"enter the second number\"))\n",
    "\n",
    "\n",
    "x,y=y,x\n",
    "print(f'{x},{y}')"
   ]
  },
  {
   "cell_type": "code",
   "execution_count": 17,
   "metadata": {},
   "outputs": [
    {
     "name": "stdout",
     "output_type": "stream",
     "text": [
      "the temperature is -13.88888888888889 ^0C \n"
     ]
    }
   ],
   "source": [
    "F=float(input(\"enter the value to be converted in celcius\"))\n",
    "C=((F-32)*5/9)\n",
    "print(f'the temperature is {C} ^0C ')"
   ]
  },
  {
   "cell_type": "code",
   "execution_count": 18,
   "metadata": {},
   "outputs": [
    {
     "name": "stdout",
     "output_type": "stream",
     "text": [
      "the temp is 6.0 ^0 F\n"
     ]
    }
   ],
   "source": [
    "C=float(input(\"enter the value of temp\"))\n",
    "F=(1.8*C)+32\n",
    "print(f'the temp is {C} ^0 F')"
   ]
  },
  {
   "cell_type": "code",
   "execution_count": 19,
   "metadata": {},
   "outputs": [
    {
     "name": "stdout",
     "output_type": "stream",
     "text": [
      "you have to pay 842.0\n"
     ]
    }
   ],
   "source": [
    "#currency converter\n",
    "x=float(input(\"enter the value of  dollar currency:\"))\n",
    "rupees=(x*84.2)\n",
    "print(f'you have to pay {rupees}')\n",
    "\n"
   ]
  },
  {
   "cell_type": "code",
   "execution_count": 20,
   "metadata": {},
   "outputs": [
    {
     "name": "stdout",
     "output_type": "stream",
     "text": [
      "area of rec. is =20\n"
     ]
    }
   ],
   "source": [
    "x=int(input(\"enter the first number\"))\n",
    "y=int(input(\"enter the second number \"))\n",
    "AOR=x*y\n",
    "\n",
    "print(f\"area of rec. is ={AOR}\")"
   ]
  },
  {
   "cell_type": "code",
   "execution_count": 21,
   "metadata": {},
   "outputs": [],
   "source": [
    "#area of triangle\n",
    "#B=int(input(\"enter the valuse of base of triangle\"))\n",
    "#H=int(input(\"Enter the height of the triangle\"))\n",
    "#AOT=(B*H)\n",
    "#print(f'Area of triangle is ={AOT}')\n"
   ]
  },
  {
   "cell_type": "code",
   "execution_count": 23,
   "metadata": {},
   "outputs": [
    {
     "name": "stdout",
     "output_type": "stream",
     "text": [
      "YOUR REPORT CARD \n",
      "NAME=Nainshi CLASS=4 ROLL=NO47\n",
      "1.Matha           7\n",
      "2.Hindi           5\n",
      "3.English         8\n",
      "4.Science         32\n",
      "5.Social science  34\n",
      "Your total is =86 and you got 17.2%\n",
      "your divison is =third\n"
     ]
    }
   ],
   "source": [
    "#report card\n",
    "card=\"YOUR REPORT CARD\"\n",
    "print(f'{card:<17}')\n",
    "name=input(\"enter the name:\")\n",
    "clas =input(\"enter the class:\")\n",
    "roll_no=int(input(\"enter the roll number:\"))\n",
    "M1=int(input(\"enter maths sub number--\"))\n",
    "M2=int(input(\"enter the Hindi sub number--\"))\n",
    "M3=int(input(\"enter the english sub number--\"))\n",
    "M4=int(input(\"enter the science sub number--\"))\n",
    "M5=int(input(\"enter the social science sub number--\"))\n",
    "n1='Matha'\n",
    "n2='Hindi'\n",
    "n3='English'\n",
    "n4='Science'\n",
    "n5='Social science'\n",
    "S=M1+M2+M3+M4+M5\n",
    "k=(S/5)\n",
    "print(f'NAME={name} CLASS={clas} ROLL=NO{roll_no}',sep='\\t')\n",
    "print(f'1.{n1:15} {M1}')\n",
    "print(f'2.{n2:15} {M2}')\n",
    "print(f'3.{n3:15} {M3}')\n",
    "print(f'4.{n4:15} {M4}')\n",
    "print(f'5.{n5:15} { M5}')\n",
    "print(f'Your total is ={S} and you got {k}%')\n",
    "if k>=85:\n",
    "    print(\"your devision is= First\")\n",
    "if 85>k>=60:\n",
    "    print(\"your divison is= second\") \n",
    "if k<=45:\n",
    "    print(\"your divison is =third\")       \n",
    "\n",
    "\n",
    "\n",
    "\n",
    "\n"
   ]
  },
  {
   "cell_type": "code",
   "execution_count": null,
   "metadata": {},
   "outputs": [],
   "source": []
  }
 ],
 "metadata": {
  "kernelspec": {
   "display_name": "base",
   "language": "python",
   "name": "python3"
  },
  "language_info": {
   "codemirror_mode": {
    "name": "ipython",
    "version": 3
   },
   "file_extension": ".py",
   "mimetype": "text/x-python",
   "name": "python",
   "nbconvert_exporter": "python",
   "pygments_lexer": "ipython3",
   "version": "3.11.4"
  },
  "orig_nbformat": 4
 },
 "nbformat": 4,
 "nbformat_minor": 2
}
