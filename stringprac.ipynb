{
 "cells": [
  {
   "cell_type": "code",
   "execution_count": 2,
   "metadata": {},
   "outputs": [
    {
     "name": "stdout",
     "output_type": "stream",
     "text": [
      "hello,my name is anjali prajapati\n",
      "<class 'str'>\n"
     ]
    }
   ],
   "source": [
    "#1Create a string and print it.\n",
    "str=\"hello,my name is anjali prajapati\"\n",
    "print(str)\n",
    "print(type(str))"
   ]
  },
  {
   "cell_type": "code",
   "execution_count": 3,
   "metadata": {},
   "outputs": [
    {
     "name": "stdout",
     "output_type": "stream",
     "text": [
      "26\n"
     ]
    }
   ],
   "source": [
    "#2Take a string input and print it's length.\n",
    "str=input(\"enter the string\")\n",
    "print(len(str))"
   ]
  },
  {
   "cell_type": "code",
   "execution_count": 18,
   "metadata": {},
   "outputs": [
    {
     "name": "stdout",
     "output_type": "stream",
     "text": [
      " great\n",
      " gre\n"
     ]
    }
   ],
   "source": [
    "#3Print the last word of the string Python is great using slices.\n",
    "str=\"Python is great\"\n",
    "print(str[9:15])\n",
    "print(str[-6:-1])"
   ]
  },
  {
   "cell_type": "code",
   "execution_count": 13,
   "metadata": {},
   "outputs": [
    {
     "name": "stdout",
     "output_type": "stream",
     "text": [
      "['Python', 'is', 'everywhere']\n"
     ]
    }
   ],
   "source": [
    "#4Print the each word in different line of string python is everywhere.\n",
    "str=\"Python is everywhere\"\n",
    "print(str.split(' '))"
   ]
  },
  {
   "cell_type": "code",
   "execution_count": 20,
   "metadata": {},
   "outputs": [
    {
     "name": "stdout",
     "output_type": "stream",
     "text": [
      "!dlrow olleH"
     ]
    }
   ],
   "source": [
    "#5Print the string Hello World! in reverse.\n",
    "str=\"Hello world!\"\n",
    "\n",
    "for i in range(len(str)-1,-1,-1):\n",
    "    print(str[i],end='')"
   ]
  },
  {
   "cell_type": "code",
   "execution_count": 21,
   "metadata": {},
   "outputs": [
    {
     "name": "stdout",
     "output_type": "stream",
     "text": [
      "HOW ARE YOU?\n"
     ]
    }
   ],
   "source": [
    "#6Convert the string How are you? in uppercase.\n",
    "str=\"how are you?\"\n",
    "print(str.upper())"
   ]
  },
  {
   "cell_type": "code",
   "execution_count": 23,
   "metadata": {},
   "outputs": [
    {
     "name": "stdout",
     "output_type": "stream",
     "text": [
      "how is it going?\n"
     ]
    }
   ],
   "source": [
    "#7Convert the string How Is It Going? in lowercase.\n",
    "str=\"How Is It Going?\"\n",
    "print(str.lower())"
   ]
  },
  {
   "cell_type": "code",
   "execution_count": 24,
   "metadata": {},
   "outputs": [
    {
     "data": {
      "text/plain": [
       "'python is easy to learn'"
      ]
     },
     "execution_count": 24,
     "metadata": {},
     "output_type": "execute_result"
    }
   ],
   "source": [
    "#8join the following list by spaces( ) and print the result.\n",
    "#words = ['Python', 'is', 'easy', 'to', 'learn']\n",
    "words=['python','is','easy','to','learn']\n",
    "(\" \").join(words)"
   ]
  },
  {
   "cell_type": "code",
   "execution_count": 26,
   "metadata": {},
   "outputs": [
    {
     "name": "stdout",
     "output_type": "stream",
     "text": [
      "hello! my friends\n",
      "this is an example of\n",
      "multiline string example\n",
      "yo yo honey singh\n"
     ]
    }
   ],
   "source": [
    "#9Print a multiline string using a single print\n",
    "str='''hello! my friends\n",
    "this is an example of\n",
    "multiline string example\n",
    "yo yo honey singh'''\n",
    "print(str)"
   ]
  },
  {
   "cell_type": "code",
   "execution_count": 27,
   "metadata": {},
   "outputs": [
    {
     "name": "stdout",
     "output_type": "stream",
     "text": [
      "['hello! my friends', 'this is an example of', 'multiline string example', 'yo yo honey singh']\n"
     ]
    }
   ],
   "source": [
    "#10Print this string to move to newline '\\n' is used. (results should look exactly like the provided string)\n",
    "\n",
    "print(str.split('\\n'))"
   ]
  },
  {
   "cell_type": "code",
   "execution_count": 2,
   "metadata": {},
   "outputs": [
    {
     "name": "stdout",
     "output_type": "stream",
     "text": [
      "the variable is 13\n"
     ]
    }
   ],
   "source": [
    "#11Print a variable with some text using a single print function, output should look like following.\n",
    "num=int(input(\"enter the variable\"))\n",
    "print(f\"the variable is {num}\")"
   ]
  },
  {
   "cell_type": "code",
   "execution_count": 4,
   "metadata": {},
   "outputs": [
    {
     "name": "stdout",
     "output_type": "stream",
     "text": [
      "python is great\n"
     ]
    }
   ],
   "source": [
    "#12concatenate the following strings and print the result\n",
    "s1=\"python\"\n",
    "s2=\"is\"\n",
    "s3=\"great\"\n",
    "print(f\"{s1} {s2} {s3}\")"
   ]
  },
  {
   "cell_type": "code",
   "execution_count": 6,
   "metadata": {},
   "outputs": [
    {
     "data": {
      "text/plain": [
       "'####################'"
      ]
     },
     "execution_count": 6,
     "metadata": {},
     "output_type": "execute_result"
    }
   ],
   "source": [
    "#13Print # 20 times without using a loop\n",
    "\n",
    "\"#\"*20\n"
   ]
  },
  {
   "cell_type": "code",
   "execution_count": 3,
   "metadata": {},
   "outputs": [
    {
     "name": "stdout",
     "output_type": "stream",
     "text": [
      "<class 'str'>\n",
      "1.\n",
      "2.\n",
      "3.\n",
      "4.\n",
      "5.\n",
      "6.\n",
      "7.\n",
      "8.\n",
      "9.\n"
     ]
    }
   ],
   "source": [
    "#14Print numbers from 1 to 9, each on a seperate line, followed by a dot, output should look like the following\n",
    "s=\"123456789\"\n",
    "print(type(s))\n",
    "for i in s:\n",
    "    print(f\"{i}.\")"
   ]
  },
  {
   "cell_type": "code",
   "execution_count": 7,
   "metadata": {},
   "outputs": [
    {
     "name": "stdout",
     "output_type": "stream",
     "text": [
      "['m']\n"
     ]
    },
    {
     "ename": "TypeError",
     "evalue": "'NoneType' object is not subscriptable",
     "output_type": "error",
     "traceback": [
      "\u001b[1;31m---------------------------------------------------------------------------\u001b[0m",
      "\u001b[1;31mTypeError\u001b[0m                                 Traceback (most recent call last)",
      "\u001b[1;32mc:\\Users\\anjal\\Downloads\\digipodium\\stringprac.ipynb Cell 15\u001b[0m line \u001b[0;36m5\n\u001b[0;32m      <a href='vscode-notebook-cell:/c%3A/Users/anjal/Downloads/digipodium/stringprac.ipynb#X20sZmlsZQ%3D%3D?line=2'>3</a>\u001b[0m \u001b[39mfor\u001b[39;00m i \u001b[39min\u001b[39;00m \u001b[39mstr\u001b[39m:\n\u001b[0;32m      <a href='vscode-notebook-cell:/c%3A/Users/anjal/Downloads/digipodium/stringprac.ipynb#X20sZmlsZQ%3D%3D?line=3'>4</a>\u001b[0m      name\u001b[39m=\u001b[39m(i\u001b[39m.\u001b[39msplit(\u001b[39m'\u001b[39m\u001b[39m \u001b[39m\u001b[39m'\u001b[39m))\n\u001b[1;32m----> <a href='vscode-notebook-cell:/c%3A/Users/anjal/Downloads/digipodium/stringprac.ipynb#X20sZmlsZQ%3D%3D?line=4'>5</a>\u001b[0m      \u001b[39mprint\u001b[39m(name)[\u001b[39m0\u001b[39m]\n",
      "\u001b[1;31mTypeError\u001b[0m: 'NoneType' object is not subscriptable"
     ]
    }
   ],
   "source": [
    "#15Ask user to input a sentence and print each word on a different line.\n",
    "str=input(\"enter the sentence\")\n",
    "for i in str:\n",
    "     name=(i.split('  '))\n",
    "     print(name)"
   ]
  },
  {
   "cell_type": "code",
   "execution_count": 1,
   "metadata": {},
   "outputs": [
    {
     "name": "stdout",
     "output_type": "stream",
     "text": [
      "the string asking a question\n"
     ]
    }
   ],
   "source": [
    "#16Ask user to input a string and check if the string ends with '?'\n",
    "str=input(\"enter the string\")\n",
    "if str.endswith('?'): print(\"the string asking a question\")\n",
    "else: print(\"nothing\")"
   ]
  },
  {
   "cell_type": "code",
   "execution_count": 2,
   "metadata": {},
   "outputs": [
    {
     "name": "stdout",
     "output_type": "stream",
     "text": [
      "3\n"
     ]
    }
   ],
   "source": [
    "#17Ask user to input a string and print how many times e appeared in the string\n",
    "str=input(\"input the string\")\n",
    "s=str.count('e')\n",
    "print(s)"
   ]
  },
  {
   "cell_type": "code",
   "execution_count": 3,
   "metadata": {},
   "outputs": [
    {
     "name": "stdout",
     "output_type": "stream",
     "text": [
      "this is not a good string\n"
     ]
    }
   ],
   "source": [
    "#19Remove the extra spaces in beginning and in the end of the following string-\n",
    "text = '   this is not a good string           '\n",
    "\n",
    "print(text.strip())"
   ]
  },
  {
   "cell_type": "code",
   "execution_count": null,
   "metadata": {},
   "outputs": [],
   "source": [
    "#25calculate the average word length of the following paragraph\n",
    "v='this is a paragraph which is written just for the purpose of providing content to let the average word length be calculated'\n"
   ]
  },
  {
   "cell_type": "code",
   "execution_count": 2,
   "metadata": {},
   "outputs": [
    {
     "name": "stdout",
     "output_type": "stream",
     "text": [
      " python\n"
     ]
    }
   ],
   "source": [
    "#24Remove all the special characters and numbers from the following string\n",
    "text = '%p34@y!*-*!t68h#&on404'\n",
    "ans=\" \"\n",
    "for char in text:\n",
    "    if char.isalpha():\n",
    "      ans+=char\n",
    "print(ans)      "
   ]
  },
  {
   "cell_type": "code",
   "execution_count": 4,
   "metadata": {},
   "outputs": [
    {
     "name": "stdout",
     "output_type": "stream",
     "text": [
      "false\n"
     ]
    }
   ],
   "source": [
    "#23ask user to enter a string and check if the string contains fyi\n",
    "str=input(\"enter the string\")\n",
    "str3=str.lower()\n",
    "if str3.endswith(\" fyi\"):\n",
    "    print(\"true\")\n",
    "else:\n",
    "    print(\"false\")    "
   ]
  }
 ],
 "metadata": {
  "kernelspec": {
   "display_name": "base",
   "language": "python",
   "name": "python3"
  },
  "language_info": {
   "codemirror_mode": {
    "name": "ipython",
    "version": 3
   },
   "file_extension": ".py",
   "mimetype": "text/x-python",
   "name": "python",
   "nbconvert_exporter": "python",
   "pygments_lexer": "ipython3",
   "version": "3.11.4"
  },
  "orig_nbformat": 4
 },
 "nbformat": 4,
 "nbformat_minor": 2
}
