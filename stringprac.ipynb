{
 "cells": [
  {
   "cell_type": "code",
   "execution_count": 2,
   "metadata": {},
   "outputs": [
    {
     "name": "stdout",
     "output_type": "stream",
     "text": [
      "hello,my name is anjali prajapati\n",
      "<class 'str'>\n"
     ]
    }
   ],
   "source": [
    "#1Create a string and print it.\n",
    "str=\"hello,my name is anjali prajapati\"\n",
    "print(str)\n",
    "print(type(str))"
   ]
  },
  {
   "cell_type": "code",
   "execution_count": 3,
   "metadata": {},
   "outputs": [
    {
     "name": "stdout",
     "output_type": "stream",
     "text": [
      "26\n"
     ]
    }
   ],
   "source": [
    "#2Take a string input and print it's length.\n",
    "str=input(\"enter the string\")\n",
    "print(len(str))"
   ]
  },
  {
   "cell_type": "code",
   "execution_count": 18,
   "metadata": {},
   "outputs": [
    {
     "name": "stdout",
     "output_type": "stream",
     "text": [
      " great\n",
      " gre\n"
     ]
    }
   ],
   "source": [
    "#3Print the last word of the string Python is great using slices.\n",
    "str=\"Python is great\"\n",
    "print(str[9:15])\n",
    "print(str[-6:-1])"
   ]
  },
  {
   "cell_type": "code",
   "execution_count": 13,
   "metadata": {},
   "outputs": [
    {
     "name": "stdout",
     "output_type": "stream",
     "text": [
      "['Python', 'is', 'everywhere']\n"
     ]
    }
   ],
   "source": [
    "#4Print the each word in different line of string python is everywhere.\n",
    "str=\"Python is everywhere\"\n",
    "print(str.split(' '))"
   ]
  },
  {
   "cell_type": "code",
   "execution_count": 20,
   "metadata": {},
   "outputs": [
    {
     "name": "stdout",
     "output_type": "stream",
     "text": [
      "!dlrow olleH"
     ]
    }
   ],
   "source": [
    "#5Print the string Hello World! in reverse.\n",
    "str=\"Hello world!\"\n",
    "\n",
    "for i in range(len(str)-1,-1,-1):\n",
    "    print(str[i],end='')"
   ]
  },
  {
   "cell_type": "code",
   "execution_count": 21,
   "metadata": {},
   "outputs": [
    {
     "name": "stdout",
     "output_type": "stream",
     "text": [
      "HOW ARE YOU?\n"
     ]
    }
   ],
   "source": [
    "#6Convert the string How are you? in uppercase.\n",
    "str=\"how are you?\"\n",
    "print(str.upper())"
   ]
  },
  {
   "cell_type": "code",
   "execution_count": 23,
   "metadata": {},
   "outputs": [
    {
     "name": "stdout",
     "output_type": "stream",
     "text": [
      "how is it going?\n"
     ]
    }
   ],
   "source": [
    "#7Convert the string How Is It Going? in lowercase.\n",
    "str=\"How Is It Going?\"\n",
    "print(str.lower())"
   ]
  },
  {
   "cell_type": "code",
   "execution_count": 24,
   "metadata": {},
   "outputs": [
    {
     "data": {
      "text/plain": [
       "'python is easy to learn'"
      ]
     },
     "execution_count": 24,
     "metadata": {},
     "output_type": "execute_result"
    }
   ],
   "source": [
    "#8join the following list by spaces( ) and print the result.\n",
    "#words = ['Python', 'is', 'easy', 'to', 'learn']\n",
    "words=['python','is','easy','to','learn']\n",
    "(\" \").join(words)"
   ]
  },
  {
   "cell_type": "code",
   "execution_count": 26,
   "metadata": {},
   "outputs": [
    {
     "name": "stdout",
     "output_type": "stream",
     "text": [
      "hello! my friends\n",
      "this is an example of\n",
      "multiline string example\n",
      "yo yo honey singh\n"
     ]
    }
   ],
   "source": [
    "#9Print a multiline string using a single print\n",
    "str='''hello! my friends\n",
    "this is an example of\n",
    "multiline string example\n",
    "yo yo honey singh'''\n",
    "print(str)"
   ]
  },
  {
   "cell_type": "code",
   "execution_count": 27,
   "metadata": {},
   "outputs": [
    {
     "name": "stdout",
     "output_type": "stream",
     "text": [
      "['hello! my friends', 'this is an example of', 'multiline string example', 'yo yo honey singh']\n"
     ]
    }
   ],
   "source": [
    "#10Print this string to move to newline '\\n' is used. (results should look exactly like the provided string)\n",
    "\n",
    "print(str.split('\\n'))"
   ]
  },
  {
   "cell_type": "code",
   "execution_count": 2,
   "metadata": {},
   "outputs": [
    {
     "name": "stdout",
     "output_type": "stream",
     "text": [
      "the variable is 13\n"
     ]
    }
   ],
   "source": [
    "#11Print a variable with some text using a single print function, output should look like following.\n",
    "num=int(input(\"enter the variable\"))\n",
    "print(f\"the variable is {num}\")"
   ]
  },
  {
   "cell_type": "code",
   "execution_count": 4,
   "metadata": {},
   "outputs": [
    {
     "name": "stdout",
     "output_type": "stream",
     "text": [
      "python is great\n"
     ]
    }
   ],
   "source": [
    "#12concatenate the following strings and print the result\n",
    "s1=\"python\"\n",
    "s2=\"is\"\n",
    "s3=\"great\"\n",
    "print(f\"{s1} {s2} {s3}\")"
   ]
  },
  {
   "cell_type": "code",
   "execution_count": null,
   "metadata": {},
   "outputs": [],
   "source": []
  }
 ],
 "metadata": {
  "kernelspec": {
   "display_name": "base",
   "language": "python",
   "name": "python3"
  },
  "language_info": {
   "codemirror_mode": {
    "name": "ipython",
    "version": 3
   },
   "file_extension": ".py",
   "mimetype": "text/x-python",
   "name": "python",
   "nbconvert_exporter": "python",
   "pygments_lexer": "ipython3",
   "version": "3.11.4"
  },
  "orig_nbformat": 4
 },
 "nbformat": 4,
 "nbformat_minor": 2
}
