{
 "cells": [
  {
   "cell_type": "code",
   "execution_count": 1,
   "metadata": {},
   "outputs": [
    {
     "name": "stderr",
     "output_type": "stream",
     "text": [
      "2023-10-31 23:01:40.644 \n",
      "  \u001b[33m\u001b[1mWarning:\u001b[0m to view this Streamlit app on a browser, run it with the following\n",
      "  command:\n",
      "\n",
      "    streamlit run c:\\Users\\anjal\\miniconda3\\Lib\\site-packages\\ipykernel_launcher.py [ARGUMENTS]\n"
     ]
    },
    {
     "ename": "FileNotFoundError",
     "evalue": "No secrets files found. Valid paths for a secrets.toml file are: C:\\Users\\anjal\\.streamlit\\secrets.toml, c:\\Users\\anjal\\Downloads\\digipodium\\miniproject\\.streamlit\\secrets.toml",
     "output_type": "error",
     "traceback": [
      "\u001b[1;31m---------------------------------------------------------------------------\u001b[0m",
      "\u001b[1;31mFileNotFoundError\u001b[0m                         Traceback (most recent call last)",
      "\u001b[1;32mc:\\Users\\anjal\\Downloads\\digipodium\\miniproject\\stock.ipynb Cell 1\u001b[0m line \u001b[0;36m6\n\u001b[0;32m      <a href='vscode-notebook-cell:/c%3A/Users/anjal/Downloads/digipodium/miniproject/stock.ipynb#W0sZmlsZQ%3D%3D?line=2'>3</a>\u001b[0m \u001b[39mimport\u001b[39;00m \u001b[39mpandas\u001b[39;00m \u001b[39mas\u001b[39;00m \u001b[39mpd\u001b[39;00m\n\u001b[0;32m      <a href='vscode-notebook-cell:/c%3A/Users/anjal/Downloads/digipodium/miniproject/stock.ipynb#W0sZmlsZQ%3D%3D?line=3'>4</a>\u001b[0m \u001b[39mimport\u001b[39;00m \u001b[39mplotly\u001b[39;00m\u001b[39m.\u001b[39;00m\u001b[39mgraph_objs\u001b[39;00m \u001b[39mas\u001b[39;00m \u001b[39mgo\u001b[39;00m\n\u001b[1;32m----> <a href='vscode-notebook-cell:/c%3A/Users/anjal/Downloads/digipodium/miniproject/stock.ipynb#W0sZmlsZQ%3D%3D?line=5'>6</a>\u001b[0m API_KEY \u001b[39m=\u001b[39m st\u001b[39m.\u001b[39msecrets[\u001b[39m\"\u001b[39m\u001b[39mapi\u001b[39m\u001b[39m\"\u001b[39m][\u001b[39m\"\u001b[39m\u001b[39miex_key\u001b[39m\u001b[39m\"\u001b[39m]\n\u001b[0;32m      <a href='vscode-notebook-cell:/c%3A/Users/anjal/Downloads/digipodium/miniproject/stock.ipynb#W0sZmlsZQ%3D%3D?line=6'>7</a>\u001b[0m API_BASE_URL \u001b[39m=\u001b[39m \u001b[39m\"\u001b[39m\u001b[39mhttps://cloud.iexapis.com/stable/\u001b[39m\u001b[39m\"\u001b[39m\n",
      "File \u001b[1;32mc:\\Users\\anjal\\miniconda3\\Lib\\site-packages\\streamlit\\runtime\\secrets.py:305\u001b[0m, in \u001b[0;36mSecrets.__getitem__\u001b[1;34m(self, key)\u001b[0m\n\u001b[0;32m    299\u001b[0m \u001b[39m\u001b[39m\u001b[39m\"\"\"Return the value with the given key. If no such key\u001b[39;00m\n\u001b[0;32m    300\u001b[0m \u001b[39mexists, raise a KeyError.\u001b[39;00m\n\u001b[0;32m    301\u001b[0m \n\u001b[0;32m    302\u001b[0m \u001b[39mThread-safe.\u001b[39;00m\n\u001b[0;32m    303\u001b[0m \u001b[39m\"\"\"\u001b[39;00m\n\u001b[0;32m    304\u001b[0m \u001b[39mtry\u001b[39;00m:\n\u001b[1;32m--> 305\u001b[0m     value \u001b[39m=\u001b[39m \u001b[39mself\u001b[39m\u001b[39m.\u001b[39m_parse(\u001b[39mTrue\u001b[39;00m)[key]\n\u001b[0;32m    306\u001b[0m     \u001b[39mif\u001b[39;00m \u001b[39mnot\u001b[39;00m \u001b[39misinstance\u001b[39m(value, Mapping):\n\u001b[0;32m    307\u001b[0m         \u001b[39mreturn\u001b[39;00m value\n",
      "File \u001b[1;32mc:\\Users\\anjal\\miniconda3\\Lib\\site-packages\\streamlit\\runtime\\secrets.py:214\u001b[0m, in \u001b[0;36mSecrets._parse\u001b[1;34m(self, print_exceptions)\u001b[0m\n\u001b[0;32m    212\u001b[0m     \u001b[39mif\u001b[39;00m print_exceptions:\n\u001b[0;32m    213\u001b[0m         st\u001b[39m.\u001b[39merror(err_msg)\n\u001b[1;32m--> 214\u001b[0m     \u001b[39mraise\u001b[39;00m \u001b[39mFileNotFoundError\u001b[39;00m(err_msg)\n\u001b[0;32m    216\u001b[0m \u001b[39mif\u001b[39;00m \u001b[39mlen\u001b[39m([p \u001b[39mfor\u001b[39;00m p \u001b[39min\u001b[39;00m \u001b[39mself\u001b[39m\u001b[39m.\u001b[39m_file_paths \u001b[39mif\u001b[39;00m os\u001b[39m.\u001b[39mpath\u001b[39m.\u001b[39mexists(p)]) \u001b[39m>\u001b[39m \u001b[39m1\u001b[39m:\n\u001b[0;32m    217\u001b[0m     _LOGGER\u001b[39m.\u001b[39minfo(\n\u001b[0;32m    218\u001b[0m         \u001b[39mf\u001b[39m\u001b[39m\"\u001b[39m\u001b[39mSecrets found in multiple locations: \u001b[39m\u001b[39m{\u001b[39;00m\u001b[39m'\u001b[39m\u001b[39m, \u001b[39m\u001b[39m'\u001b[39m\u001b[39m.\u001b[39mjoin(\u001b[39mself\u001b[39m\u001b[39m.\u001b[39m_file_paths)\u001b[39m}\u001b[39;00m\u001b[39m. \u001b[39m\u001b[39m\"\u001b[39m\n\u001b[0;32m    219\u001b[0m         \u001b[39m\"\u001b[39m\u001b[39mWhen multiple secret.toml files exist, local secrets will take precedence over global secrets.\u001b[39m\u001b[39m\"\u001b[39m\n\u001b[0;32m    220\u001b[0m     )\n",
      "\u001b[1;31mFileNotFoundError\u001b[0m: No secrets files found. Valid paths for a secrets.toml file are: C:\\Users\\anjal\\.streamlit\\secrets.toml, c:\\Users\\anjal\\Downloads\\digipodium\\miniproject\\.streamlit\\secrets.toml"
     ]
    }
   ],
   "source": [
    "import streamlit as st\n",
    "import requests\n",
    "import pandas as pd\n",
    "import plotly.graph_objs as go\n",
    "\n",
    "API_KEY = st.secrets[\"api\"][\"iex_key\"]\n",
    "API_BASE_URL = \"https://cloud.iexapis.com/stable/\""
   ]
  }
 ],
 "metadata": {
  "kernelspec": {
   "display_name": "base",
   "language": "python",
   "name": "python3"
  },
  "language_info": {
   "codemirror_mode": {
    "name": "ipython",
    "version": 3
   },
   "file_extension": ".py",
   "mimetype": "text/x-python",
   "name": "python",
   "nbconvert_exporter": "python",
   "pygments_lexer": "ipython3",
   "version": "3.11.4"
  }
 },
 "nbformat": 4,
 "nbformat_minor": 2
}
