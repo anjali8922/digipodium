{
 "cells": [
  {
   "cell_type": "markdown",
   "metadata": {},
   "source": [
    "there are 4 type of function\n",
    "- non parameterized function"
   ]
  },
  {
   "cell_type": "code",
   "execution_count": 51,
   "metadata": {},
   "outputs": [],
   "source": [
    "# define a function\n",
    "def message():\n",
    "    print(\"hello world\")"
   ]
  },
  {
   "cell_type": "code",
   "execution_count": 52,
   "metadata": {},
   "outputs": [
    {
     "name": "stdout",
     "output_type": "stream",
     "text": [
      "hello world\n"
     ]
    }
   ],
   "source": [
    "#call(use)\n",
    "message()"
   ]
  },
  {
   "cell_type": "code",
   "execution_count": 53,
   "metadata": {},
   "outputs": [],
   "source": [
    "def si():\n",
    "    p=int(input(\"enter principle amount:\"))\n",
    "    r=int(input(\"enter rate of intest:\"))\n",
    "    t=int(input(\"enter the time:\"))\n",
    "    si=p*r*t/100\n",
    "    print(f\"simple intrest is {si}\")"
   ]
  },
  {
   "cell_type": "code",
   "execution_count": 54,
   "metadata": {},
   "outputs": [
    {
     "name": "stdout",
     "output_type": "stream",
     "text": [
      "simple intrest is 1.68\n"
     ]
    }
   ],
   "source": [
    "si()"
   ]
  },
  {
   "cell_type": "code",
   "execution_count": 55,
   "metadata": {},
   "outputs": [],
   "source": [
    "#3 parametersized function\n",
    "#1 required parametersized\n",
    "def hypotenuse(p,b):\n",
    "    h=(p**2+b**2)**.5\n",
    "    print(f\"hyp:{h}\")"
   ]
  },
  {
   "cell_type": "code",
   "execution_count": 56,
   "metadata": {},
   "outputs": [
    {
     "name": "stdout",
     "output_type": "stream",
     "text": [
      "hyp:5.0\n"
     ]
    }
   ],
   "source": [
    "hypotenuse(3,4)"
   ]
  },
  {
   "cell_type": "code",
   "execution_count": 57,
   "metadata": {},
   "outputs": [],
   "source": [
    "def hypotenuse(p :int ,b:int):\n",
    "    ''' this function take perpenducular and base and calculate hypotenuse\n",
    "    '''\n",
    "    h=(p**2+b**2)**.5\n",
    "    print(f'hyp{h}')    "
   ]
  },
  {
   "cell_type": "code",
   "execution_count": 58,
   "metadata": {},
   "outputs": [
    {
     "name": "stdout",
     "output_type": "stream",
     "text": [
      "hyp36.05551275463989\n"
     ]
    }
   ],
   "source": [
    "hypotenuse(12,34)"
   ]
  },
  {
   "cell_type": "code",
   "execution_count": 59,
   "metadata": {},
   "outputs": [],
   "source": [
    "#2 default parameters\n",
    "#- always start giving defaults from the right side\n",
    "#- default valuse can be of any data types\n",
    "def summer(a, b ,c = 1,d = 1):\n",
    "    print(a+b+c+d)"
   ]
  },
  {
   "cell_type": "code",
   "execution_count": 60,
   "metadata": {},
   "outputs": [
    {
     "name": "stdout",
     "output_type": "stream",
     "text": [
      "13\n"
     ]
    }
   ],
   "source": [
    "summer(1,3,4,5)"
   ]
  },
  {
   "cell_type": "code",
   "execution_count": 61,
   "metadata": {},
   "outputs": [
    {
     "name": "stdout",
     "output_type": "stream",
     "text": [
      "22\n"
     ]
    }
   ],
   "source": [
    "summer(1 ,6,7,8)"
   ]
  },
  {
   "cell_type": "code",
   "execution_count": 62,
   "metadata": {},
   "outputs": [
    {
     "name": "stdout",
     "output_type": "stream",
     "text": [
      "20\n"
     ]
    }
   ],
   "source": [
    "summer(10,8)"
   ]
  },
  {
   "cell_type": "code",
   "execution_count": 63,
   "metadata": {},
   "outputs": [],
   "source": [
    "def area_circle(r=1):\n",
    "    area=22/7*r*r\n",
    "    print(f'the area of cirle is = {area}')"
   ]
  },
  {
   "cell_type": "code",
   "execution_count": 64,
   "metadata": {},
   "outputs": [
    {
     "name": "stdout",
     "output_type": "stream",
     "text": [
      "the area of cirle is = 314.2857142857143\n"
     ]
    }
   ],
   "source": [
    "area_circle(10)"
   ]
  },
  {
   "cell_type": "markdown",
   "metadata": {},
   "source": [
    "keyword arguments(named parameters)"
   ]
  },
  {
   "cell_type": "code",
   "execution_count": 65,
   "metadata": {},
   "outputs": [
    {
     "name": "stdout",
     "output_type": "stream",
     "text": [
      "10\n",
      "14\n",
      "17\n",
      "27\n",
      "25\n",
      "the area of cirle is = 1257.142857142857\n"
     ]
    }
   ],
   "source": [
    "summer(1,2,3,4)\n",
    "summer(a=3,b=5,c=1,d=5)\n",
    "summer(1,3,c=4,d=9)\n",
    "summer(c=9,d=8,b=3,a=7)\n",
    "summer(12,4,d=8)\n",
    "area_circle(r=20)"
   ]
  },
  {
   "cell_type": "markdown",
   "metadata": {},
   "source": [
    "- variable arguments (datatype is tuple)"
   ]
  },
  {
   "cell_type": "code",
   "execution_count": 66,
   "metadata": {},
   "outputs": [],
   "source": [
    "def mean(*data:int):\n",
    "    ans=sum(data)/len(data)\n",
    "    print(f'the average = {ans}')"
   ]
  },
  {
   "cell_type": "code",
   "execution_count": 67,
   "metadata": {},
   "outputs": [
    {
     "name": "stdout",
     "output_type": "stream",
     "text": [
      "the average = 4.428571428571429\n"
     ]
    }
   ],
   "source": [
    "mean(1,3,4,5,5,6,7)"
   ]
  },
  {
   "cell_type": "code",
   "execution_count": 68,
   "metadata": {},
   "outputs": [],
   "source": [
    "#del function() "
   ]
  },
  {
   "cell_type": "markdown",
   "metadata": {},
   "source": [
    "- variable keyword arguments( datatype is dict)"
   ]
  },
  {
   "cell_type": "code",
   "execution_count": 1,
   "metadata": {},
   "outputs": [],
   "source": [
    "def task(**details):\n",
    "    for name,value in details.items():\n",
    "        print(f'{name:10}{value}')"
   ]
  },
  {
   "cell_type": "code",
   "execution_count": 2,
   "metadata": {},
   "outputs": [
    {
     "name": "stdout",
     "output_type": "stream",
     "text": [
      "title     learn datatypes\n",
      "duration  day\n",
      "credit    1\n"
     ]
    }
   ],
   "source": [
    "task(title='learn datatypes',duration='day',credit=1)"
   ]
  },
  {
   "cell_type": "code",
   "execution_count": 3,
   "metadata": {},
   "outputs": [
    {
     "name": "stdout",
     "output_type": "stream",
     "text": [
      "name      anjali prajapati\n",
      "details   nothing\n",
      "budget    0\n",
      "date      26sep\n"
     ]
    }
   ],
   "source": [
    "task(name=\"anjali prajapati\",\n",
    "     details=\"nothing\",\n",
    "     budget=00,\n",
    "     date=\"26sep\")"
   ]
  },
  {
   "cell_type": "markdown",
   "metadata": {},
   "source": [
    "Function returning value\n"
   ]
  },
  {
   "cell_type": "code",
   "execution_count": 4,
   "metadata": {},
   "outputs": [],
   "source": [
    "def hypotenuse(p :int ,b:int):\n",
    "    ''' this function take perpenducular and base and calculate hypotenuse\n",
    "    '''\n",
    "    h=(p**2+b**2)**.5\n",
    "    return h"
   ]
  },
  {
   "cell_type": "code",
   "execution_count": 5,
   "metadata": {},
   "outputs": [
    {
     "name": "stdout",
     "output_type": "stream",
     "text": [
      "5.830951894845301\n"
     ]
    }
   ],
   "source": [
    "ans=hypotenuse(3,5)\n",
    "print(ans)"
   ]
  },
  {
   "cell_type": "code",
   "execution_count": 6,
   "metadata": {},
   "outputs": [],
   "source": [
    "def cube_area(side):\n",
    "    return 6*side**2"
   ]
  },
  {
   "cell_type": "code",
   "execution_count": 7,
   "metadata": {},
   "outputs": [
    {
     "data": {
      "text/plain": [
       "600"
      ]
     },
     "execution_count": 7,
     "metadata": {},
     "output_type": "execute_result"
    }
   ],
   "source": [
    "cube_area(10)"
   ]
  },
  {
   "cell_type": "code",
   "execution_count": 8,
   "metadata": {},
   "outputs": [],
   "source": [
    "def cube_volume(side):\n",
    "    return side**3\n"
   ]
  },
  {
   "cell_type": "code",
   "execution_count": 9,
   "metadata": {},
   "outputs": [
    {
     "name": "stdout",
     "output_type": "stream",
     "text": [
      "1000 600\n"
     ]
    }
   ],
   "source": [
    "cv=cube_volume(10)\n",
    "ca=cube_area(10)\n",
    "print(cv,ca)"
   ]
  },
  {
   "cell_type": "code",
   "execution_count": 10,
   "metadata": {},
   "outputs": [
    {
     "name": "stdout",
     "output_type": "stream",
     "text": [
      "1029\n"
     ]
    }
   ],
   "source": [
    "x=cube_volume(10)+29\n",
    "print(x)"
   ]
  },
  {
   "cell_type": "code",
   "execution_count": 11,
   "metadata": {},
   "outputs": [],
   "source": [
    "def string(words):\n",
    "    return len(words)\n"
   ]
  },
  {
   "cell_type": "code",
   "execution_count": 13,
   "metadata": {},
   "outputs": [
    {
     "data": {
      "text/plain": [
       "3"
      ]
     },
     "execution_count": 13,
     "metadata": {},
     "output_type": "execute_result"
    }
   ],
   "source": [
    "string(\"any\")"
   ]
  },
  {
   "cell_type": "markdown",
   "metadata": {},
   "source": [
    "## Remove all vowel from a string using a function"
   ]
  },
  {
   "cell_type": "code",
   "execution_count": 38,
   "metadata": {},
   "outputs": [],
   "source": [
    "def remove_vowels(content):\n",
    "    vowels=\"aeiouAEIOU\"\n",
    "    for char in vowels:\n",
    "        content= content.replace(char,' ')\n",
    "    return content"
   ]
  },
  {
   "cell_type": "code",
   "execution_count": 39,
   "metadata": {},
   "outputs": [
    {
     "data": {
      "text/plain": [
       "'h ll '"
      ]
     },
     "execution_count": 39,
     "metadata": {},
     "output_type": "execute_result"
    }
   ],
   "source": [
    "remove_vowels(\"hello\")"
   ]
  },
  {
   "cell_type": "markdown",
   "metadata": {},
   "source": [
    "## find all indexes of a substring in a given string using a function"
   ]
  },
  {
   "cell_type": "code",
   "execution_count": 29,
   "metadata": {},
   "outputs": [],
   "source": [
    "def indexes(substr,content):\n",
    "    start_pos= 0\n",
    "    idx_list= []\n",
    "    for i in range(content.count(substr)):\n",
    "        idx=content.find(substr,start_pos)\n",
    "        if idx==-1:\n",
    "            break\n",
    "        idx_list.append(idx)\n",
    "        start_pos=idx+1\n",
    "    return idx_list    "
   ]
  },
  {
   "cell_type": "code",
   "execution_count": 32,
   "metadata": {},
   "outputs": [
    {
     "data": {
      "text/plain": [
       "[9, 16, 47]"
      ]
     },
     "execution_count": 32,
     "metadata": {},
     "output_type": "execute_result"
    }
   ],
   "source": [
    "indexes('a',\" this is a program for counting the indexes of a string\")"
   ]
  },
  {
   "cell_type": "markdown",
   "metadata": {},
   "source": [
    "extract all bi-grams from a string using s function"
   ]
  },
  {
   "cell_type": "code",
   "execution_count": 36,
   "metadata": {},
   "outputs": [],
   "source": [
    "#def split(content):\n",
    " #   start_pos=0\n",
    "  #3 for i in  range (content.split(\" \")):\n",
    "    #    idx=content.split(start_pos)\n",
    "     #   if idx==-1:\n",
    "      #      break\n",
    "       # idx_list.append(idx)\n",
    "        #3start_pos=idx+1\n",
    "    #return idx_list    "
   ]
  },
  {
   "cell_type": "code",
   "execution_count": 37,
   "metadata": {},
   "outputs": [
    {
     "ename": "TypeError",
     "evalue": "'list' object cannot be interpreted as an integer",
     "output_type": "error",
     "traceback": [
      "\u001b[1;31m---------------------------------------------------------------------------\u001b[0m",
      "\u001b[1;31mTypeError\u001b[0m                                 Traceback (most recent call last)",
      "\u001b[1;32mc:\\Users\\anjal\\OneDrive\\Desktop\\digipodium\\function\\userfun.ipynb Cell 44\u001b[0m line \u001b[0;36m1\n\u001b[1;32m----> <a href='vscode-notebook-cell:/c%3A/Users/anjal/OneDrive/Desktop/digipodium/function/userfun.ipynb#X61sZmlsZQ%3D%3D?line=0'>1</a>\u001b[0m split(\u001b[39m\"\u001b[39m\u001b[39mhi there my name is anjali\u001b[39m\u001b[39m\"\u001b[39m)\n",
      "\u001b[1;32mc:\\Users\\anjal\\OneDrive\\Desktop\\digipodium\\function\\userfun.ipynb Cell 44\u001b[0m line \u001b[0;36m4\n\u001b[0;32m      <a href='vscode-notebook-cell:/c%3A/Users/anjal/OneDrive/Desktop/digipodium/function/userfun.ipynb#X61sZmlsZQ%3D%3D?line=1'>2</a>\u001b[0m start_pos\u001b[39m=\u001b[39m\u001b[39m0\u001b[39m\n\u001b[0;32m      <a href='vscode-notebook-cell:/c%3A/Users/anjal/OneDrive/Desktop/digipodium/function/userfun.ipynb#X61sZmlsZQ%3D%3D?line=2'>3</a>\u001b[0m idx_list\u001b[39m=\u001b[39m[]\n\u001b[1;32m----> <a href='vscode-notebook-cell:/c%3A/Users/anjal/OneDrive/Desktop/digipodium/function/userfun.ipynb#X61sZmlsZQ%3D%3D?line=3'>4</a>\u001b[0m \u001b[39mfor\u001b[39;00m i \u001b[39min\u001b[39;00m  \u001b[39mrange\u001b[39m (content\u001b[39m.\u001b[39msplit(\u001b[39m\"\u001b[39m\u001b[39m \u001b[39m\u001b[39m\"\u001b[39m)):\n\u001b[0;32m      <a href='vscode-notebook-cell:/c%3A/Users/anjal/OneDrive/Desktop/digipodium/function/userfun.ipynb#X61sZmlsZQ%3D%3D?line=4'>5</a>\u001b[0m     idx\u001b[39m=\u001b[39mcontent\u001b[39m.\u001b[39msplit(start_pos)\n\u001b[0;32m      <a href='vscode-notebook-cell:/c%3A/Users/anjal/OneDrive/Desktop/digipodium/function/userfun.ipynb#X61sZmlsZQ%3D%3D?line=5'>6</a>\u001b[0m     \u001b[39mif\u001b[39;00m idx\u001b[39m==\u001b[39m\u001b[39m-\u001b[39m\u001b[39m1\u001b[39m:\n",
      "\u001b[1;31mTypeError\u001b[0m: 'list' object cannot be interpreted as an integer"
     ]
    }
   ],
   "source": [
    "#split(\"hi there my name is anjali\")"
   ]
  },
  {
   "cell_type": "markdown",
   "metadata": {},
   "source": [
    "### remove all punctuations from a given string\n"
   ]
  },
  {
   "cell_type": "code",
   "execution_count": 40,
   "metadata": {},
   "outputs": [],
   "source": [
    "def remove_punctuations(content):\n",
    "    punctuations=\".,/'?!\"\n",
    "    for char in punctuations:\n",
    "        content= content.replace(char,' ')\n",
    "    return content"
   ]
  },
  {
   "cell_type": "code",
   "execution_count": 41,
   "metadata": {},
   "outputs": [
    {
     "data": {
      "text/plain": [
       "'hi my name is anjali  💀 '"
      ]
     },
     "execution_count": 41,
     "metadata": {},
     "output_type": "execute_result"
    }
   ],
   "source": [
    "remove_punctuations(\"hi,my name is anjali. 💀!\")"
   ]
  },
  {
   "cell_type": "code",
   "execution_count": null,
   "metadata": {},
   "outputs": [],
   "source": []
  }
 ],
 "metadata": {
  "kernelspec": {
   "display_name": "base",
   "language": "python",
   "name": "python3"
  },
  "language_info": {
   "codemirror_mode": {
    "name": "ipython",
    "version": 3
   },
   "file_extension": ".py",
   "mimetype": "text/x-python",
   "name": "python",
   "nbconvert_exporter": "python",
   "pygments_lexer": "ipython3",
   "version": "3.11.4"
  },
  "orig_nbformat": 4
 },
 "nbformat": 4,
 "nbformat_minor": 2
}
