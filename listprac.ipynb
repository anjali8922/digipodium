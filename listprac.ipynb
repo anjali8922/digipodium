{
 "cells": [
  {
   "cell_type": "code",
   "execution_count": 6,
   "metadata": {},
   "outputs": [
    {
     "name": "stdout",
     "output_type": "stream",
     "text": [
      "[2, 3, 4, 5, 6]\n"
     ]
    }
   ],
   "source": [
    "''''1Write a program that creates an empty list and then asks \n",
    "the user to input integers to add to the list. Print the final list.'''\n",
    "list=[]\n",
    "for i in range(5):\n",
    "    str=int(input(\"enter the input : \"))\n",
    "    list.append(str) \n",
    "print(list)   "
   ]
  },
  {
   "cell_type": "code",
   "execution_count": 10,
   "metadata": {},
   "outputs": [
    {
     "name": "stdout",
     "output_type": "stream",
     "text": [
      "no😒\n"
     ]
    }
   ],
   "source": [
    "'''2Write a program that creates a list of integers and then asks \n",
    "the user to input an integer to check if it exists in the list. Print a message'''\n",
    "\n",
    "list=[1,4,5,6,7,8,9,3,0,2,10]\n",
    "m1=int(input(\"enter the number\"))\n",
    "for i in list:\n",
    "     if list[i]==m1:\n",
    "          print(\"yes💀\")\n",
    "          break\n",
    "else:\n",
    "     print(\"no😒\")"
   ]
  },
  {
   "cell_type": "code",
   "execution_count": 14,
   "metadata": {},
   "outputs": [
    {
     "name": "stdout",
     "output_type": "stream",
     "text": [
      "['albert', 'alert', 'firm', 'for', 'surfexel', 'things']\n",
      "['for', 'firm', 'alert', 'albert', 'things', 'surfexel']\n",
      "['things', 'surfexel', 'for', 'firm', 'alert', 'albert']\n"
     ]
    }
   ],
   "source": [
    "#3Write a program that creates a list of strings and then sorts the list alphabetically. Print the sorted list.\n",
    "list=['alert','albert','things','for','firm','surfexel']\n",
    "list.sort()\n",
    "print(list)\n",
    "list.sort(key=len)\n",
    "print(list)\n",
    "list.sort(reverse=True)\n",
    "print(list)"
   ]
  },
  {
   "cell_type": "code",
   "execution_count": 1,
   "metadata": {},
   "outputs": [
    {
     "name": "stdout",
     "output_type": "stream",
     "text": [
      "the maximum value in list 9\n"
     ]
    }
   ],
   "source": [
    "'''4Write a program that creates a list of integers and then finds \n",
    "the maximum value in the list. Print the maximum value.'''\n",
    "list=[1,2,3,4,5,6,7,8,9]\n",
    "print(\"the maximum value in list\",max(list))"
   ]
  },
  {
   "cell_type": "code",
   "execution_count": null,
   "metadata": {},
   "outputs": [],
   "source": []
  }
 ],
 "metadata": {
  "kernelspec": {
   "display_name": "base",
   "language": "python",
   "name": "python3"
  },
  "language_info": {
   "codemirror_mode": {
    "name": "ipython",
    "version": 3
   },
   "file_extension": ".py",
   "mimetype": "text/x-python",
   "name": "python",
   "nbconvert_exporter": "python",
   "pygments_lexer": "ipython3",
   "version": "3.11.4"
  }
 },
 "nbformat": 4,
 "nbformat_minor": 2
}
