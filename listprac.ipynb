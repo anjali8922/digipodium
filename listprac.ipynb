{
 "cells": [
  {
   "cell_type": "code",
   "execution_count": 6,
   "metadata": {},
   "outputs": [
    {
     "name": "stdout",
     "output_type": "stream",
     "text": [
      "[2, 3, 4, 5, 6]\n"
     ]
    }
   ],
   "source": [
    "''''1Write a program that creates an empty list and then asks \n",
    "the user to input integers to add to the list. Print the final list.'''\n",
    "list=[]\n",
    "for i in range(5):\n",
    "    str=int(input(\"enter the input : \"))\n",
    "    list.append(str) \n",
    "print(list)   "
   ]
  },
  {
   "cell_type": "code",
   "execution_count": 10,
   "metadata": {},
   "outputs": [
    {
     "name": "stdout",
     "output_type": "stream",
     "text": [
      "no😒\n"
     ]
    }
   ],
   "source": [
    "'''2Write a program that creates a list of integers and then asks \n",
    "the user to input an integer to check if it exists in the list. Print a message'''\n",
    "\n",
    "list=[1,4,5,6,7,8,9,3,0,2,10]\n",
    "m1=int(input(\"enter the number\"))\n",
    "for i in list:\n",
    "     if list[i]==m1:\n",
    "          print(\"yes💀\")\n",
    "          break\n",
    "else:\n",
    "     print(\"no😒\")"
   ]
  },
  {
   "cell_type": "code",
   "execution_count": 14,
   "metadata": {},
   "outputs": [
    {
     "name": "stdout",
     "output_type": "stream",
     "text": [
      "['albert', 'alert', 'firm', 'for', 'surfexel', 'things']\n",
      "['for', 'firm', 'alert', 'albert', 'things', 'surfexel']\n",
      "['things', 'surfexel', 'for', 'firm', 'alert', 'albert']\n"
     ]
    }
   ],
   "source": [
    "#3Write a program that creates a list of strings and then sorts the list alphabetically. Print the sorted list.\n",
    "list=['alert','albert','things','for','firm','surfexel']\n",
    "list.sort()\n",
    "print(list)\n",
    "list.sort(key=len)\n",
    "print(list)\n",
    "list.sort(reverse=True)\n",
    "print(list)"
   ]
  },
  {
   "cell_type": "code",
   "execution_count": 1,
   "metadata": {},
   "outputs": [
    {
     "name": "stdout",
     "output_type": "stream",
     "text": [
      "the maximum value in list 9\n"
     ]
    }
   ],
   "source": [
    "'''4Write a program that creates a list of integers and then finds \n",
    "the maximum value in the list. Print the maximum value.'''\n",
    "list=[1,2,3,4,5,6,7,8,9]\n",
    "print(\"the maximum value in list\",max(list))"
   ]
  },
  {
   "cell_type": "code",
   "execution_count": 16,
   "metadata": {},
   "outputs": [
    {
     "ename": "IndexError",
     "evalue": "list index out of range",
     "output_type": "error",
     "traceback": [
      "\u001b[1;31m---------------------------------------------------------------------------\u001b[0m",
      "\u001b[1;31mIndexError\u001b[0m                                Traceback (most recent call last)",
      "\u001b[1;32mc:\\Users\\anjal\\Downloads\\digipodium\\listprac.ipynb Cell 5\u001b[0m line \u001b[0;36m7\n\u001b[0;32m      <a href='vscode-notebook-cell:/c%3A/Users/anjal/Downloads/digipodium/listprac.ipynb#W4sZmlsZQ%3D%3D?line=4'>5</a>\u001b[0m list2\u001b[39m=\u001b[39m[\u001b[39m11\u001b[39m,\u001b[39m9\u001b[39m,\u001b[39m5\u001b[39m,\u001b[39m2\u001b[39m,\u001b[39m1\u001b[39m]\n\u001b[0;32m      <a href='vscode-notebook-cell:/c%3A/Users/anjal/Downloads/digipodium/listprac.ipynb#W4sZmlsZQ%3D%3D?line=5'>6</a>\u001b[0m \u001b[39mfor\u001b[39;00m i ,k \u001b[39min\u001b[39;00m \u001b[39mzip\u001b[39m(list1,list2):\n\u001b[1;32m----> <a href='vscode-notebook-cell:/c%3A/Users/anjal/Downloads/digipodium/listprac.ipynb#W4sZmlsZQ%3D%3D?line=6'>7</a>\u001b[0m     \u001b[39mif\u001b[39;00m list1[i]\u001b[39m==\u001b[39mlist2[k]:\n\u001b[0;32m      <a href='vscode-notebook-cell:/c%3A/Users/anjal/Downloads/digipodium/listprac.ipynb#W4sZmlsZQ%3D%3D?line=8'>9</a>\u001b[0m         \u001b[39mbreak\u001b[39;00m\n\u001b[0;32m     <a href='vscode-notebook-cell:/c%3A/Users/anjal/Downloads/digipodium/listprac.ipynb#W4sZmlsZQ%3D%3D?line=9'>10</a>\u001b[0m     \u001b[39mprint\u001b[39m(\u001b[39mf\u001b[39m\u001b[39m\"\u001b[39m\u001b[39mthe common element is = \u001b[39m\u001b[39m{\u001b[39;00mi\u001b[39m}\u001b[39;00m\u001b[39m\"\u001b[39m)\n",
      "\u001b[1;31mIndexError\u001b[0m: list index out of range"
     ]
    }
   ],
   "source": [
    "'''5 Write a program that creates two lists of integers and then finds the\n",
    " common elements between those two lists. Print the common elements.'''\n",
    "\n",
    "list1=[11,4,6,7,8]\n",
    "list2=[11,9,5,2,1]\n",
    "for i ,k in zip(list1,list2):\n",
    "    if list1[i]==list2[k]:\n",
    "\n",
    "        break\n",
    "    print(f\"the common element is = {i}\")"
   ]
  },
  {
   "cell_type": "code",
   "execution_count": 15,
   "metadata": {},
   "outputs": [
    {
     "name": "stdout",
     "output_type": "stream",
     "text": [
      "['much', 'things', 'thrill']\n"
     ]
    }
   ],
   "source": [
    "'''6 Write a program that creates a list of strings and then removes\n",
    "all elements that contain a specific substring. Print the final list.'''\n",
    "\n",
    "list=['all','much','things','thrill']\n",
    "list.remove('all')\n",
    "print(list)"
   ]
  },
  {
   "cell_type": "code",
   "execution_count": 10,
   "metadata": {},
   "outputs": [],
   "source": [
    "#6\n",
    "mine=[\"the real story\",\n",
    "      \"bharat\",\n",
    "      \"Ameesh\",\n",
    "      \"the truth of youth\",\n",
    "      \"sanatan\",\n",
    "\n",
    "]\n",
    "def safe_remove(val_to_remove):\n",
    "    if val_to_remove in mine:\n",
    "        mine.remove(val_to_remove)\n",
    "        print(f\"{val_to_remove} remove from list\")\n",
    "    else:\n",
    "        print(f\"{val_to_remove} not found\")    "
   ]
  },
  {
   "cell_type": "code",
   "execution_count": 12,
   "metadata": {},
   "outputs": [
    {
     "name": "stdout",
     "output_type": "stream",
     "text": [
      "the real story not found\n",
      "['bharat', 'Ameesh', 'the truth of youth', 'sanatan']\n"
     ]
    }
   ],
   "source": [
    "safe_remove(\"the real story\")\n",
    "print(mine)"
   ]
  },
  {
   "cell_type": "code",
   "execution_count": 22,
   "metadata": {},
   "outputs": [
    {
     "name": "stdout",
     "output_type": "stream",
     "text": [
      "[['little', 'stupid', 'hehehe']]\n"
     ]
    }
   ],
   "source": [
    "''' 7Write a program that creates a nested list and \n",
    "then accesses a specific element in the list. Print the accessed element.'''\n",
    "\n",
    "list=[1,3,4,6,7,['little','stupid','hehehe'],[1,3,4,5,6]]\n",
    "print(list[5:6])"
   ]
  },
  {
   "cell_type": "code",
   "execution_count": 31,
   "metadata": {},
   "outputs": [
    {
     "name": "stdout",
     "output_type": "stream",
     "text": [
      "9\n"
     ]
    },
    {
     "ename": "ValueError",
     "evalue": "list.remove(x): x not in list",
     "output_type": "error",
     "traceback": [
      "\u001b[1;31m---------------------------------------------------------------------------\u001b[0m",
      "\u001b[1;31mValueError\u001b[0m                                Traceback (most recent call last)",
      "\u001b[1;32mc:\\Users\\anjal\\Downloads\\digipodium\\listprac.ipynb Cell 10\u001b[0m line \u001b[0;36m1\n\u001b[0;32m      <a href='vscode-notebook-cell:/c%3A/Users/anjal/Downloads/digipodium/listprac.ipynb#X12sZmlsZQ%3D%3D?line=7'>8</a>\u001b[0m     \u001b[39mfor\u001b[39;00m j \u001b[39min\u001b[39;00m \u001b[39mrange\u001b[39m(i,length):\n\u001b[0;32m      <a href='vscode-notebook-cell:/c%3A/Users/anjal/Downloads/digipodium/listprac.ipynb#X12sZmlsZQ%3D%3D?line=8'>9</a>\u001b[0m            \u001b[39mif\u001b[39;00m i\u001b[39m==\u001b[39mj:\n\u001b[1;32m---> <a href='vscode-notebook-cell:/c%3A/Users/anjal/Downloads/digipodium/listprac.ipynb#X12sZmlsZQ%3D%3D?line=9'>10</a>\u001b[0m             \u001b[39mlist\u001b[39m\u001b[39m.\u001b[39mremove(i)\n\u001b[0;32m     <a href='vscode-notebook-cell:/c%3A/Users/anjal/Downloads/digipodium/listprac.ipynb#X12sZmlsZQ%3D%3D?line=10'>11</a>\u001b[0m \u001b[39mprint\u001b[39m(\u001b[39mlist\u001b[39m)\n",
      "\u001b[1;31mValueError\u001b[0m: list.remove(x): x not in list"
     ]
    }
   ],
   "source": [
    "'''8 Write a program that creates a list of integers and \n",
    "then removes all duplicates from the list. Print the final list.'''\n",
    "\n",
    "list=[1,2,4,5,6,7,5,4,7]\n",
    "length=len(list)\n",
    "print(length)\n",
    "for i in range(0,length):\n",
    "    for j in range(i,length):\n",
    "           if i==j:\n",
    "            list.remove(i)\n",
    "print(list)       "
   ]
  },
  {
   "cell_type": "code",
   "execution_count": null,
   "metadata": {},
   "outputs": [],
   "source": []
  }
 ],
 "metadata": {
  "kernelspec": {
   "display_name": "base",
   "language": "python",
   "name": "python3"
  },
  "language_info": {
   "codemirror_mode": {
    "name": "ipython",
    "version": 3
   },
   "file_extension": ".py",
   "mimetype": "text/x-python",
   "name": "python",
   "nbconvert_exporter": "python",
   "pygments_lexer": "ipython3",
   "version": "3.11.4"
  }
 },
 "nbformat": 4,
 "nbformat_minor": 2
}
