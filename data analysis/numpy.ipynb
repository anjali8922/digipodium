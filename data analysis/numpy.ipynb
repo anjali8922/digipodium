{
 "cells": [
  {
   "cell_type": "markdown",
   "metadata": {},
   "source": [
    "### without numpy doing maths(matrix maths) is very complex in any language"
   ]
  },
  {
   "cell_type": "code",
   "execution_count": 1,
   "metadata": {},
   "outputs": [],
   "source": [
    "import numpy as np"
   ]
  },
  {
   "cell_type": "code",
   "execution_count": 5,
   "metadata": {},
   "outputs": [
    {
     "name": "stdout",
     "output_type": "stream",
     "text": [
      "[[1 2 3]\n",
      " [3 4 5]]\n",
      "<class 'numpy.ndarray'>\n",
      "(2, 3)\n",
      "18\n"
     ]
    }
   ],
   "source": [
    "x=np.array([\n",
    "    [1,2,3],\n",
    "    [3,4,5]\n",
    "])\n",
    "print(x)\n",
    "print(type(x))\n",
    "print(x.shape)\n",
    "print(x.sum())"
   ]
  },
  {
   "cell_type": "code",
   "execution_count": 6,
   "metadata": {},
   "outputs": [
    {
     "name": "stdout",
     "output_type": "stream",
     "text": [
      "18\n",
      "[4 6 8]\n",
      "[ 6 12]\n"
     ]
    }
   ],
   "source": [
    "print(x.sum())\n",
    "print(x.sum(axis=0)) #sum of each column\n",
    "print(x.sum(axis=1))  # sum of each row"
   ]
  },
  {
   "cell_type": "code",
   "execution_count": 8,
   "metadata": {},
   "outputs": [
    {
     "name": "stdout",
     "output_type": "stream",
     "text": [
      "(3,) 1\n",
      "(3, 2) 2\n",
      "(1, 3, 3) 3\n"
     ]
    }
   ],
   "source": [
    "a=np.array([1,2,3]) # 1d array\n",
    "b=np.array([[1,2],[3,4],[4,5]]) # 2d array\n",
    "c=np.array([[[2,3,4],[1,5,6],[8,9,0]]]) # 3d array\n",
    "print(a.shape,a.ndim)\n",
    "print(b.shape,b.ndim)\n",
    "print(c.shape,c.ndim)"
   ]
  },
  {
   "cell_type": "markdown",
   "metadata": {},
   "source": [
    "# Matrix creation\n",
    "- sequential\n",
    "  - arange\n",
    "  - linspace\n",
    "- Rnadom\n",
    "  - rand\n",
    "  - randint\n",
    "  - uniform  "
   ]
  },
  {
   "cell_type": "code",
   "execution_count": 14,
   "metadata": {},
   "outputs": [
    {
     "name": "stdout",
     "output_type": "stream",
     "text": [
      "[0 1 2 3 4 5 6 7 8 9]\n"
     ]
    },
    {
     "data": {
      "text/plain": [
       "array([ 1. ,  1.5,  2. ,  2.5,  3. ,  3.5,  4. ,  4.5,  5. ,  5.5,  6. ,\n",
       "        6.5,  7. ,  7.5,  8. ,  8.5,  9. ,  9.5, 10. , 10.5])"
      ]
     },
     "execution_count": 14,
     "metadata": {},
     "output_type": "execute_result"
    }
   ],
   "source": [
    "x=np.arange(10)\n",
    "print(x)\n",
    "x1=np.arange(1,11,.5)  # start,end,step  #(1,11,1.005)\n",
    "x1"
   ]
  },
  {
   "cell_type": "code",
   "execution_count": 16,
   "metadata": {},
   "outputs": [
    {
     "data": {
      "text/plain": [
       "array([ 1. ,  3.5,  6. ,  8.5, 11. ])"
      ]
     },
     "execution_count": 16,
     "metadata": {},
     "output_type": "execute_result"
    }
   ],
   "source": [
    "y=np.linspace(1,11,5)\n",
    "y"
   ]
  },
  {
   "cell_type": "code",
   "execution_count": 19,
   "metadata": {},
   "outputs": [
    {
     "data": {
      "text/plain": [
       "array([[ 1. ,  1.5,  2. ,  2.5],\n",
       "       [ 3. ,  3.5,  4. ,  4.5],\n",
       "       [ 5. ,  5.5,  6. ,  6.5],\n",
       "       [ 7. ,  7.5,  8. ,  8.5],\n",
       "       [ 9. ,  9.5, 10. , 10.5]])"
      ]
     },
     "execution_count": 19,
     "metadata": {},
     "output_type": "execute_result"
    }
   ],
   "source": [
    "np.arange(1,11,.5).reshape(5,4)     #(4,5) # reshape to 4X5 matrix #reshape(5,2,2)"
   ]
  },
  {
   "cell_type": "code",
   "execution_count": 23,
   "metadata": {},
   "outputs": [
    {
     "data": {
      "text/plain": [
       "array([[ 1. ,  1.5,  2. ,  2.5],\n",
       "       [ 3. ,  3.5,  4. ,  4.5],\n",
       "       [ 5. ,  5.5,  6. ,  6.5],\n",
       "       [ 7. ,  7.5,  8. ,  8.5],\n",
       "       [ 9. ,  9.5, 10. , 10.5]])"
      ]
     },
     "execution_count": 23,
     "metadata": {},
     "output_type": "execute_result"
    }
   ],
   "source": [
    "np.arange(1,11,.5).reshape(5,4)"
   ]
  },
  {
   "cell_type": "code",
   "execution_count": 24,
   "metadata": {},
   "outputs": [
    {
     "name": "stdout",
     "output_type": "stream",
     "text": [
      "[[1 2 3]\n",
      " [4 5 6]]\n",
      "[[4 2 3]\n",
      " [2 6 6]]\n",
      "[[ 5  4  6]\n",
      " [ 6 11 12]]\n",
      "[[-3  0  0]\n",
      " [ 2 -1  0]]\n",
      "[[ 4  4  9]\n",
      " [ 8 30 36]]\n",
      "[[0.25       1.         1.        ]\n",
      " [2.         0.83333333 1.        ]]\n",
      "[[0 1 1]\n",
      " [2 0 1]]\n",
      "[[1 0 0]\n",
      " [0 5 0]]\n",
      "[[    1     4    27]\n",
      " [   16 15625 46656]]\n",
      "[[ True False False]\n",
      " [False  True False]]\n",
      "[[False False False]\n",
      " [ True False False]]\n",
      "[[False  True  True]\n",
      " [ True False  True]]\n",
      "[[ True  True  True]\n",
      " [False  True  True]]\n",
      "[[False  True  True]\n",
      " [False False  True]]\n"
     ]
    }
   ],
   "source": [
    "x1=np.array([[1,2,3],[4,5,6]])\n",
    "x2=np.array([[4,2,3],[2,6,6]])\n",
    "\n",
    "print(x1)\n",
    "print(x2)\n",
    "print(x1+x2)\n",
    "print(x1-x2)\n",
    "print(x1*x2)\n",
    "print(x1/x2)\n",
    "print(x1//x2)\n",
    "print(x1%x2)\n",
    "print(x1**x2)\n",
    "#comparison in numpy results in boolean array\n",
    "print(x1<x2)\n",
    "print(x1>x2)\n",
    "print(x1>=x2)\n",
    "print(x1<=x2)\n",
    "print(x1==x2)"
   ]
  },
  {
   "cell_type": "code",
   "execution_count": 25,
   "metadata": {},
   "outputs": [
    {
     "data": {
      "text/plain": [
       "array([[0.12968592, 0.86853196],\n",
       "       [0.52385307, 0.71811537],\n",
       "       [0.94064041, 0.70796977]])"
      ]
     },
     "execution_count": 25,
     "metadata": {},
     "output_type": "execute_result"
    }
   ],
   "source": [
    "a=np.random.rand(3,2)\n",
    "a"
   ]
  },
  {
   "cell_type": "code",
   "execution_count": 26,
   "metadata": {},
   "outputs": [],
   "source": [
    "np.set_printoptions(precision=2)\n"
   ]
  },
  {
   "cell_type": "code",
   "execution_count": 28,
   "metadata": {},
   "outputs": [
    {
     "data": {
      "text/plain": [
       "array([[1, 7, 6],\n",
       "       [4, 0, 6],\n",
       "       [7, 5, 8]])"
      ]
     },
     "execution_count": 28,
     "metadata": {},
     "output_type": "execute_result"
    }
   ],
   "source": [
    "b=np.random.randint(0,10,(3,3))\n",
    "b"
   ]
  },
  {
   "cell_type": "code",
   "execution_count": 29,
   "metadata": {},
   "outputs": [
    {
     "data": {
      "text/plain": [
       "array([[7.97, 3.27, 3.89],\n",
       "       [9.27, 9.37, 6.84],\n",
       "       [9.75, 4.82, 7.97]])"
      ]
     },
     "execution_count": 29,
     "metadata": {},
     "output_type": "execute_result"
    }
   ],
   "source": [
    "c=np.random.uniform(0,10,(3,3))\n",
    "c"
   ]
  },
  {
   "cell_type": "code",
   "execution_count": null,
   "metadata": {},
   "outputs": [],
   "source": []
  }
 ],
 "metadata": {
  "kernelspec": {
   "display_name": "base",
   "language": "python",
   "name": "python3"
  },
  "language_info": {
   "codemirror_mode": {
    "name": "ipython",
    "version": 3
   },
   "file_extension": ".py",
   "mimetype": "text/x-python",
   "name": "python",
   "nbconvert_exporter": "python",
   "pygments_lexer": "ipython3",
   "version": "3.11.4"
  }
 },
 "nbformat": 4,
 "nbformat_minor": 2
}
