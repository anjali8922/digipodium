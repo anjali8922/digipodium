{
 "cells": [
  {
   "cell_type": "markdown",
   "metadata": {},
   "source": [
    "#string methods\n",
    "- formatting\n",
    "   - uppercase()\n",
    "   - lower()\n",
    "   - 'captailize()'\n",
    "   - "
   ]
  },
  {
   "cell_type": "markdown",
   "metadata": {},
   "source": []
  },
  {
   "cell_type": "code",
   "execution_count": 1,
   "metadata": {},
   "outputs": [],
   "source": [
    "msg=\"this is an example for string formatting\""
   ]
  },
  {
   "cell_type": "code",
   "execution_count": 2,
   "metadata": {},
   "outputs": [
    {
     "data": {
      "text/plain": [
       "'THIS IS AN EXAMPLE FOR STRING FORMATTING'"
      ]
     },
     "execution_count": 2,
     "metadata": {},
     "output_type": "execute_result"
    }
   ],
   "source": [
    "#msg.\n",
    "\n",
    "msg.upper()"
   ]
  },
  {
   "cell_type": "code",
   "execution_count": 3,
   "metadata": {},
   "outputs": [
    {
     "name": "stdout",
     "output_type": "stream",
     "text": [
      "THIS IS AN EXAMPLE FOR STRING FORMATTING\n"
     ]
    }
   ],
   "source": [
    "msg_u=msg.upper()\n",
    "print(msg_u)\n"
   ]
  },
  {
   "cell_type": "code",
   "execution_count": 4,
   "metadata": {},
   "outputs": [
    {
     "name": "stdout",
     "output_type": "stream",
     "text": [
      "this is an example for string formatting\n",
      "This is an example for string formatting\n",
      "This Is An Example For String Formatting\n",
      "THIS IS AN EXAMPLE FOR STRING FORMATTING\n",
      "this is an example for string formatting\n",
      "THIS IS AN EXAMPLE FOR STRING FORMATTING\n"
     ]
    }
   ],
   "source": [
    "print(msg.lower())\n",
    "print(msg.capitalize())\n",
    "print(msg.title())\n",
    "print(msg.swapcase())\n",
    "print(msg.casefold())\n",
    "print(msg_u)"
   ]
  },
  {
   "cell_type": "code",
   "execution_count": 5,
   "metadata": {},
   "outputs": [
    {
     "data": {
      "text/plain": [
       "2"
      ]
     },
     "execution_count": 5,
     "metadata": {},
     "output_type": "execute_result"
    }
   ],
   "source": [
    "msg.find('is')"
   ]
  },
  {
   "cell_type": "code",
   "execution_count": 6,
   "metadata": {},
   "outputs": [
    {
     "data": {
      "text/plain": [
       "5"
      ]
     },
     "execution_count": 6,
     "metadata": {},
     "output_type": "execute_result"
    }
   ],
   "source": [
    "msg.find('is',3)"
   ]
  },
  {
   "cell_type": "code",
   "execution_count": 7,
   "metadata": {},
   "outputs": [
    {
     "data": {
      "text/plain": [
       "-1"
      ]
     },
     "execution_count": 7,
     "metadata": {},
     "output_type": "execute_result"
    }
   ],
   "source": [
    "msg.find('is',6) # -1 means char does not found"
   ]
  },
  {
   "cell_type": "code",
   "execution_count": 8,
   "metadata": {},
   "outputs": [
    {
     "data": {
      "text/plain": [
       "2"
      ]
     },
     "execution_count": 8,
     "metadata": {},
     "output_type": "execute_result"
    }
   ],
   "source": [
    "msg.index('is')"
   ]
  },
  {
   "cell_type": "code",
   "execution_count": 15,
   "metadata": {},
   "outputs": [
    {
     "name": "stdout",
     "output_type": "stream",
     "text": [
      "5\n",
      "5\n",
      "5\n"
     ]
    }
   ],
   "source": [
    "print(msg.rfind('is'))\n",
    "print(msg.rfind('is',3))\n",
    "print(msg.rindex('is'))"
   ]
  },
  {
   "cell_type": "code",
   "execution_count": 12,
   "metadata": {},
   "outputs": [
    {
     "name": "stdout",
     "output_type": "stream",
     "text": [
      "4\n"
     ]
    }
   ],
   "source": [
    "print( msg.count('i'))"
   ]
  },
  {
   "cell_type": "markdown",
   "metadata": {},
   "source": [
    "- validation"
   ]
  },
  {
   "cell_type": "code",
   "execution_count": 20,
   "metadata": {},
   "outputs": [
    {
     "name": "stdout",
     "output_type": "stream",
     "text": [
      "True\n",
      "False\n",
      "True\n",
      "False\n",
      "False\n",
      "True\n"
     ]
    }
   ],
   "source": [
    "name='Vijay'\n",
    "print(name.isalpha())\n",
    "print(name.isdigit())\n",
    "print(name.isalnum())\n",
    "print(name.islower())\n",
    "print(name.isupper())\n",
    "print(name.istitle())"
   ]
  },
  {
   "cell_type": "code",
   "execution_count": 21,
   "metadata": {},
   "outputs": [
    {
     "name": "stdout",
     "output_type": "stream",
     "text": [
      "heloMr.Alex\n",
      "hiMs.Gupta\n",
      "heloMr.Smith\n",
      "hiMs.Smith\n",
      "heloMr.Vijay\n"
     ]
    }
   ],
   "source": [
    "guests=['Mr.Alex','Ms.Gupta','Mr.Smith','Ms.Smith','Mr.Vijay']\n",
    "for name in guests:\n",
    "    if name.startswith('Mr.'):\n",
    "        print(f'helo{name}')\n",
    "    elif name.startswith('Ms.'):\n",
    "        print(f'hi{name}')\n",
    "    else:\n",
    "        print(\"yo\")        "
   ]
  },
  {
   "cell_type": "code",
   "execution_count": 22,
   "metadata": {},
   "outputs": [
    {
     "name": "stdout",
     "output_type": "stream",
     "text": [
      "yo\n",
      "hiMs.Gupta\n",
      "yo\n",
      "hiMs.Smith\n",
      "yo\n"
     ]
    }
   ],
   "source": [
    "guests=['mr.Alex','Ms.Gupta','mr.Smith','Ms.Smith','mr.Vijay']\n",
    "for name in guests:\n",
    "    if name.startswith('Mr.'):\n",
    "        print(f'helo{name}')\n",
    "    elif name.startswith('Ms.'):       #endwith()\n",
    "        print(f'hi{name}')\n",
    "    else:\n",
    "        print(\"yo\")        "
   ]
  },
  {
   "cell_type": "code",
   "execution_count": 23,
   "metadata": {},
   "outputs": [
    {
     "name": "stdout",
     "output_type": "stream",
     "text": [
      "file1.txt text\n",
      "file2.txt text\n",
      "file3.txt text\n",
      "file4.csv csv\n",
      "file5.csv csv\n",
      "file6.csv csv\n"
     ]
    }
   ],
   "source": [
    "files=['file1.txt','file2.txt','file3.txt',\n",
    "       'file4.csv','file5.csv','file6.csv']\n",
    "for file in files:\n",
    "    if file.endswith('txt'): print(f\"{file} text\")\n",
    "    elif file.endswith('csv'): print(f\"{file} csv\")\n",
    "    else: print(f\"{file } unknown\")"
   ]
  },
  {
   "cell_type": "markdown",
   "metadata": {},
   "source": [
    "- Malipulation"
   ]
  },
  {
   "cell_type": "code",
   "execution_count": 31,
   "metadata": {},
   "outputs": [
    {
     "name": "stdout",
     "output_type": "stream",
     "text": [
      " Twinkle twinkle, little star\n",
      "How i wonder what you are,\n",
      "Up above the world so high,\n",
      "Like a dimond in the sky.\n"
     ]
    }
   ],
   "source": [
    "poem=''' Twinkle twinkle, little star\n",
    "How i wonder what you are,\n",
    "Up above the world so high,\n",
    "Like a dimond in the sky.'''\n",
    "print(poem)"
   ]
  },
  {
   "cell_type": "code",
   "execution_count": 32,
   "metadata": {},
   "outputs": [
    {
     "data": {
      "text/plain": [
       "['Twinkle',\n",
       " 'twinkle,',\n",
       " 'little',\n",
       " 'star',\n",
       " 'How',\n",
       " 'i',\n",
       " 'wonder',\n",
       " 'what',\n",
       " 'you',\n",
       " 'are,',\n",
       " 'Up',\n",
       " 'above',\n",
       " 'the',\n",
       " 'world',\n",
       " 'so',\n",
       " 'high,',\n",
       " 'Like',\n",
       " 'a',\n",
       " 'dimond',\n",
       " 'in',\n",
       " 'the',\n",
       " 'sky.']"
      ]
     },
     "execution_count": 32,
     "metadata": {},
     "output_type": "execute_result"
    }
   ],
   "source": [
    "poem.split()"
   ]
  },
  {
   "cell_type": "code",
   "execution_count": 29,
   "metadata": {},
   "outputs": [
    {
     "data": {
      "text/plain": [
       "[' Twinkle twinkle little star',\n",
       " 'How i wonder what you are,',\n",
       " 'Up above the world so high,',\n",
       " 'Like a dimond in the sky.']"
      ]
     },
     "execution_count": 29,
     "metadata": {},
     "output_type": "execute_result"
    }
   ],
   "source": [
    "poem.splitlines()"
   ]
  },
  {
   "cell_type": "code",
   "execution_count": 33,
   "metadata": {},
   "outputs": [
    {
     "data": {
      "text/plain": [
       "[' Twinkle twinkle',\n",
       " ' little star\\nHow i wonder what you are',\n",
       " '\\nUp above the world so high',\n",
       " '\\nLike a dimond in the sky.']"
      ]
     },
     "execution_count": 33,
     "metadata": {},
     "output_type": "execute_result"
    }
   ],
   "source": [
    "poem.split(\",\") # split on comma"
   ]
  },
  {
   "cell_type": "code",
   "execution_count": 36,
   "metadata": {},
   "outputs": [
    {
     "name": "stdout",
     "output_type": "stream",
     "text": [
      "mp4\n",
      "mp3\n",
      "jpg\n",
      "txt\n"
     ]
    }
   ],
   "source": [
    "file=['movie1.mp4','song1.mp3','image1.jpg','text1.txt']\n",
    "for f in file:\n",
    "    name=f.split(\".\")[0] # first part of the file name\n",
    "    print(name)"
   ]
  },
  {
   "cell_type": "code",
   "execution_count": 37,
   "metadata": {},
   "outputs": [
    {
     "data": {
      "text/plain": [
       "'movie1.mp4, song1.mp3, image1.jpg, text1.txt'"
      ]
     },
     "execution_count": 37,
     "metadata": {},
     "output_type": "execute_result"
    }
   ],
   "source": [
    "\", \".join(file)"
   ]
  },
  {
   "cell_type": "code",
   "execution_count": 38,
   "metadata": {},
   "outputs": [
    {
     "name": "stdout",
     "output_type": "stream",
     "text": [
      "c:/users/Zaid/downloads/image.jpg\n"
     ]
    }
   ],
   "source": [
    "path=['c:','users', 'Zaid','downloads','image.jpg']\n",
    "print(\"/\".join(path))"
   ]
  },
  {
   "cell_type": "code",
   "execution_count": null,
   "metadata": {},
   "outputs": [],
   "source": []
  }
 ],
 "metadata": {
  "kernelspec": {
   "display_name": "base",
   "language": "python",
   "name": "python3"
  },
  "language_info": {
   "codemirror_mode": {
    "name": "ipython",
    "version": 3
   },
   "file_extension": ".py",
   "mimetype": "text/x-python",
   "name": "python",
   "nbconvert_exporter": "python",
   "pygments_lexer": "ipython3",
   "version": "3.11.4"
  },
  "orig_nbformat": 4
 },
 "nbformat": 4,
 "nbformat_minor": 2
}
