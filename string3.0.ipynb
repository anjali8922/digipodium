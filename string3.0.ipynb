{
 "cells": [
  {
   "cell_type": "code",
   "execution_count": 2,
   "metadata": {},
   "outputs": [
    {
     "name": "stdout",
     "output_type": "stream",
     "text": [
      "True\n",
      "False\n",
      "False\n",
      "False\n",
      "False\n",
      "False\n",
      "True\n",
      "False\n",
      "True\n",
      "False\n",
      "True\n",
      "False\n",
      "False\n",
      "False\n",
      "False\n",
      "False\n",
      "False\n",
      "False\n",
      "False\n",
      "False\n",
      "True\n",
      "False\n"
     ]
    }
   ],
   "source": [
    "s1='NitiAayog'\n",
    "s2='And Quiet Flows The Don'\n",
    "s3='1234567890'\n",
    "s4='Make $1000 a day'\n",
    "print(s1.isalpha())\n",
    "print(s2.isalpha())\n",
    "print(s3.isalpha())\n",
    "print(s4.isalpha())\n",
    "#to check numeric\n",
    "print(s1.isdigit())\n",
    "print(s2.isdigit())\n",
    "print(s3.isdigit())\n",
    "print(s4.isdigit())\n",
    "#to check alphanumeric\n",
    "print(s1.isalnum())\n",
    "print(s2.isalnum())\n",
    "print(s3.isalnum())\n",
    "print(s4.isalnum())\n",
    "#to check uppercase\n",
    "print(s1.isupper())\n",
    "print(s2.isupper())\n",
    "print(s3.isupper())\n",
    "print(s4.isupper())\n",
    "#to check lowercase\n",
    "print(s1.islower())\n",
    "print(s2.islower())\n",
    "print(s3.islower())\n",
    "print(s4.islower())\n",
    "# to check\n",
    "print(s2.startswith('And'))\n",
    "print(s2.endswith('And'))"
   ]
  },
  {
   "cell_type": "code",
   "execution_count": 4,
   "metadata": {},
   "outputs": [
    {
     "name": "stdout",
     "output_type": "stream",
     "text": [
      "6\n",
      "the terrible tiger tore the towel\n"
     ]
    }
   ],
   "source": [
    "s=\"The Terrible Tiger Tore The Towel\"\n",
    "print(s.count('T'))\n",
    "print(s.replace('T','t'))"
   ]
  },
  {
   "cell_type": "code",
   "execution_count": 1,
   "metadata": {},
   "outputs": [
    {
     "name": "stdout",
     "output_type": "stream",
     "text": [
      "0 T\n",
      "4 T\n",
      "13 T\n",
      "19 T\n",
      "24 T\n",
      "28 T\n",
      "-1\n",
      "the terrible tiger tore the towel\n"
     ]
    }
   ],
   "source": [
    "s=\"The Terrible Tiger Tore The Towel\"\n",
    "pos=s.find('T',0)\n",
    "print(pos,s[pos])\n",
    "pos=s.find('T',pos+1)\n",
    "print(pos,s[pos])\n",
    "pos=s.find('T',pos+1)\n",
    "print(pos,s[pos])\n",
    "pos=s.find('T',pos+1)\n",
    "print(pos,s[pos])\n",
    "pos=s.find('T',pos+1)\n",
    "print(pos,s[pos])\n",
    "pos=s.find('T',pos+1)\n",
    "print(pos,s[pos])\n",
    "pos=s.find('T',pos+1)\n",
    "print(pos)\n",
    "c=s.count('T')\n",
    "s=s.replace('T','t',c)\n",
    "print(s)\n"
   ]
  },
  {
   "cell_type": "code",
   "execution_count": null,
   "metadata": {},
   "outputs": [],
   "source": []
  }
 ],
 "metadata": {
  "kernelspec": {
   "display_name": "base",
   "language": "python",
   "name": "python3"
  },
  "language_info": {
   "codemirror_mode": {
    "name": "ipython",
    "version": 3
   },
   "file_extension": ".py",
   "mimetype": "text/x-python",
   "name": "python",
   "nbconvert_exporter": "python",
   "pygments_lexer": "ipython3",
   "version": "3.11.4"
  }
 },
 "nbformat": 4,
 "nbformat_minor": 2
}
