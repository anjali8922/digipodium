{
 "cells": [
  {
   "cell_type": "code",
   "execution_count": 3,
   "metadata": {},
   "outputs": [
    {
     "data": {
      "text/plain": [
       "['xuv']"
      ]
     },
     "execution_count": 3,
     "metadata": {},
     "output_type": "execute_result"
    }
   ],
   "source": [
    "x=[['xuv'],'500','up120001',30,40,'mahindra','diesel',True,False]\n",
    "\n",
    "x[0]"
   ]
  },
  {
   "cell_type": "code",
   "execution_count": 6,
   "metadata": {},
   "outputs": [],
   "source": [
    "x={\n",
    "    'brand':\"Mahindra\",\n",
    "    'model':'xuv',\n",
    "    'series':'500',\n",
    "    'type':\"diesel\",\n",
    "    \"fuel capacity\":30,\n",
    "    'mileage':10,\n",
    "    'color':'white',\n",
    "    'is_4wd':True,\n",
    "    'color':['red','white','black'],\n",
    "    'tires':(2,4,5,6,7)\n",
    "}"
   ]
  },
  {
   "cell_type": "markdown",
   "metadata": {},
   "source": [
    "- add items\n",
    "- remove items\n",
    "- update items\n",
    "- traverse items\n"
   ]
  },
  {
   "cell_type": "code",
   "execution_count": 7,
   "metadata": {},
   "outputs": [],
   "source": [
    "info={} # empty dict"
   ]
  },
  {
   "cell_type": "code",
   "execution_count": 8,
   "metadata": {},
   "outputs": [
    {
     "data": {
      "text/plain": [
       "{'first_name': 'henry'}"
      ]
     },
     "execution_count": 8,
     "metadata": {},
     "output_type": "execute_result"
    }
   ],
   "source": [
    "#dict ['new-key'] = 'new_vslue ' how to add new data \n",
    "info['first_name']='henry'\n",
    "info"
   ]
  },
  {
   "cell_type": "code",
   "execution_count": 16,
   "metadata": {},
   "outputs": [
    {
     "name": "stdout",
     "output_type": "stream",
     "text": [
      "{'first_name': 'henry', 'last name': 'sugar', 'city': 'banda', 'age': 45}\n"
     ]
    }
   ],
   "source": [
    "info['last name']='sugar'\n",
    "info['age']=45\n",
    "info['city']='banda'\n",
    "print(info)"
   ]
  },
  {
   "cell_type": "markdown",
   "metadata": {},
   "source": [
    "- how to update data\n",
    "dist['existing_key']=new value"
   ]
  },
  {
   "cell_type": "code",
   "execution_count": 12,
   "metadata": {},
   "outputs": [
    {
     "name": "stdout",
     "output_type": "stream",
     "text": [
      "{'first_name': 'henry', 'last name': 'sugar', 'age': 45, 'city': 'london'}\n"
     ]
    }
   ],
   "source": [
    "info['city'] = 'london'\n",
    "print(info)"
   ]
  },
  {
   "cell_type": "markdown",
   "metadata": {},
   "source": [
    "how to remove data\n",
    "dict.pop('existing_key')"
   ]
  },
  {
   "cell_type": "code",
   "execution_count": 17,
   "metadata": {},
   "outputs": [
    {
     "data": {
      "text/plain": [
       "45"
      ]
     },
     "execution_count": 17,
     "metadata": {},
     "output_type": "execute_result"
    }
   ],
   "source": [
    "#how to remove data\n",
    "info.pop('age')"
   ]
  },
  {
   "cell_type": "code",
   "execution_count": 18,
   "metadata": {},
   "outputs": [
    {
     "data": {
      "text/plain": [
       "{'first_name': 'henry', 'last name': 'sugar', 'city': 'banda'}"
      ]
     },
     "execution_count": 18,
     "metadata": {},
     "output_type": "execute_result"
    }
   ],
   "source": [
    "info"
   ]
  },
  {
   "cell_type": "markdown",
   "metadata": {},
   "source": [
    "extract keys and values\n",
    "dict.keys()\n",
    "dict.values()\n",
    "dict.items()\n"
   ]
  },
  {
   "cell_type": "code",
   "execution_count": 19,
   "metadata": {},
   "outputs": [
    {
     "data": {
      "text/plain": [
       "dict_keys(['first_name', 'last name', 'city'])"
      ]
     },
     "execution_count": 19,
     "metadata": {},
     "output_type": "execute_result"
    }
   ],
   "source": [
    "info.keys()"
   ]
  },
  {
   "cell_type": "code",
   "execution_count": 20,
   "metadata": {},
   "outputs": [
    {
     "data": {
      "text/plain": [
       "dict_values(['henry', 'sugar', 'banda'])"
      ]
     },
     "execution_count": 20,
     "metadata": {},
     "output_type": "execute_result"
    }
   ],
   "source": [
    "info.values()"
   ]
  },
  {
   "cell_type": "code",
   "execution_count": 21,
   "metadata": {},
   "outputs": [
    {
     "data": {
      "text/plain": [
       "dict_items([('first_name', 'henry'), ('last name', 'sugar'), ('city', 'banda')])"
      ]
     },
     "execution_count": 21,
     "metadata": {},
     "output_type": "execute_result"
    }
   ],
   "source": [
    "info.items()"
   ]
  },
  {
   "cell_type": "code",
   "execution_count": null,
   "metadata": {},
   "outputs": [],
   "source": [
    "# fectch data from dict\n",
    "''' dic['key] # returns error vif key does not exist\n",
    "dict,get('key)'''# returns None id key does not exist"
   ]
  },
  {
   "cell_type": "code",
   "execution_count": 22,
   "metadata": {},
   "outputs": [
    {
     "data": {
      "text/plain": [
       "'Mahindra'"
      ]
     },
     "execution_count": 22,
     "metadata": {},
     "output_type": "execute_result"
    }
   ],
   "source": [
    "x['brand']"
   ]
  },
  {
   "cell_type": "code",
   "execution_count": 24,
   "metadata": {},
   "outputs": [
    {
     "name": "stdout",
     "output_type": "stream",
     "text": [
      "['red', 'white', 'black']\n"
     ]
    }
   ],
   "source": [
    "print(x['color'])"
   ]
  },
  {
   "cell_type": "code",
   "execution_count": 26,
   "metadata": {},
   "outputs": [
    {
     "name": "stdout",
     "output_type": "stream",
     "text": [
      "Mahindra\n",
      "None\n",
      "None\n"
     ]
    }
   ],
   "source": [
    "print(x.get('brand'))\n",
    "print(x.get('colors'))\n",
    "print(x.get('price'))"
   ]
  },
  {
   "cell_type": "markdown",
   "metadata": {},
   "source": [
    "traversing a dict"
   ]
  },
  {
   "cell_type": "code",
   "execution_count": 27,
   "metadata": {},
   "outputs": [
    {
     "name": "stdout",
     "output_type": "stream",
     "text": [
      "brand\n",
      "model\n",
      "series\n",
      "type\n",
      "fuel capacity\n",
      "mileage\n",
      "color\n",
      "is_4wd\n",
      "tires\n"
     ]
    }
   ],
   "source": [
    "for i in x:\n",
    "    print(i)"
   ]
  },
  {
   "cell_type": "code",
   "execution_count": 28,
   "metadata": {},
   "outputs": [
    {
     "name": "stdout",
     "output_type": "stream",
     "text": [
      "Mahindra\n",
      "xuv\n",
      "500\n",
      "diesel\n",
      "30\n",
      "10\n",
      "['red', 'white', 'black']\n",
      "True\n",
      "(2, 4, 5, 6, 7)\n"
     ]
    }
   ],
   "source": [
    "for i in x:\n",
    "    print(x[i])"
   ]
  },
  {
   "cell_type": "code",
   "execution_count": 31,
   "metadata": {},
   "outputs": [
    {
     "name": "stdout",
     "output_type": "stream",
     "text": [
      "brand --> Mahindra\n",
      "model --> xuv\n",
      "series --> 500\n",
      "type --> diesel\n",
      "fuel capacity --> 30\n",
      "mileage --> 10\n",
      "color --> ['red', 'white', 'black']\n",
      "is_4wd --> True\n",
      "tires --> (2, 4, 5, 6, 7)\n"
     ]
    }
   ],
   "source": [
    "for i in x:\n",
    "    print(i,'-->', x[i])"
   ]
  },
  {
   "cell_type": "code",
   "execution_count": 30,
   "metadata": {},
   "outputs": [
    {
     "name": "stdout",
     "output_type": "stream",
     "text": [
      "brand --> Mahindra\n",
      "model --> xuv\n",
      "series --> 500\n",
      "type --> diesel\n",
      "fuel capacity --> 30\n",
      "mileage --> 10\n",
      "color --> ['red', 'white', 'black']\n",
      "is_4wd --> True\n",
      "tires --> (2, 4, 5, 6, 7)\n"
     ]
    }
   ],
   "source": [
    "#best way to iterate over a dict\n",
    "for k,v in x.items():\n",
    "    print(k,'-->',v)"
   ]
  },
  {
   "cell_type": "code",
   "execution_count": 32,
   "metadata": {},
   "outputs": [],
   "source": [
    "data={\n",
    "      \"sol_keys\": [], \n",
    "      \"validity_checks\": {\n",
    "      \"1219\": {\n",
    "      \"AT\": {\n",
    "        \"sol_hours_with_data\": [\n",
    "          6, \n",
    "          7, \n",
    "          8, \n",
    "          9, \n",
    "          10, \n",
    "          11, \n",
    "          12\n",
    "        ], \n",
    "        \"valid\": False\n",
    "      }, \n",
    "      \"HWS\": {\n",
    "        \"sol_hours_with_data\": [\n",
    "          6, \n",
    "          7, \n",
    "          8, \n",
    "          9, \n",
    "          10, \n",
    "          11, \n",
    "          12\n",
    "        ], \n",
    "        \"valid\": False\n",
    "      }, \n",
    "      \"PRE\": {\n",
    "        \"sol_hours_with_data\": [\n",
    "          6, \n",
    "          7, \n",
    "          8, \n",
    "          9, \n",
    "          10, \n",
    "          11, \n",
    "          12\n",
    "        ], \n",
    "        \"valid\": False\n",
    "      }, \n",
    "      \"WD\": {\n",
    "        \"sol_hours_with_data\": [\n",
    "          6, \n",
    "          7, \n",
    "          8, \n",
    "          9, \n",
    "          10, \n",
    "          11, \n",
    "          12\n",
    "        ], \n",
    "        \"valid\": False\n",
    "      }\n",
    "    }, \n",
    "    \"sol_hours_required\": 18, \n",
    "    \"sols_checked\": [\n",
    "      \"1219\"\n",
    "    ]\n",
    "  }\n",
    "}"
   ]
  },
  {
   "cell_type": "code",
   "execution_count": 34,
   "metadata": {},
   "outputs": [
    {
     "name": "stdout",
     "output_type": "stream",
     "text": [
      "{'sol_keys': [], 'validity_checks': {'1219': {'AT': {'sol_hours_with_data': [6, 7, 8, 9, 10, 11, 12], 'valid': False}, 'HWS': {'sol_hours_with_data': [6, 7, 8, 9, 10, 11, 12], 'valid': False}, 'PRE': {'sol_hours_with_data': [6, 7, 8, 9, 10, 11, 12], 'valid': False}, 'WD': {'sol_hours_with_data': [6, 7, 8, 9, 10, 11, 12], 'valid': False}}, 'sol_hours_required': 18, 'sols_checked': ['1219']}}\n"
     ]
    }
   ],
   "source": [
    "print(data)"
   ]
  },
  {
   "cell_type": "code",
   "execution_count": 36,
   "metadata": {},
   "outputs": [
    {
     "name": "stdout",
     "output_type": "stream",
     "text": [
      "sol_keys --> []\n",
      "validity_checks --> {'1219': {'AT': {'sol_hours_with_data': [6, 7, 8, 9, 10, 11, 12], 'valid': False}, 'HWS': {'sol_hours_with_data': [6, 7, 8, 9, 10, 11, 12], 'valid': False}, 'PRE': {'sol_hours_with_data': [6, 7, 8, 9, 10, 11, 12], 'valid': False}, 'WD': {'sol_hours_with_data': [6, 7, 8, 9, 10, 11, 12], 'valid': False}}, 'sol_hours_required': 18, 'sols_checked': ['1219']}\n",
      "1219 --> {'AT': {'sol_hours_with_data': [6, 7, 8, 9, 10, 11, 12], 'valid': False}, 'HWS': {'sol_hours_with_data': [6, 7, 8, 9, 10, 11, 12], 'valid': False}, 'PRE': {'sol_hours_with_data': [6, 7, 8, 9, 10, 11, 12], 'valid': False}, 'WD': {'sol_hours_with_data': [6, 7, 8, 9, 10, 11, 12], 'valid': False}}\n",
      "AT {'sol_hours_with_data': [6, 7, 8, 9, 10, 11, 12], 'valid': False}\n",
      "HWS {'sol_hours_with_data': [6, 7, 8, 9, 10, 11, 12], 'valid': False}\n",
      "PRE {'sol_hours_with_data': [6, 7, 8, 9, 10, 11, 12], 'valid': False}\n",
      "WD {'sol_hours_with_data': [6, 7, 8, 9, 10, 11, 12], 'valid': False}\n",
      "sol_hours_required --> 18\n",
      "sols_checked --> ['1219']\n"
     ]
    }
   ],
   "source": [
    "for k , v in data.items():\n",
    "    print(k,'-->',v)\n",
    "    if isinstance ( v,dict):\n",
    "        for k1 , v1 in v.items():\n",
    "            print(k1,'-->',v1)\n",
    "            if isinstance (v1,dict):\n",
    "                for k2,v2 in v1.items():\n",
    "                    print(k2,v2)"
   ]
  },
  {
   "cell_type": "code",
   "execution_count": 41,
   "metadata": {},
   "outputs": [],
   "source": [
    "# recursive function\n",
    "def extract(data):\n",
    "    for k , v in data .items():\n",
    "        print(f\"-{k}\")\n",
    "        if isinstance(v,dict):\n",
    "            extract(v)\n",
    "        else:\n",
    "            print('\\t',v)    "
   ]
  },
  {
   "cell_type": "code",
   "execution_count": 42,
   "metadata": {},
   "outputs": [
    {
     "name": "stdout",
     "output_type": "stream",
     "text": [
      "-sol_keys\n",
      "\t []\n",
      "-validity_checks\n",
      "-1219\n",
      "-AT\n",
      "-sol_hours_with_data\n",
      "\t [6, 7, 8, 9, 10, 11, 12]\n",
      "-valid\n",
      "\t False\n",
      "-HWS\n",
      "-sol_hours_with_data\n",
      "\t [6, 7, 8, 9, 10, 11, 12]\n",
      "-valid\n",
      "\t False\n",
      "-PRE\n",
      "-sol_hours_with_data\n",
      "\t [6, 7, 8, 9, 10, 11, 12]\n",
      "-valid\n",
      "\t False\n",
      "-WD\n",
      "-sol_hours_with_data\n",
      "\t [6, 7, 8, 9, 10, 11, 12]\n",
      "-valid\n",
      "\t False\n",
      "-sol_hours_required\n",
      "\t 18\n",
      "-sols_checked\n",
      "\t ['1219']\n"
     ]
    }
   ],
   "source": [
    "extract(data)"
   ]
  },
  {
   "cell_type": "code",
   "execution_count": 3,
   "metadata": {},
   "outputs": [
    {
     "name": "stdout",
     "output_type": "stream",
     "text": [
      "{'name': 'kamal', 'class': 12, 'rollno': 123}\n"
     ]
    }
   ],
   "source": [
    "stu={\n",
    "    'name':'kamal',\n",
    "    'class':12\n",
    "}\n",
    "stu[\"rollno\"]=123\n",
    "print(stu)"
   ]
  },
  {
   "cell_type": "code",
   "execution_count": 5,
   "metadata": {},
   "outputs": [
    {
     "ename": "TypeError",
     "evalue": "'int' object is not iterable",
     "output_type": "error",
     "traceback": [
      "\u001b[1;31m---------------------------------------------------------------------------\u001b[0m",
      "\u001b[1;31mTypeError\u001b[0m                                 Traceback (most recent call last)",
      "\u001b[1;32mc:\\Users\\anjal\\Downloads\\digipodium\\data structure\\dict.ipynb Cell 31\u001b[0m line \u001b[0;36m2\n\u001b[0;32m      <a href='vscode-notebook-cell:/c%3A/Users/anjal/Downloads/digipodium/data%20structure/dict.ipynb#X42sZmlsZQ%3D%3D?line=0'>1</a>\u001b[0m stu\u001b[39m=\u001b[39m{}\n\u001b[1;32m----> <a href='vscode-notebook-cell:/c%3A/Users/anjal/Downloads/digipodium/data%20structure/dict.ipynb#X42sZmlsZQ%3D%3D?line=1'>2</a>\u001b[0m \u001b[39mfor\u001b[39;00m i \u001b[39min\u001b[39;00m \u001b[39m2\u001b[39m:\n\u001b[0;32m      <a href='vscode-notebook-cell:/c%3A/Users/anjal/Downloads/digipodium/data%20structure/dict.ipynb#X42sZmlsZQ%3D%3D?line=2'>3</a>\u001b[0m     m1\u001b[39m=\u001b[39m\u001b[39mint\u001b[39m(\u001b[39minput\u001b[39m(\u001b[39m\"\u001b[39m\u001b[39menter the number\u001b[39m\u001b[39m\"\u001b[39m))\n\u001b[0;32m      <a href='vscode-notebook-cell:/c%3A/Users/anjal/Downloads/digipodium/data%20structure/dict.ipynb#X42sZmlsZQ%3D%3D?line=3'>4</a>\u001b[0m     stu[\u001b[39m'\u001b[39m\u001b[39mnumber\u001b[39m\u001b[39m'\u001b[39m]\u001b[39m=\u001b[39m m1\n",
      "\u001b[1;31mTypeError\u001b[0m: 'int' object is not iterable"
     ]
    }
   ],
   "source": [
    "stu={}\n",
    "for i in 2:\n",
    "    m1=int(input(\"enter the number\"))\n",
    "    stu['number'] = m1   "
   ]
  },
  {
   "cell_type": "code",
   "execution_count": 6,
   "metadata": {},
   "outputs": [
    {
     "name": "stdout",
     "output_type": "stream",
     "text": [
      "{1: 'name', 2: 'shayam', 3: 'deep', 4: 'raja'}\n"
     ]
    }
   ],
   "source": [
    "rollno=[1,2,3,4,5]\n",
    "Name=['name','shayam','deep','raja']\n",
    "str={}\n",
    "for k,v in zip(rollno,Name):\n",
    "        str[k]=v \n",
    "print(str)                   \n",
    "        "
   ]
  },
  {
   "cell_type": "code",
   "execution_count": 7,
   "metadata": {},
   "outputs": [
    {
     "name": "stdout",
     "output_type": "stream",
     "text": [
      "{'number': 67}\n"
     ]
    }
   ],
   "source": [
    "stu={}\n",
    "for i in range(1,6):\n",
    "    m1=int(input(\"enter the number\"))\n",
    "stu['number'] = m1 \n",
    "print(stu)  "
   ]
  },
  {
   "cell_type": "code",
   "execution_count": null,
   "metadata": {},
   "outputs": [],
   "source": []
  }
 ],
 "metadata": {
  "kernelspec": {
   "display_name": "base",
   "language": "python",
   "name": "python3"
  },
  "language_info": {
   "codemirror_mode": {
    "name": "ipython",
    "version": 3
   },
   "file_extension": ".py",
   "mimetype": "text/x-python",
   "name": "python",
   "nbconvert_exporter": "python",
   "pygments_lexer": "ipython3",
   "version": "3.11.4"
  },
  "orig_nbformat": 4
 },
 "nbformat": 4,
 "nbformat_minor": 2
}
