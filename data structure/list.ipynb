{
 "cells": [
  {
   "cell_type": "markdown",
   "metadata": {},
   "source": [
    "- create\n",
    "- indexing and slicing\n",
    "- methods\n",
    "- basics operation\n",
    "- comphresion"
   ]
  },
  {
   "cell_type": "code",
   "execution_count": 13,
   "metadata": {},
   "outputs": [],
   "source": [
    "x=[] #EMPTY LIST\n",
    "a=[1,2,3,4,5,6]\n",
    "b=['alex','alexa','alexas']\n",
    "c=['alex',12,'alexa',34]\n",
    "d=[[1,2,3,4],['alex','alexa'] ,[1,4,5,]] #nested list"
   ]
  },
  {
   "cell_type": "code",
   "execution_count": 14,
   "metadata": {},
   "outputs": [
    {
     "name": "stdout",
     "output_type": "stream",
     "text": [
      "[1, 1, 1, 1, 1, 1, 1, 1, 1, 1]\n"
     ]
    }
   ],
   "source": [
    "w=[1]*10 # duplication\n",
    "print(w)"
   ]
  },
  {
   "cell_type": "code",
   "execution_count": 30,
   "metadata": {},
   "outputs": [
    {
     "name": "stdout",
     "output_type": "stream",
     "text": [
      "['🤷\\u200d♀️', '🤷\\u200d♀️', '🤷\\u200d♀️', '🤷\\u200d♀️', '🤷\\u200d♀️', '🤷\\u200d♀️', '🤷\\u200d♀️', '🤷\\u200d♀️', '🤷\\u200d♀️', '🤷\\u200d♀️', '🤷\\u200d♀️', '🤷\\u200d♀️']\n"
     ]
    }
   ],
   "source": [
    "r=['🤷‍♀️']*12\n",
    "print(r)"
   ]
  },
  {
   "cell_type": "code",
   "execution_count": 15,
   "metadata": {},
   "outputs": [
    {
     "name": "stdout",
     "output_type": "stream",
     "text": [
      "[1, 2, 3, 4, 3, 4, 7, 8, 5]\n",
      "[[1, 2, 3, 4], [3, 4, 7, 8, 5]]\n"
     ]
    }
   ],
   "source": [
    "a=[1,2,3,4]\n",
    "b=[3 ,4,7,8,5]\n",
    "c=a+b\n",
    "print(c) # list concatinaion\n",
    "\n",
    "d=[a,b]\n",
    "print(d) # nested list"
   ]
  },
  {
   "cell_type": "code",
   "execution_count": 16,
   "metadata": {},
   "outputs": [
    {
     "name": "stdout",
     "output_type": "stream",
     "text": [
      "[1, 3, 4]\n",
      "[4, 5, 6]\n",
      "[4, 5, 6, 7, 8, 9, 'alez']\n",
      "[3, 5, 7, 9]\n",
      "[5, 6, 7]\n",
      "['alez', 9, 8, 7, 6, 5, 4, 3, 1]\n"
     ]
    }
   ],
   "source": [
    "x=[1,3,4,5,6,7,8,9,'alez']\n",
    "print(x[:3])\n",
    "print(x[2:5])\n",
    "print(x[2:])\n",
    "print(x[1::2])\n",
    "print(x[3:-3])\n",
    "print(x[::-1])"
   ]
  },
  {
   "cell_type": "code",
   "execution_count": 17,
   "metadata": {},
   "outputs": [
    {
     "name": "stdout",
     "output_type": "stream",
     "text": [
      "1 3 4 5 6 7 8 9 alez "
     ]
    }
   ],
   "source": [
    "for i in x:\n",
    "    print(i,end=' ')"
   ]
  },
  {
   "cell_type": "markdown",
   "metadata": {},
   "source": [
    "- methods\n",
    "  - add\n",
    "    - append\n",
    "    - extend\n",
    "    - insert\n",
    "  - remove\n",
    "    - remove\n",
    "    - pop\n",
    "    - clear\n",
    "  - helper\n",
    "    - index\n",
    "    - count\n",
    "    - sort\n",
    "    - reverse\n",
    "    - copy    "
   ]
  },
  {
   "cell_type": "code",
   "execution_count": 18,
   "metadata": {},
   "outputs": [
    {
     "name": "stdout",
     "output_type": "stream",
     "text": [
      "['the final earth', 'the final desination', 'the last time on earth']\n"
     ]
    }
   ],
   "source": [
    "books=[]\n",
    "books.append(\"the final earth\")\n",
    "books.append('the final desination')\n",
    "books.append(\"the last time on earth\")\n",
    "print(books)"
   ]
  },
  {
   "cell_type": "code",
   "execution_count": 19,
   "metadata": {},
   "outputs": [
    {
     "name": "stdout",
     "output_type": "stream",
     "text": [
      "['the final earth', 'thhe way of king', 'the final desination', 'the end of earth', 'the last time on earth']\n"
     ]
    }
   ],
   "source": [
    "books.insert(1,'thhe way of king')\n",
    "books.insert(3,\"the end of earth\")\n",
    "print(books)"
   ]
  },
  {
   "cell_type": "code",
   "execution_count": 20,
   "metadata": {},
   "outputs": [
    {
     "name": "stdout",
     "output_type": "stream",
     "text": [
      "['twlight saga : new moon', 'twlight saga : eclipse', 'the wheel of time', 'let us python']\n"
     ]
    }
   ],
   "source": [
    "crappy_books=[\n",
    "    \"twlight saga : new moon\",\n",
    "    \"twlight saga : eclipse\",\n",
    "    \"the wheel of time\",\n",
    "    \"let us python\",\n",
    "]\n",
    "print(crappy_books)"
   ]
  },
  {
   "cell_type": "code",
   "execution_count": 21,
   "metadata": {},
   "outputs": [
    {
     "name": "stdout",
     "output_type": "stream",
     "text": [
      "['the final earth', 'thhe way of king', 'the final desination', 'the end of earth', 'the last time on earth', 'twlight saga : new moon', 'twlight saga : eclipse', 'the wheel of time', 'let us python']\n"
     ]
    }
   ],
   "source": [
    "books.extend(crappy_books)\n",
    "print(books)"
   ]
  },
  {
   "cell_type": "code",
   "execution_count": 22,
   "metadata": {},
   "outputs": [
    {
     "name": "stdout",
     "output_type": "stream",
     "text": [
      "[1, 3, 4, 5, 6, 7, 8, 9]\n"
     ]
    }
   ],
   "source": [
    "num=[1,3,4,5]\n",
    "more_num=[6,7,8,9]\n",
    "num.extend(more_num)\n",
    "print(num)"
   ]
  },
  {
   "cell_type": "code",
   "execution_count": 23,
   "metadata": {},
   "outputs": [
    {
     "name": "stdout",
     "output_type": "stream",
     "text": [
      "[[1, 3, 4, 5, 6, 7, 8, 9], [1, 3, 4, 5, 6, 7, 8, 9], [1, 3, 4, 5, 6, 7, 8, 9]]\n"
     ]
    }
   ],
   "source": [
    "num_matrix=[num,num,num]\n",
    "print(num_matrix)\n"
   ]
  },
  {
   "cell_type": "code",
   "execution_count": 24,
   "metadata": {},
   "outputs": [
    {
     "name": "stdout",
     "output_type": "stream",
     "text": [
      "[1, 3, 4, 5, 6, 7, 8, 9, 6, 7, 8, 9]\n"
     ]
    }
   ],
   "source": [
    "all_num=num+more_num\n",
    "print(all_num)"
   ]
  },
  {
   "cell_type": "code",
   "execution_count": 25,
   "metadata": {},
   "outputs": [
    {
     "name": "stdout",
     "output_type": "stream",
     "text": [
      "['the earth is life', 'my life death', 'mera nam', 'gaban', 'the name of life']\n"
     ]
    }
   ],
   "source": [
    "x=[]\n",
    "\n",
    "\n",
    "\n",
    "for i in range(5):\n",
    "    x1=input(\"enter the books name\")\n",
    "    x.append(x1)\n",
    "print(x)    \n",
    "   \n",
    "  "
   ]
  },
  {
   "cell_type": "code",
   "execution_count": 27,
   "metadata": {},
   "outputs": [
    {
     "name": "stdout",
     "output_type": "stream",
     "text": [
      "[6, 7, 8, 8, 9, 1, 2, 3, 4]\n"
     ]
    }
   ],
   "source": [
    "a=[]\n",
    "b=[1,2,3,4]\n",
    "for i in range(5):\n",
    "    x=int(input(\"enter the string\"))\n",
    "    a.append(x)\n",
    "    c=a+b\n",
    "print(c)    "
   ]
  },
  {
   "cell_type": "code",
   "execution_count": null,
   "metadata": {},
   "outputs": [],
   "source": [
    "crappy_books.pop()\n",
    "                                                                                                                                                                                                                                                                                                                                                                                                                                                                                                                                                "
   ]
  },
  {
   "cell_type": "code",
   "execution_count": null,
   "metadata": {},
   "outputs": [],
   "source": [
    "#books.remove(\"the last time on earth\")\n"
   ]
  },
  {
   "cell_type": "code",
   "execution_count": 28,
   "metadata": {},
   "outputs": [],
   "source": [
    "def safe_remove(val_to_remove):\n",
    "    if val_to_remove in x:\n",
    "        x.remove(val_to_remove)\n",
    "        print(f\"{val_to_remove} remove from list\")\n",
    "    else:\n",
    "        print(f\"{val_to_remove} not found\")    "
   ]
  },
  {
   "cell_type": "code",
   "execution_count": 29,
   "metadata": {},
   "outputs": [
    {
     "ename": "TypeError",
     "evalue": "argument of type 'int' is not iterable",
     "output_type": "error",
     "traceback": [
      "\u001b[1;31m---------------------------------------------------------------------------\u001b[0m",
      "\u001b[1;31mTypeError\u001b[0m                                 Traceback (most recent call last)",
      "\u001b[1;32mc:\\Users\\anjal\\OneDrive\\Desktop\\digipodium\\data structure\\list.ipynb Cell 20\u001b[0m line \u001b[0;36m1\n\u001b[1;32m----> <a href='vscode-notebook-cell:/c%3A/Users/anjal/OneDrive/Desktop/digipodium/data%20structure/list.ipynb#X32sZmlsZQ%3D%3D?line=0'>1</a>\u001b[0m safe_remove(\u001b[39m\"\u001b[39m\u001b[39mthe final game\u001b[39m\u001b[39m\"\u001b[39m)\n",
      "\u001b[1;32mc:\\Users\\anjal\\OneDrive\\Desktop\\digipodium\\data structure\\list.ipynb Cell 20\u001b[0m line \u001b[0;36m2\n\u001b[0;32m      <a href='vscode-notebook-cell:/c%3A/Users/anjal/OneDrive/Desktop/digipodium/data%20structure/list.ipynb#X32sZmlsZQ%3D%3D?line=0'>1</a>\u001b[0m \u001b[39mdef\u001b[39;00m \u001b[39msafe_remove\u001b[39m(val_to_remove):\n\u001b[1;32m----> <a href='vscode-notebook-cell:/c%3A/Users/anjal/OneDrive/Desktop/digipodium/data%20structure/list.ipynb#X32sZmlsZQ%3D%3D?line=1'>2</a>\u001b[0m     \u001b[39mif\u001b[39;00m val_to_remove \u001b[39min\u001b[39;00m x:\n\u001b[0;32m      <a href='vscode-notebook-cell:/c%3A/Users/anjal/OneDrive/Desktop/digipodium/data%20structure/list.ipynb#X32sZmlsZQ%3D%3D?line=2'>3</a>\u001b[0m         x\u001b[39m.\u001b[39mremove(val_to_remove)\n\u001b[0;32m      <a href='vscode-notebook-cell:/c%3A/Users/anjal/OneDrive/Desktop/digipodium/data%20structure/list.ipynb#X32sZmlsZQ%3D%3D?line=3'>4</a>\u001b[0m         \u001b[39mprint\u001b[39m(\u001b[39mf\u001b[39m\u001b[39m\"\u001b[39m\u001b[39m{\u001b[39;00mval_to_remove\u001b[39m}\u001b[39;00m\u001b[39m remove from list\u001b[39m\u001b[39m\"\u001b[39m)\n",
      "\u001b[1;31mTypeError\u001b[0m: argument of type 'int' is not iterable"
     ]
    }
   ],
   "source": [
    "safe_remove(\"the final game\")"
   ]
  },
  {
   "cell_type": "code",
   "execution_count": null,
   "metadata": {},
   "outputs": [],
   "source": [
    "output=crappy_books.pop(1)\n",
    "print(output)\n",
    "print(crappy_books)"
   ]
  },
  {
   "cell_type": "code",
   "execution_count": null,
   "metadata": {},
   "outputs": [],
   "source": [
    "crappy_books.clear()\n",
    "print(crappy_books)"
   ]
  },
  {
   "cell_type": "code",
   "execution_count": null,
   "metadata": {},
   "outputs": [],
   "source": [
    "del crappy_books"
   ]
  },
  {
   "cell_type": "code",
   "execution_count": null,
   "metadata": {},
   "outputs": [],
   "source": []
  }
 ],
 "metadata": {
  "kernelspec": {
   "display_name": "base",
   "language": "python",
   "name": "python3"
  },
  "language_info": {
   "codemirror_mode": {
    "name": "ipython",
    "version": 3
   },
   "file_extension": ".py",
   "mimetype": "text/x-python",
   "name": "python",
   "nbconvert_exporter": "python",
   "pygments_lexer": "ipython3",
   "version": "3.11.4"
  },
  "orig_nbformat": 4
 },
 "nbformat": 4,
 "nbformat_minor": 2
}
