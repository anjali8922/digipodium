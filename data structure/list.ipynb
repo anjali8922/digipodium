{
 "cells": [
  {
   "cell_type": "markdown",
   "metadata": {},
   "source": [
    "- create\n",
    "- indexing and slicing\n",
    "- methods\n",
    "- basics operation\n",
    "- comphresion"
   ]
  },
  {
   "cell_type": "code",
   "execution_count": 2,
   "metadata": {},
   "outputs": [],
   "source": [
    "x=[] #EMPTY LIST\n",
    "a=[1,2,3,4,5,6]\n",
    "b=['alex','alexa','alexas']\n",
    "c=['alex',12,'alexa',34]\n",
    "d=[[1,2,3,4],['alex','alexa'] ,[1,4,5,]] #nested list"
   ]
  },
  {
   "cell_type": "code",
   "execution_count": 3,
   "metadata": {},
   "outputs": [
    {
     "name": "stdout",
     "output_type": "stream",
     "text": [
      "[1, 1, 1, 1, 1, 1, 1, 1, 1, 1]\n"
     ]
    }
   ],
   "source": [
    "w=[1]*10 # duplication\n",
    "print(w)"
   ]
  },
  {
   "cell_type": "code",
   "execution_count": 5,
   "metadata": {},
   "outputs": [
    {
     "name": "stdout",
     "output_type": "stream",
     "text": [
      "[1, 2, 3, 4, 3, 4, 7, 8, 5]\n",
      "[[1, 2, 3, 4], [3, 4, 7, 8, 5]]\n"
     ]
    }
   ],
   "source": [
    "a=[1,2,3,4]\n",
    "b=[3 ,4,7,8,5]\n",
    "c=a+b\n",
    "print(c) # list concatinaion\n",
    "\n",
    "d=[a,b]\n",
    "print(d) # nested list"
   ]
  },
  {
   "cell_type": "code",
   "execution_count": 7,
   "metadata": {},
   "outputs": [
    {
     "name": "stdout",
     "output_type": "stream",
     "text": [
      "[1, 3, 4]\n",
      "[4, 5, 6]\n",
      "[4, 5, 6, 7, 8, 9, 'alez']\n",
      "[3, 5, 7, 9]\n",
      "[5, 6, 7]\n",
      "['alez', 9, 8, 7, 6, 5, 4, 3, 1]\n"
     ]
    }
   ],
   "source": [
    "x=[1,3,4,5,6,7,8,9,'alez']\n",
    "print(x[:3])\n",
    "print(x[2:5])\n",
    "print(x[2:])\n",
    "print(x[1::2])\n",
    "print(x[3:-3])\n",
    "print(x[::-1])"
   ]
  },
  {
   "cell_type": "code",
   "execution_count": 8,
   "metadata": {},
   "outputs": [
    {
     "name": "stdout",
     "output_type": "stream",
     "text": [
      "1 3 4 5 6 7 8 9 alez "
     ]
    }
   ],
   "source": [
    "for i in x:\n",
    "    print(i,end=' ')"
   ]
  },
  {
   "cell_type": "markdown",
   "metadata": {},
   "source": [
    "- methods\n",
    "  - add\n",
    "    - append\n",
    "    - extend\n",
    "    - insert\n",
    "  - remove\n",
    "    - remove\n",
    "    - pop\n",
    "    - clear\n",
    "  - helper\n",
    "    - index\n",
    "    - count\n",
    "    - sort\n",
    "    - reverse\n",
    "    - copy    "
   ]
  },
  {
   "cell_type": "code",
   "execution_count": 9,
   "metadata": {},
   "outputs": [
    {
     "name": "stdout",
     "output_type": "stream",
     "text": [
      "['the final earth', 'the final desination', 'the last time on earth']\n"
     ]
    }
   ],
   "source": [
    "books=[]\n",
    "books.append(\"the final earth\")\n",
    "books.append('the final desination')\n",
    "books.append(\"the last time on earth\")\n",
    "print(books)"
   ]
  },
  {
   "cell_type": "code",
   "execution_count": 10,
   "metadata": {},
   "outputs": [
    {
     "name": "stdout",
     "output_type": "stream",
     "text": [
      "['the final earth', 'thhe way of king', 'the final desination', 'the end of earth', 'the last time on earth']\n"
     ]
    }
   ],
   "source": [
    "books.insert(1,'thhe way of king')\n",
    "books.insert(3,\"the end of earth\")\n",
    "print(books)"
   ]
  },
  {
   "cell_type": "code",
   "execution_count": 11,
   "metadata": {},
   "outputs": [
    {
     "name": "stdout",
     "output_type": "stream",
     "text": [
      "['twlight saga : new moon', 'twlight saga : eclipse', 'the wheel of time', 'let us python']\n"
     ]
    }
   ],
   "source": [
    "crappy_books=[\n",
    "    \"twlight saga : new moon\",\n",
    "    \"twlight saga : eclipse\",\n",
    "    \"the wheel of time\",\n",
    "    \"let us python\",\n",
    "]\n",
    "print(crappy_books)"
   ]
  },
  {
   "cell_type": "code",
   "execution_count": 12,
   "metadata": {},
   "outputs": [
    {
     "name": "stdout",
     "output_type": "stream",
     "text": [
      "['the final earth', 'thhe way of king', 'the final desination', 'the end of earth', 'the last time on earth', 'twlight saga : new moon', 'twlight saga : eclipse', 'the wheel of time', 'let us python']\n"
     ]
    }
   ],
   "source": [
    "books.extend(crappy_books)\n",
    "print(books)"
   ]
  },
  {
   "cell_type": "code",
   "execution_count": 13,
   "metadata": {},
   "outputs": [
    {
     "name": "stdout",
     "output_type": "stream",
     "text": [
      "[1, 3, 4, 5, 6, 7, 8, 9]\n"
     ]
    }
   ],
   "source": [
    "num=[1,3,4,5]\n",
    "more_num=[6,7,8,9]\n",
    "num.extend(more_num)\n",
    "print(num)"
   ]
  },
  {
   "cell_type": "code",
   "execution_count": 14,
   "metadata": {},
   "outputs": [
    {
     "name": "stdout",
     "output_type": "stream",
     "text": [
      "[[1, 3, 4, 5, 6, 7, 8, 9], [1, 3, 4, 5, 6, 7, 8, 9], [1, 3, 4, 5, 6, 7, 8, 9]]\n"
     ]
    }
   ],
   "source": [
    "num_matrix=[num,num,num]\n",
    "print(num_matrix)\n"
   ]
  },
  {
   "cell_type": "code",
   "execution_count": 15,
   "metadata": {},
   "outputs": [
    {
     "name": "stdout",
     "output_type": "stream",
     "text": [
      "[1, 3, 4, 5, 6, 7, 8, 9, 6, 7, 8, 9]\n"
     ]
    }
   ],
   "source": [
    "all_num=num+more_num\n",
    "print(all_num)"
   ]
  },
  {
   "cell_type": "code",
   "execution_count": 19,
   "metadata": {},
   "outputs": [
    {
     "name": "stdout",
     "output_type": "stream",
     "text": [
      "None\n"
     ]
    }
   ],
   "source": [
    "x=[ ]\n",
    "for i in range(5):\n",
    "   x1=input(\"enter the books name\")\n",
    "\n",
    "print(x.append(x1))"
   ]
  },
  {
   "cell_type": "code",
   "execution_count": 20,
   "metadata": {},
   "outputs": [
    {
     "data": {
      "text/plain": [
       "'let us python'"
      ]
     },
     "execution_count": 20,
     "metadata": {},
     "output_type": "execute_result"
    }
   ],
   "source": [
    "crappy_books.pop()\n",
    "                                                                                                                                                                                                                                                                                                                                                                                                                                                                                                                                                "
   ]
  },
  {
   "cell_type": "code",
   "execution_count": 21,
   "metadata": {},
   "outputs": [
    {
     "name": "stdout",
     "output_type": "stream",
     "text": [
      "twlight saga : eclipse\n",
      "['twlight saga : new moon', 'the wheel of time']\n"
     ]
    }
   ],
   "source": [
    "output=crappy_books.pop(1)\n",
    "print(output)\n",
    "print(crappy_books)"
   ]
  },
  {
   "cell_type": "code",
   "execution_count": 22,
   "metadata": {},
   "outputs": [
    {
     "name": "stdout",
     "output_type": "stream",
     "text": [
      "[]\n"
     ]
    }
   ],
   "source": [
    "crappy_books.clear()\n",
    "print(crappy_books)"
   ]
  },
  {
   "cell_type": "code",
   "execution_count": 23,
   "metadata": {},
   "outputs": [],
   "source": [
    "del crappy_books"
   ]
  },
  {
   "cell_type": "code",
   "execution_count": null,
   "metadata": {},
   "outputs": [],
   "source": []
  }
 ],
 "metadata": {
  "kernelspec": {
   "display_name": "base",
   "language": "python",
   "name": "python3"
  },
  "language_info": {
   "codemirror_mode": {
    "name": "ipython",
    "version": 3
   },
   "file_extension": ".py",
   "mimetype": "text/x-python",
   "name": "python",
   "nbconvert_exporter": "python",
   "pygments_lexer": "ipython3",
   "version": "3.11.4"
  },
  "orig_nbformat": 4
 },
 "nbformat": 4,
 "nbformat_minor": 2
}
