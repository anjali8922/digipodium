{
 "cells": [
  {
   "cell_type": "markdown",
   "metadata": {},
   "source": [
    "what to understand\n",
    "- class \n",
    "- object(instance)\n",
    "- constructor(__init__)\n",
    "- instance method\n",
    "- data class\n",
    "- inheritance\n",
    "  - overriding method\n",
    "  - multiple inheritance\n",
    "- operator overloading  "
   ]
  },
  {
   "cell_type": "code",
   "execution_count": 1,
   "metadata": {},
   "outputs": [],
   "source": [
    "class one:\n",
    "    pass"
   ]
  },
  {
   "cell_type": "code",
   "execution_count": 2,
   "metadata": {},
   "outputs": [],
   "source": [
    "class student:\n",
    "    rollno=0\n",
    "    klass=0\n",
    "    name=\"\"\n",
    "    \n",
    "    def display(slef):\n",
    "        print(\"i am a student\")\n",
    "    "
   ]
  },
  {
   "cell_type": "code",
   "execution_count": 3,
   "metadata": {},
   "outputs": [
    {
     "name": "stdout",
     "output_type": "stream",
     "text": [
      "i am a student\n",
      "i am a student\n"
     ]
    }
   ],
   "source": [
    "s1=student()\n",
    "s1.display()\n",
    "s1.name=\"anjali\"\n",
    "s1.klass=5\n",
    "s1.rollno=21\n",
    "\n",
    "s2=student()\n",
    "s2.display()\n",
    "s2.name=\"anju\"\n",
    "s2.klass=5\n",
    "s2.rollno=22\n",
    "\n"
   ]
  },
  {
   "cell_type": "code",
   "execution_count": 4,
   "metadata": {},
   "outputs": [],
   "source": [
    "# __method__ is called magic method\n",
    "class Bottle:\n",
    "    def __init__(self,material,content,capacity):\n",
    "        self.material=material\n",
    "        self.content=content\n",
    "        self.capacity=capacity\n",
    "    def check(self):\n",
    "        print(f\"{self.material} bottle with {self.capacity}ml of {self.content}\")    "
   ]
  },
  {
   "cell_type": "code",
   "execution_count": 5,
   "metadata": {},
   "outputs": [],
   "source": [
    "v1=Bottle('plastic','water',1000)\n",
    "v2=Bottle('mud','black',500)\n",
    "v3=Bottle('steel','black water',1000)\n",
    "v4=Bottle('glass','white water',600)\n",
    "v5=Bottle('paper','water',900)\n",
    "\n"
   ]
  },
  {
   "cell_type": "code",
   "execution_count": 6,
   "metadata": {},
   "outputs": [
    {
     "name": "stdout",
     "output_type": "stream",
     "text": [
      "plastic water 1000\n"
     ]
    }
   ],
   "source": [
    "print(v1.material,v1.content,v1.capacity)"
   ]
  },
  {
   "cell_type": "code",
   "execution_count": 7,
   "metadata": {},
   "outputs": [
    {
     "name": "stdout",
     "output_type": "stream",
     "text": [
      "plastic bottle with 1000ml of water\n",
      "mud bottle with 500ml of black\n",
      "steel bottle with 1000ml of black water\n"
     ]
    }
   ],
   "source": [
    "v1.check()\n",
    "v2.check()\n",
    "v3.check()"
   ]
  },
  {
   "cell_type": "code",
   "execution_count": 8,
   "metadata": {},
   "outputs": [
    {
     "name": "stdout",
     "output_type": "stream",
     "text": [
      "mud bottle with 500ml of philip\n"
     ]
    }
   ],
   "source": [
    "v2.content=\"philip\"\n",
    "v2.check()"
   ]
  },
  {
   "cell_type": "code",
   "execution_count": 9,
   "metadata": {},
   "outputs": [
    {
     "name": "stdout",
     "output_type": "stream",
     "text": [
      "Help on class student in module __main__:\n",
      "\n",
      "class student(builtins.object)\n",
      " |  Methods defined here:\n",
      " |  \n",
      " |  display(slef)\n",
      " |  \n",
      " |  ----------------------------------------------------------------------\n",
      " |  Data descriptors defined here:\n",
      " |  \n",
      " |  __dict__\n",
      " |      dictionary for instance variables (if defined)\n",
      " |  \n",
      " |  __weakref__\n",
      " |      list of weak references to the object (if defined)\n",
      " |  \n",
      " |  ----------------------------------------------------------------------\n",
      " |  Data and other attributes defined here:\n",
      " |  \n",
      " |  klass = 0\n",
      " |  \n",
      " |  name = ''\n",
      " |  \n",
      " |  rollno = 0\n",
      "\n"
     ]
    }
   ],
   "source": [
    "help(student)"
   ]
  },
  {
   "cell_type": "markdown",
   "metadata": {},
   "source": [
    "create a class calculator with following method\n",
    "- multiply\n",
    "- divide\n",
    "- exponent\n",
    "- Add \n",
    "- subtact"
   ]
  },
  {
   "cell_type": "code",
   "execution_count": null,
   "metadata": {},
   "outputs": [],
   "source": []
  }
 ],
 "metadata": {
  "kernelspec": {
   "display_name": "base",
   "language": "python",
   "name": "python3"
  },
  "language_info": {
   "codemirror_mode": {
    "name": "ipython",
    "version": 3
   },
   "file_extension": ".py",
   "mimetype": "text/x-python",
   "name": "python",
   "nbconvert_exporter": "python",
   "pygments_lexer": "ipython3",
   "version": "3.11.4"
  }
 },
 "nbformat": 4,
 "nbformat_minor": 2
}
