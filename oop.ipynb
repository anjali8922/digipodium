{
 "cells": [
  {
   "cell_type": "markdown",
   "metadata": {},
   "source": [
    "what to understand\n",
    "- class \n",
    "- object(instance)\n",
    "- constructor(__init__)\n",
    "- instance method\n",
    "- data class\n",
    "- inheritance\n",
    "  - overriding method\n",
    "  - multiple inheritance\n",
    "- operator overloading  "
   ]
  },
  {
   "cell_type": "code",
   "execution_count": 18,
   "metadata": {},
   "outputs": [],
   "source": [
    "class one:\n",
    "    pass"
   ]
  },
  {
   "cell_type": "code",
   "execution_count": 19,
   "metadata": {},
   "outputs": [],
   "source": [
    "class student:\n",
    "    rollno=0\n",
    "    klass=0\n",
    "    name=\"\"\n",
    "    \n",
    "    def display(slef):\n",
    "        print(\"i am a student\")\n",
    "    "
   ]
  },
  {
   "cell_type": "code",
   "execution_count": 20,
   "metadata": {},
   "outputs": [
    {
     "name": "stdout",
     "output_type": "stream",
     "text": [
      "i am a student\n",
      "i am a student\n"
     ]
    }
   ],
   "source": [
    "s1=student()\n",
    "s1.display()\n",
    "s1.name=\"anjali\"\n",
    "s1.klass=5\n",
    "s1.rollno=21\n",
    "\n",
    "s2=student()\n",
    "s2.display()\n",
    "s2.name=\"anju\"\n",
    "s2.klass=5\n",
    "s2.rollno=22\n",
    "\n"
   ]
  },
  {
   "cell_type": "code",
   "execution_count": 21,
   "metadata": {},
   "outputs": [],
   "source": [
    "# __method__ is called magic method\n",
    "class Bottle:\n",
    "    def __init__(self,material,content,capacity):\n",
    "        self.material=material\n",
    "        self.content=content\n",
    "        self.capacity=capacity\n",
    "    def check(self):\n",
    "        print(f\"{self.material} bottle with {self.capacity}ml of {self.content}\")    "
   ]
  },
  {
   "cell_type": "code",
   "execution_count": 22,
   "metadata": {},
   "outputs": [],
   "source": [
    "v1=Bottle('plastic','water',1000)\n",
    "v2=Bottle('mud','black',500)\n",
    "v3=Bottle('steel','black water',1000)\n",
    "v4=Bottle('glass','white water',600)\n",
    "v5=Bottle('paper','water',900)\n",
    "\n"
   ]
  },
  {
   "cell_type": "code",
   "execution_count": 23,
   "metadata": {},
   "outputs": [
    {
     "name": "stdout",
     "output_type": "stream",
     "text": [
      "plastic water 1000\n"
     ]
    }
   ],
   "source": [
    "print(v1.material,v1.content,v1.capacity)"
   ]
  },
  {
   "cell_type": "code",
   "execution_count": 24,
   "metadata": {},
   "outputs": [
    {
     "name": "stdout",
     "output_type": "stream",
     "text": [
      "mud bottle with 500ml of black\n",
      "steel bottle with 1000ml of black water\n"
     ]
    }
   ],
   "source": [
    "#v1.check()\n",
    "v2.check()\n",
    "v3.check()"
   ]
  },
  {
   "cell_type": "code",
   "execution_count": 25,
   "metadata": {},
   "outputs": [
    {
     "name": "stdout",
     "output_type": "stream",
     "text": [
      "mud bottle with 500ml of philip\n"
     ]
    }
   ],
   "source": [
    "v2.content=\"philip\"\n",
    "v2.check()"
   ]
  },
  {
   "cell_type": "code",
   "execution_count": 26,
   "metadata": {},
   "outputs": [
    {
     "name": "stdout",
     "output_type": "stream",
     "text": [
      "Help on class student in module __main__:\n",
      "\n",
      "class student(builtins.object)\n",
      " |  Methods defined here:\n",
      " |  \n",
      " |  display(slef)\n",
      " |  \n",
      " |  ----------------------------------------------------------------------\n",
      " |  Data descriptors defined here:\n",
      " |  \n",
      " |  __dict__\n",
      " |      dictionary for instance variables (if defined)\n",
      " |  \n",
      " |  __weakref__\n",
      " |      list of weak references to the object (if defined)\n",
      " |  \n",
      " |  ----------------------------------------------------------------------\n",
      " |  Data and other attributes defined here:\n",
      " |  \n",
      " |  klass = 0\n",
      " |  \n",
      " |  name = ''\n",
      " |  \n",
      " |  rollno = 0\n",
      "\n"
     ]
    }
   ],
   "source": [
    "help(student)"
   ]
  },
  {
   "cell_type": "markdown",
   "metadata": {},
   "source": [
    "create a class calculator with following method\n",
    "- multiply\n",
    "- divide\n",
    "- exponent\n",
    "- Add \n",
    "- subtact"
   ]
  },
  {
   "cell_type": "code",
   "execution_count": 27,
   "metadata": {},
   "outputs": [],
   "source": [
    "class calc:\n",
    "    def multiply(self,a,b):\n",
    "        return a*b\n",
    "    def divide(self,a,b):\n",
    "        return a/b\n",
    "    def add(self,a,b):\n",
    "        return a+b\n",
    "    def exponent(self,a,b):\n",
    "        return a**b\n",
    "    def subtract(self,a,b):\n",
    "        return a-b\n",
    "    \n"
   ]
  },
  {
   "cell_type": "code",
   "execution_count": 28,
   "metadata": {},
   "outputs": [
    {
     "name": "stdout",
     "output_type": "stream",
     "text": [
      "1\n",
      "6\n",
      "5\n",
      "9\n",
      "1.5\n"
     ]
    }
   ],
   "source": [
    "c=calc()\n",
    "print(c.subtract(3 , 2))\n",
    "print(c.multiply(3 , 2))\n",
    "print(c.add(3 , 2))\n",
    "print(c.exponent(3 , 2))\n",
    "print(c.divide(3 , 2))\n"
   ]
  },
  {
   "cell_type": "code",
   "execution_count": 31,
   "metadata": {},
   "outputs": [
    {
     "name": "stdout",
     "output_type": "stream",
     "text": [
      "plastic bottle with 1000ml of water\n"
     ]
    },
    {
     "data": {
      "text/plain": [
       "<__main__.Bottle at 0x1aeecd09b10>"
      ]
     },
     "execution_count": 31,
     "metadata": {},
     "output_type": "execute_result"
    }
   ],
   "source": [
    "v1.check()\n",
    "v1"
   ]
  },
  {
   "cell_type": "code",
   "execution_count": 32,
   "metadata": {},
   "outputs": [],
   "source": [
    "from dataclasses import dataclass\n"
   ]
  },
  {
   "cell_type": "code",
   "execution_count": 45,
   "metadata": {},
   "outputs": [],
   "source": [
    "@dataclass\n",
    "class recipe:\n",
    "    name:str\n",
    "    ingredients:list\n",
    "    instruction:str =\"no instruction\"\n"
   ]
  },
  {
   "cell_type": "code",
   "execution_count": 34,
   "metadata": {},
   "outputs": [
    {
     "name": "stdout",
     "output_type": "stream",
     "text": [
      "Help on class recipe in module __main__:\n",
      "\n",
      "class recipe(builtins.object)\n",
      " |  recipe(name: str, ingredients: list) -> None\n",
      " |  \n",
      " |  recipe(name: str, ingredients: list)\n",
      " |  \n",
      " |  Methods defined here:\n",
      " |  \n",
      " |  __eq__(self, other)\n",
      " |      Return self==value.\n",
      " |  \n",
      " |  __init__(self, name: str, ingredients: list) -> None\n",
      " |      Initialize self.  See help(type(self)) for accurate signature.\n",
      " |  \n",
      " |  __repr__(self)\n",
      " |      Return repr(self).\n",
      " |  \n",
      " |  ----------------------------------------------------------------------\n",
      " |  Data descriptors defined here:\n",
      " |  \n",
      " |  __dict__\n",
      " |      dictionary for instance variables (if defined)\n",
      " |  \n",
      " |  __weakref__\n",
      " |      list of weak references to the object (if defined)\n",
      " |  \n",
      " |  ----------------------------------------------------------------------\n",
      " |  Data and other attributes defined here:\n",
      " |  \n",
      " |  __annotations__ = {'ingredients': <class 'list'>, 'name': <class 'str'...\n",
      " |  \n",
      " |  __dataclass_fields__ = {'ingredients': Field(name='ingredients',type=<...\n",
      " |  \n",
      " |  __dataclass_params__ = _DataclassParams(init=True,repr=True,eq=True,or...\n",
      " |  \n",
      " |  __hash__ = None\n",
      " |  \n",
      " |  __match_args__ = ('name', 'ingredients')\n",
      " |  \n",
      " |  instruction = 'no instruction'\n",
      " |  \n",
      " |  str = 'no instruction'\n",
      "\n"
     ]
    }
   ],
   "source": [
    "help(recipe)"
   ]
  },
  {
   "cell_type": "code",
   "execution_count": 35,
   "metadata": {},
   "outputs": [],
   "source": [
    "@dataclass\n",
    "class bottels:\n",
    "    material:str\n",
    "    content:str\n",
    "    capacity:int\n",
    "    "
   ]
  },
  {
   "cell_type": "code",
   "execution_count": 46,
   "metadata": {},
   "outputs": [],
   "source": [
    "r1=recipe(\"mac n cheese\",[\"mac\",\"cheese\",\"milk\",\"butter\"])\n",
    "r2=recipe('mango shake',['mango','milk','sugar'],\n",
    "          instruction=\"mix well\")"
   ]
  },
  {
   "cell_type": "code",
   "execution_count": 47,
   "metadata": {},
   "outputs": [
    {
     "name": "stdout",
     "output_type": "stream",
     "text": [
      "recipe(name='mac n cheese', ingredients=['mac', 'cheese', 'milk', 'butter'], instruction='no instruction')\n",
      "recipe(name='mango shake', ingredients=['mango', 'milk', 'sugar'], instruction='mix well')\n",
      "mac n cheese\n"
     ]
    }
   ],
   "source": [
    "print(r1)\n",
    "print(r2)\n",
    "print(r1.name)"
   ]
  },
  {
   "cell_type": "code",
   "execution_count": 49,
   "metadata": {},
   "outputs": [],
   "source": [
    "class person:\n",
    "    def __init__(self,name,age) -> None:\n",
    "        self.age=age\n",
    "        self.name=name\n",
    "\n",
    "    def info(self):\n",
    "        print('person details')\n",
    "        print(f'Name : {self.name}')\n",
    "        print(f'Age {self.age}') \n",
    "        \n",
    "           "
   ]
  },
  {
   "cell_type": "code",
   "execution_count": 50,
   "metadata": {},
   "outputs": [],
   "source": [
    "class student (person):\n",
    "    def __init__(self, name, age,school,klass) -> None:\n",
    "        super().__init__(name, age)\n",
    "        self.school=school\n",
    "        self.klass=klass"
   ]
  },
  {
   "cell_type": "code",
   "execution_count": 55,
   "metadata": {},
   "outputs": [],
   "source": [
    "class sciencestudent (student):\n",
    "    def __init__(self, name, age,school,klass,subject=[]) -> None:\n",
    "        super().__init__(name, age,school,klass)\n",
    "        self.subject=subject"
   ]
  },
  {
   "cell_type": "code",
   "execution_count": 56,
   "metadata": {},
   "outputs": [
    {
     "name": "stdout",
     "output_type": "stream",
     "text": [
      "person details\n",
      "Name : ajay\n",
      "Age 15\n"
     ]
    }
   ],
   "source": [
    "sc1=  sciencestudent('ajay',15,'ABC'  ,'inter',['physics','Math','chemistry'])\n",
    "sc1.info()"
   ]
  },
  {
   "cell_type": "code",
   "execution_count": 64,
   "metadata": {},
   "outputs": [],
   "source": [
    "import sys\n",
    "from typing_extensions import SupportsIndex , Any\n",
    "class superlist(list):\n",
    "    def __init__(self,*args) -> None:\n",
    "        super().__init__(*args)\n",
    "\n",
    "    def gt(self,n):\n",
    "       return [x for x in self  if x>n] \n",
    "    def it(self,n):\n",
    "        return [x for x in self if x<n]\n",
    "    def extract(self,dtype=int):\n",
    "        return [x for x in self if isinstance(x,dtype)]\n",
    "    def index(self,__value:Any,__start:SupportsIndex=0, __stop : SupportsIndex=sys.maxsize) -> int:\n",
    "        if __value in self:\n",
    "            return super().index(__value,__start,__stop)\n",
    "   "
   ]
  },
  {
   "cell_type": "code",
   "execution_count": 67,
   "metadata": {},
   "outputs": [
    {
     "name": "stdout",
     "output_type": "stream",
     "text": [
      "['a', 'b', 'c']\n",
      "[1, 2, 3, 4, 5]\n",
      "None\n"
     ]
    }
   ],
   "source": [
    "#superlist([1,2,3,4,5,6,7])\n",
    "a=superlist([1,2,3,4,5,6,7])\n",
    "a.append(7)\n",
    "a.extend([12,56,78,89])\n",
    "a.gt(8)\n",
    "b=superlist([1,2,3,4,5,'a','b','c'])\n",
    "print(b.extract(str))\n",
    "print(b.extract(int))\n",
    "print(b.index(10))"
   ]
  },
  {
   "cell_type": "code",
   "execution_count": 68,
   "metadata": {},
   "outputs": [],
   "source": [
    "import sys\n",
    "#from typing_extensions import SupportsIndex , Any\n",
    "class superlist(list):\n",
    "    def __init__(self,*args) -> None:\n",
    "        super().__init__(*args)\n",
    "\n",
    "    def gt(self,n):\n",
    "       return [x for x in self  if x>n] \n",
    "    def it(self,n):\n",
    "        return [x for x in self if x<n]\n",
    "    def extract(self,dtype=int):\n",
    "        return [x for x in self if isinstance(x,dtype)]\n",
    "    def index(self,__value,__start=0, __stop=sys.maxsize) -> int:\n",
    "        if __value in self:\n",
    "            return super().index(__value,__start,__stop)\n",
    "   "
   ]
  },
  {
   "cell_type": "code",
   "execution_count": 69,
   "metadata": {},
   "outputs": [
    {
     "name": "stdout",
     "output_type": "stream",
     "text": [
      "['a', 'b', 'c']\n",
      "[1, 2, 3, 4, 5]\n",
      "None\n"
     ]
    }
   ],
   "source": [
    "a=superlist([1,2,3,4,5,6,7])\n",
    "a.append(7)\n",
    "a.extend([12,56,78,89])\n",
    "a.gt(8)\n",
    "b=superlist([1,2,3,4,5,'a','b','c'])\n",
    "print(b.extract(str))\n",
    "print(b.extract(int))\n",
    "print(b.index('be'))"
   ]
  },
  {
   "cell_type": "code",
   "execution_count": null,
   "metadata": {},
   "outputs": [],
   "source": []
  }
 ],
 "metadata": {
  "kernelspec": {
   "display_name": "base",
   "language": "python",
   "name": "python3"
  },
  "language_info": {
   "codemirror_mode": {
    "name": "ipython",
    "version": 3
   },
   "file_extension": ".py",
   "mimetype": "text/x-python",
   "name": "python",
   "nbconvert_exporter": "python",
   "pygments_lexer": "ipython3",
   "version": "3.11.4"
  }
 },
 "nbformat": 4,
 "nbformat_minor": 2
}
