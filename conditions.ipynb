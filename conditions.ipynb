{
 "cells": [
  {
   "cell_type": "markdown",
   "metadata": {},
   "source": [
    "CONDITIONS\n",
    "indentation(pep8)\n"
   ]
  },
  {
   "cell_type": "markdown",
   "metadata": {},
   "source": [
    "indentation is the way to tell the python that block of code\n",
    "indentation means 4 spaces"
   ]
  },
  {
   "cell_type": "code",
   "execution_count": 1,
   "metadata": {},
   "outputs": [
    {
     "name": "stdout",
     "output_type": "stream",
     "text": [
      "x us grator than 6\n"
     ]
    }
   ],
   "source": [
    "x=10\n",
    "if x>6:\n",
    "    print(\"x us grator than 6\")"
   ]
  },
  {
   "cell_type": "code",
   "execution_count": 2,
   "metadata": {},
   "outputs": [],
   "source": [
    "if x<x-3:\n",
    "    print(\"nothing\")"
   ]
  },
  {
   "cell_type": "markdown",
   "metadata": {},
   "source": []
  },
  {
   "cell_type": "code",
   "execution_count": 3,
   "metadata": {},
   "outputs": [
    {
     "name": "stdout",
     "output_type": "stream",
     "text": [
      "x is grator than 5 \n",
      "x is equal to 10\n"
     ]
    }
   ],
   "source": [
    "if x==5:\n",
    "   print(\"x is equal to 5 \")\n",
    "if x>5:\n",
    "   print(\"x is grator than 5 \")\n",
    "if x==10:\n",
    "   print(\"x is equal to 10\")      "
   ]
  },
  {
   "cell_type": "code",
   "execution_count": 10,
   "metadata": {},
   "outputs": [
    {
     "name": "stdout",
     "output_type": "stream",
     "text": [
      "🤷‍♀️username is worng\n"
     ]
    }
   ],
   "source": [
    "username=input(\"enter user name \")\n",
    "password=input(\"enter your password\")\n",
    "if username:\n",
    "    if password:\n",
    "        if username=='anjali' and password=='anjali21':\n",
    "            print(\"✔️ login successfull\")\n",
    "        else:\n",
    "            print(\"❌ login failed!\")\n",
    "    else:\n",
    "        print(\"💀password is empty\")\n",
    "else:\n",
    "    print(\"🤷‍♀️username is worng\")                    "
   ]
  },
  {
   "cell_type": "markdown",
   "metadata": {},
   "source": []
  },
  {
   "cell_type": "markdown",
   "metadata": {},
   "source": [
    "The match-case statement is similar to switch statements in object-oriented languages and is meant to make matching a structure to a case more manageable. It's more powerful and allows for more complicated pattern matching."
   ]
  },
  {
   "cell_type": "code",
   "execution_count": 11,
   "metadata": {},
   "outputs": [
    {
     "name": "stdout",
     "output_type": "stream",
     "text": [
      "sunday is my offday\n"
     ]
    }
   ],
   "source": [
    "offday=input(\"enter your offday\")\n",
    "match(offday):\n",
    "    case'sunday':\n",
    "        print(\"sunday is my offday\")\n",
    "    case 'monday':\n",
    "        print(\"monday is my offday\")\n",
    "    case _:\n",
    "        print(\"i have no offday\")    "
   ]
  },
  {
   "cell_type": "code",
   "execution_count": null,
   "metadata": {},
   "outputs": [],
   "source": []
  }
 ],
 "metadata": {
  "kernelspec": {
   "display_name": "base",
   "language": "python",
   "name": "python3"
  },
  "language_info": {
   "codemirror_mode": {
    "name": "ipython",
    "version": 3
   },
   "file_extension": ".py",
   "mimetype": "text/x-python",
   "name": "python",
   "nbconvert_exporter": "python",
   "pygments_lexer": "ipython3",
   "version": "3.11.4"
  },
  "orig_nbformat": 4
 },
 "nbformat": 4,
 "nbformat_minor": 2
}
