{
 "cells": [
  {
   "cell_type": "markdown",
   "metadata": {},
   "source": [
    "CONDITIONS\n",
    "indentation(pep8)\n"
   ]
  },
  {
   "cell_type": "markdown",
   "metadata": {},
   "source": [
    "indentation is the way to tell the python that block of code\n",
    "indentation means 4 spaces"
   ]
  },
  {
   "cell_type": "code",
   "execution_count": 1,
   "metadata": {},
   "outputs": [
    {
     "name": "stdout",
     "output_type": "stream",
     "text": [
      "x us grator than 6\n"
     ]
    }
   ],
   "source": [
    "x=10\n",
    "if x>6:\n",
    "    print(\"x us grator than 6\")"
   ]
  },
  {
   "cell_type": "code",
   "execution_count": 2,
   "metadata": {},
   "outputs": [],
   "source": [
    "if x<x-3:\n",
    "    print(\"nothing\")"
   ]
  },
  {
   "cell_type": "markdown",
   "metadata": {},
   "source": []
  },
  {
   "cell_type": "code",
   "execution_count": 3,
   "metadata": {},
   "outputs": [
    {
     "name": "stdout",
     "output_type": "stream",
     "text": [
      "x is grator than 5 \n",
      "x is equal to 10\n"
     ]
    }
   ],
   "source": [
    "if x==5:\n",
    "   print(\"x is equal to 5 \")\n",
    "if x>5:\n",
    "   print(\"x is grator than 5 \")\n",
    "if x==10:\n",
    "   print(\"x is equal to 10\")      "
   ]
  },
  {
   "cell_type": "code",
   "execution_count": 10,
   "metadata": {},
   "outputs": [
    {
     "name": "stdout",
     "output_type": "stream",
     "text": [
      "🤷‍♀️username is worng\n"
     ]
    }
   ],
   "source": [
    "username=input(\"enter user name \")\n",
    "password=input(\"enter your password\")\n",
    "if username:\n",
    "    if password:\n",
    "        if username=='anjali' and password=='anjali21':\n",
    "            print(\"✔️ login successfull\")\n",
    "        else:\n",
    "            print(\"❌ login failed!\")\n",
    "    else:\n",
    "        print(\"💀password is empty\")\n",
    "else:\n",
    "    print(\"🤷‍♀️username is worng\")                    "
   ]
  },
  {
   "cell_type": "markdown",
   "metadata": {},
   "source": []
  },
  {
   "cell_type": "markdown",
   "metadata": {},
   "source": [
    "The match-case statement is similar to switch statements in object-oriented languages and is meant to make matching a structure to a case more manageable. It's more powerful and allows for more complicated pattern matching."
   ]
  },
  {
   "cell_type": "code",
   "execution_count": 11,
   "metadata": {},
   "outputs": [
    {
     "name": "stdout",
     "output_type": "stream",
     "text": [
      "sunday is my offday\n"
     ]
    }
   ],
   "source": [
    "offday=input(\"enter your offday\")\n",
    "match(offday):\n",
    "    case'sunday':\n",
    "        print(\"sunday is my offday\")\n",
    "    case 'monday':\n",
    "        print(\"monday is my offday\")\n",
    "    case _:\n",
    "        print(\"i have no offday\")    "
   ]
  },
  {
   "cell_type": "code",
   "execution_count": 2,
   "metadata": {},
   "outputs": [
    {
     "name": "stdout",
     "output_type": "stream",
     "text": [
      "-4\n"
     ]
    }
   ],
   "source": [
    "print(-10//3)"
   ]
  },
  {
   "cell_type": "code",
   "execution_count": 3,
   "metadata": {},
   "outputs": [
    {
     "name": "stdout",
     "output_type": "stream",
     "text": [
      "9.999999999999999e+259\n"
     ]
    }
   ],
   "source": [
    "b = 1e210 / 1e200 * 1e250\n",
    "print(b)"
   ]
  },
  {
   "cell_type": "code",
   "execution_count": 1,
   "metadata": {},
   "outputs": [
    {
     "name": "stdout",
     "output_type": "stream",
     "text": [
      "lo is in x\n"
     ]
    }
   ],
   "source": [
    "x='hello'\n",
    "if 'lo' in x:\n",
    "    print(\"lo is in x\")\n",
    "else:\n",
    "    print(\"lo is not found\")    "
   ]
  },
  {
   "cell_type": "code",
   "execution_count": 5,
   "metadata": {},
   "outputs": [
    {
     "name": "stdout",
     "output_type": "stream",
     "text": [
      "take your medicines quickly\n"
     ]
    }
   ],
   "source": [
    "had_lunch= input(\"did you have lunch(y/n): \")\n",
    "had_medicines=input(\"did you take medicine(y/n):\")\n",
    "if had_lunch== 'yes':\n",
    "    if had_medicines== 'yes':\n",
    "        print(\"very good😊\")\n",
    "    else:\n",
    "        print(\"take your medicines quickly\")\n",
    "else:\n",
    "    print(\"have your lunch \")            \n"
   ]
  },
  {
   "cell_type": "code",
   "execution_count": 6,
   "metadata": {},
   "outputs": [
    {
     "name": "stdout",
     "output_type": "stream",
     "text": [
      "what kind of icecream flavour wouls you like?\n",
      "1.choclate\n",
      "2.vanilla\n",
      "3.strawberry\n",
      "4.butterscotch\n",
      "5.fruit n Nut\n",
      "you have slected choclate flavour\n",
      "you have to pay 35 rupees\n"
     ]
    }
   ],
   "source": [
    "print(\"what kind of icecream flavour wouls you like?\")\n",
    "print(f'1.choclate')\n",
    "print(f'2.vanilla')\n",
    "print(f'3.strawberry')\n",
    "print(f'4.butterscotch')\n",
    "print(f'5.fruit n Nut')\n",
    "\n",
    "choice=input(\"enter your choice\")\n",
    "match choice:\n",
    "    case'choclate':\n",
    "        cost=35\n",
    "    case'vanilla':\n",
    "        cost=30\n",
    "    case 'strawberry':\n",
    "        cost=20 \n",
    "    case 'butterscotch':\n",
    "        cost=40\n",
    "    case' fruit n Nut':\n",
    "        cost=45\n",
    "    case _:\n",
    "        cost=0\n",
    "print(f'you have slected {choice} flavour')        \n",
    "print(f'you have to pay {cost} rupees')\n",
    "        \n",
    "        \n",
    "                   \n"
   ]
  },
  {
   "cell_type": "code",
   "execution_count": 4,
   "metadata": {},
   "outputs": [
    {
     "name": "stdout",
     "output_type": "stream",
     "text": [
      "you have to pay 800.0 rupees\n"
     ]
    }
   ],
   "source": [
    "weight=float(input(\"how much do ou want?\"))\n",
    "if weight==1:price=110\n",
    "elif weight>=2 and weight<=5: price=100*weight\n",
    "elif weight >=6 : price=80*weight\n",
    "#elif weight==10:\n",
    "    #print(\"i dont have much fruits\")\n",
    "print(f'you have to pay {price} rupees')"
   ]
  },
  {
   "cell_type": "code",
   "execution_count": 8,
   "metadata": {},
   "outputs": [
    {
     "name": "stdout",
     "output_type": "stream",
     "text": [
      "x is not even\n"
     ]
    }
   ],
   "source": [
    "x=12893\n",
    "print(\"x is even \") if x % 2==0 else print(\"x is not even\")"
   ]
  },
  {
   "cell_type": "code",
   "execution_count": null,
   "metadata": {},
   "outputs": [],
   "source": []
  }
 ],
 "metadata": {
  "kernelspec": {
   "display_name": "base",
   "language": "python",
   "name": "python3"
  },
  "language_info": {
   "codemirror_mode": {
    "name": "ipython",
    "version": 3
   },
   "file_extension": ".py",
   "mimetype": "text/x-python",
   "name": "python",
   "nbconvert_exporter": "python",
   "pygments_lexer": "ipython3",
   "version": "3.11.4"
  },
  "orig_nbformat": 4
 },
 "nbformat": 4,
 "nbformat_minor": 2
}
