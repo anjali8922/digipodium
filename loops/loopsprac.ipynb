{
 "cells": [
  {
   "cell_type": "code",
   "execution_count": 6,
   "metadata": {},
   "outputs": [
    {
     "name": "stdout",
     "output_type": "stream",
     "text": [
      "1\n",
      "2\n",
      "3\n",
      "4\n",
      "5\n",
      "6\n",
      "7\n",
      "8\n",
      "9\n",
      "10\n"
     ]
    }
   ],
   "source": [
    "#1 \n",
    "for i in range(1,11):\n",
    "    print(i)"
   ]
  },
  {
   "cell_type": "code",
   "execution_count": 10,
   "metadata": {},
   "outputs": [
    {
     "name": "stdout",
     "output_type": "stream",
     "text": [
      "3 is prime number\n"
     ]
    }
   ],
   "source": [
    "#3 \n",
    "num=int(input(\"enter any number\"))\n",
    "\n",
    "if num>1:\n",
    "   for i in range(2,num):\n",
    "        if num%2==0:\n",
    "            print(f\"{num} is not prime \")\n",
    "        else:\n",
    "           print(f\"{num} is prime number\")    \n",
    "else:\n",
    "    print(f\"{num} is not prime number\")"
   ]
  },
  {
   "cell_type": "code",
   "execution_count": 16,
   "metadata": {},
   "outputs": [
    {
     "name": "stdout",
     "output_type": "stream",
     "text": [
      "2 x 1 =  2\n",
      "2 x 2 =  4\n",
      "2 x 3 =  6\n",
      "2 x 4 =  8\n",
      "2 x 5 =  10\n",
      "2 x 6 =  12\n",
      "2 x 7 =  14\n",
      "2 x 8 =  16\n",
      "2 x 9 =  18\n",
      "2 x 10 =  20\n"
     ]
    }
   ],
   "source": [
    "#2\n",
    "num=int(input(\"enter any number\"))\n",
    "n=1\n",
    "while n <11:\n",
    "\n",
    "    print(f\"{num} x {n} = \", num*n)\n",
    "    n=n+1\n"
   ]
  },
  {
   "cell_type": "code",
   "execution_count": 18,
   "metadata": {},
   "outputs": [
    {
     "name": "stdout",
     "output_type": "stream",
     "text": [
      "3 x 1 =  3\n",
      "3 x 2 =  6\n",
      "3 x 3 =  9\n",
      "3 x 4 =  12\n",
      "3 x 5 =  15\n",
      "3 x 6 =  18\n",
      "3 x 7 =  21\n",
      "3 x 8 =  24\n",
      "3 x 9 =  27\n",
      "3 x 10 =  30\n"
     ]
    }
   ],
   "source": [
    "num=int(input(\"enter any number\"))\n",
    "for i in range(1,11):\n",
    "    print(f\"{num} x { i} = \", num*i)"
   ]
  },
  {
   "cell_type": "code",
   "execution_count": 1,
   "metadata": {},
   "outputs": [
    {
     "name": "stdout",
     "output_type": "stream",
     "text": [
      "12 is not prime\n"
     ]
    }
   ],
   "source": [
    "num=int(input(\"enter the number\"))\n",
    "\n",
    "i=2\n",
    "n=0\n",
    "while i<num:\n",
    "    if num%i==0:\n",
    "        n=1\n",
    "        break\n",
    "    \n",
    "    i=i+1\n",
    "if n==0:\n",
    "    print(f\"{num}  is prime\")\n",
    "elif n==1:\n",
    "    print(f\"{num} is not prime\")        \n",
    "\n",
    "    "
   ]
  },
  {
   "cell_type": "code",
   "execution_count": null,
   "metadata": {},
   "outputs": [],
   "source": []
  }
 ],
 "metadata": {
  "kernelspec": {
   "display_name": "base",
   "language": "python",
   "name": "python3"
  },
  "language_info": {
   "codemirror_mode": {
    "name": "ipython",
    "version": 3
   },
   "file_extension": ".py",
   "mimetype": "text/x-python",
   "name": "python",
   "nbconvert_exporter": "python",
   "pygments_lexer": "ipython3",
   "version": "3.11.4"
  },
  "orig_nbformat": 4
 },
 "nbformat": 4,
 "nbformat_minor": 2
}
