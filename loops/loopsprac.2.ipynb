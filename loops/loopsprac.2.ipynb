{
 "cells": [
  {
   "cell_type": "code",
   "execution_count": null,
   "metadata": {},
   "outputs": [],
   "source": [
    "#5\n",
    "num=int(input(\"enter any number:\"))\n",
    "fact=1\n",
    "if num>=1: \n",
    "   for i in range(1,num+1):\n",
    "      fact=fact*i \n",
    "    #if i==0:\n",
    "        #break\n",
    "print(f\"the factorial of {num} is {fact}\")    "
   ]
  },
  {
   "cell_type": "code",
   "execution_count": null,
   "metadata": {},
   "outputs": [],
   "source": [
    "#6Write a program to print the Fibonacci series up to a given limit using a while loop.\n",
    "limit = int(input('Enter the limit - '))\n",
    "\n",
    "num1 = 0\n",
    "\n",
    "num2 = 1\n",
    "\n",
    "print('Fibonacci Series: ')\n",
    "\n",
    "for z in range(0,limit):\n",
    "\n",
    "    if(z<=1):\n",
    "\n",
    "     num3 = z\n",
    "\n",
    "else:\n",
    "\n",
    "    num3 = num1+num2\n",
    "\n",
    "    num1 = num2\n",
    "\n",
    "    num2 = num3\n",
    "\n",
    "print(num3,end=' ') \n"
   ]
  },
  {
   "cell_type": "code",
   "execution_count": 2,
   "metadata": {},
   "outputs": [
    {
     "name": "stdout",
     "output_type": "stream",
     "text": [
      " factorial of 6= 720\n"
     ]
    }
   ],
   "source": [
    "#7\n",
    "num=int(input(\"enter the number :\"))\n",
    "i=1\n",
    "fact=1\n",
    "while i<=num:\n",
    "\n",
    "    fact=fact*i\n",
    "    i=i+1\n",
    "    \n",
    "print(f\" factorial of {num}=\",fact)\n"
   ]
  },
  {
   "cell_type": "code",
   "execution_count": 9,
   "metadata": {},
   "outputs": [
    {
     "name": "stdout",
     "output_type": "stream",
     "text": [
      "9\n"
     ]
    }
   ],
   "source": [
    "#8- Write a program to find the largest element in an array using a for loop.\n",
    "\n",
    "array=[4, 2 ,6, 9,7 , 1]\n",
    "n=len(array)\n",
    "for i in range(0,n):\n",
    "    for j in range(i+1,n):\n",
    "        if (array[i])>(array[j]):\n",
    "            temp=array[i]\n",
    "            array[i]=array[j]\n",
    "            array[j]=temp\n",
    "print(array[-1])            "
   ]
  },
  {
   "cell_type": "code",
   "execution_count": null,
   "metadata": {},
   "outputs": [],
   "source": [
    " #9Write a program to reverse a given string using a while loop.\n",
    "\n",
    "str=input(\"enter the string:\")\n",
    "output=\"\"\n",
    "length=len(str)-1\n",
    "while length>=0:\n",
    "    output +=str[length]\n",
    "    length-=1\n",
    "print(output)    "
   ]
  },
  {
   "cell_type": "code",
   "execution_count": null,
   "metadata": {},
   "outputs": [],
   "source": [
    "str=input(\"enter the string:\")\n",
    "for i in range((len(str)-1),-1,-1):\n",
    "   print(str[i],end='')\n",
    "   #print(str2)"
   ]
  },
  {
   "cell_type": "code",
   "execution_count": null,
   "metadata": {},
   "outputs": [],
   "source": [
    "#10Write a program to print the ASCII values of all uppercase letters using a for loop.\n",
    "\n",
    "str=input(\"enter the string\")\n",
    "msg=str.upper()\n",
    "idx=0\n",
    "for i in msg:\n",
    "    if idx ==1:\n",
    "        break\n",
    "print(f\" the asci value of '{msg}' is =\",ord(i))\n"
   ]
  },
  {
   "cell_type": "code",
   "execution_count": null,
   "metadata": {},
   "outputs": [],
   "source": [
    "#11Write a program to check if a given string is a palindrome using a while loop.\n",
    "\n",
    "str=input(\"enter the string:\")\n",
    "b=str[-1::-1]\n",
    "if str==b:\n",
    "    print(\"the string is palindrome\")\n",
    "else:\n",
    "    print(\"the string is palindrome\")    "
   ]
  },
  {
   "cell_type": "code",
   "execution_count": null,
   "metadata": {},
   "outputs": [],
   "source": [
    "str=input(\"enter the string:\")\n",
    "l=len(str)\n",
    "p=l-1\n",
    "idx=0\n",
    "while idx<p:\n",
    "    if str[idx]==str[p]:\n",
    "        idx +=1\n",
    "        p -=1\n",
    "        print(\"the string is palindrome😊\")\n",
    "        break\n",
    "    else:\n",
    "        print(\"the string is not palindrome😒\") \n",
    "        break   "
   ]
  },
  {
   "cell_type": "code",
   "execution_count": null,
   "metadata": {},
   "outputs": [],
   "source": [
    "#str1=input(\"enter the string\")\n",
    "#for i in range((len(str1)-1),-1,-1):\n",
    " #  str2= print(str1[i],end=\"\")\n",
    "#idx=0\n",
    "#for p1,p2 in zip(str1,str2):\n",
    "\n"
   ]
  },
  {
   "cell_type": "code",
   "execution_count": 5,
   "metadata": {},
   "outputs": [
    {
     "name": "stdout",
     "output_type": "stream",
     "text": [
      "5.8\n"
     ]
    }
   ],
   "source": [
    "#12 Write a program to calculate the average of a list of numbers using a for loop\n",
    "x=[6,8,9,6,0]\n",
    "#a=int(input(\"enter the number:\"))\n",
    "#print(x.append(a))\n",
    "\n",
    "A=sum(x)/len(x)\n",
    "print(A)\n",
    "\n"
   ]
  },
  {
   "cell_type": "code",
   "execution_count": 6,
   "metadata": {},
   "outputs": [
    {
     "name": "stdout",
     "output_type": "stream",
     "text": [
      "6.0\n",
      "[5, 6, 7, 8, 9, 4, 3, 5, 6, 7]\n"
     ]
    }
   ],
   "source": [
    "x=[]\n",
    "n=10\n",
    "for i in range(n):\n",
    "  #n+=1\n",
    "  a=int(input(\"enter the numbers\"))\n",
    "  x.append(a)\n",
    "  A=sum(x)/len(x)\n",
    "print(x)\n",
    "print(A)  \n"
   ]
  },
  {
   "cell_type": "code",
   "execution_count": 11,
   "metadata": {},
   "outputs": [
    {
     "name": "stdout",
     "output_type": "stream",
     "text": [
      "1\n"
     ]
    }
   ],
   "source": [
    "#13 Write a program to find the smallest element in an array using a while loop.\n",
    "array=[4,6,7,9,1,3]\n",
    "n=len(array)\n",
    "for i in range(0,n):\n",
    "    for j in range(i+1,n):\n",
    "        if (array[i]<array[j]):\n",
    "            temp=array[i]\n",
    "            array[i]=array[j]\n",
    "            array[j]=temp\n",
    "print(array[-1])            "
   ]
  },
  {
   "cell_type": "code",
   "execution_count": 19,
   "metadata": {},
   "outputs": [
    {
     "name": "stdout",
     "output_type": "stream",
     "text": [
      "[2, 3, 4, 5, 6, 1, 6]\n",
      "1\n"
     ]
    }
   ],
   "source": [
    "array=[]\n",
    "for item in range(7):\n",
    "    x=int(input(\"enter the numbers:\"))\n",
    "    array.append(x)\n",
    "print(array)\n",
    "n=len(array)\n",
    "for i in range(0,n):\n",
    "    for j in range(i+1,n):\n",
    "        if (array[i]<array[j]):\n",
    "            temp=array[i]\n",
    "            array[i]=array[j]\n",
    "            array[j]=temp\n",
    "print( array[-1])                 "
   ]
  },
  {
   "cell_type": "code",
   "execution_count": 3,
   "metadata": {},
   "outputs": [
    {
     "name": "stdout",
     "output_type": "stream",
     "text": [
      "40\n"
     ]
    }
   ],
   "source": [
    "#14Write a program to calculate the sum of digits of a number using a for loop.\n",
    "\n",
    "a=[]\n",
    "for i in range(8):\n",
    "    x=int(input(\"enter the numbers\"))\n",
    "    a.append(x)\n",
    "A=sum(a)\n",
    "print(f' the sum of numbers={A}')"
   ]
  },
  {
   "cell_type": "code",
   "execution_count": 4,
   "metadata": {},
   "outputs": [
    {
     "name": "stdout",
     "output_type": "stream",
     "text": [
      "2024 is leap year\n",
      "2023 is leap year\n",
      "2025 is leap year\n"
     ]
    },
    {
     "ename": "ValueError",
     "evalue": "invalid literal for int() with base 10: ''",
     "output_type": "error",
     "traceback": [
      "\u001b[1;31m---------------------------------------------------------------------------\u001b[0m",
      "\u001b[1;31mValueError\u001b[0m                                Traceback (most recent call last)",
      "\u001b[1;32mc:\\Users\\anjal\\OneDrive\\Desktop\\digipodium\\loops\\loopsprac.2.ipynb Cell 16\u001b[0m line \u001b[0;36m4\n\u001b[0;32m      <a href='vscode-notebook-cell:/c%3A/Users/anjal/OneDrive/Desktop/digipodium/loops/loopsprac.2.ipynb#X21sZmlsZQ%3D%3D?line=0'>1</a>\u001b[0m \u001b[39m#15Write a program to check if a given year is a leap year using a while loop.\u001b[39;00m\n\u001b[0;32m      <a href='vscode-notebook-cell:/c%3A/Users/anjal/OneDrive/Desktop/digipodium/loops/loopsprac.2.ipynb#X21sZmlsZQ%3D%3D?line=1'>2</a>\u001b[0m \u001b[39m#year=int(input(\"enter the year:\"))\u001b[39;00m\n\u001b[0;32m      <a href='vscode-notebook-cell:/c%3A/Users/anjal/OneDrive/Desktop/digipodium/loops/loopsprac.2.ipynb#X21sZmlsZQ%3D%3D?line=2'>3</a>\u001b[0m \u001b[39mwhile\u001b[39;00m \u001b[39mTrue\u001b[39;00m:\n\u001b[1;32m----> <a href='vscode-notebook-cell:/c%3A/Users/anjal/OneDrive/Desktop/digipodium/loops/loopsprac.2.ipynb#X21sZmlsZQ%3D%3D?line=3'>4</a>\u001b[0m     year\u001b[39m=\u001b[39m\u001b[39mint\u001b[39m(\u001b[39minput\u001b[39m(\u001b[39m\"\u001b[39m\u001b[39menter the year:\u001b[39m\u001b[39m\"\u001b[39m))\n\u001b[0;32m      <a href='vscode-notebook-cell:/c%3A/Users/anjal/OneDrive/Desktop/digipodium/loops/loopsprac.2.ipynb#X21sZmlsZQ%3D%3D?line=4'>5</a>\u001b[0m     \u001b[39mif\u001b[39;00m year\u001b[39m%\u001b[39m\u001b[39m400\u001b[39m\u001b[39m==\u001b[39m\u001b[39m0\u001b[39m \u001b[39mor\u001b[39;00m year\u001b[39m%\u001b[39m\u001b[39m100\u001b[39m\u001b[39m==\u001b[39m\u001b[39m0\u001b[39m:\n\u001b[0;32m      <a href='vscode-notebook-cell:/c%3A/Users/anjal/OneDrive/Desktop/digipodium/loops/loopsprac.2.ipynb#X21sZmlsZQ%3D%3D?line=5'>6</a>\u001b[0m         \u001b[39mprint\u001b[39m(\u001b[39mf\u001b[39m\u001b[39m\"\u001b[39m\u001b[39m{\u001b[39;00myear\u001b[39m}\u001b[39;00m\u001b[39m is leap year\u001b[39m\u001b[39m\"\u001b[39m)\n",
      "\u001b[1;31mValueError\u001b[0m: invalid literal for int() with base 10: ''"
     ]
    }
   ],
   "source": [
    "#15Write a program to check if a given year is a leap year using a while loop.\n",
    "#year=int(input(\"enter the year:\"))\n",
    "while True:\n",
    "    year=int(input(\"enter the year:\"))\n",
    "    if year%400==0 or year%100==0:\n",
    "        print(f\"{year} is leap year\")\n",
    "    elif year%4==0 or year % 100!=0:\n",
    "        print(f\"{year} is leap year\")\n",
    "    else:\n",
    "        print(f\"{year} is not leap year\")    "
   ]
  },
  {
   "cell_type": "code",
   "execution_count": 19,
   "metadata": {},
   "outputs": [
    {
     "name": "stdout",
     "output_type": "stream",
     "text": [
      "1x1= 1\n",
      "1x2= 2\n",
      "1x3= 3\n",
      "1x4= 4\n",
      "1x5= 5\n",
      "1x6= 6\n",
      "1x7= 7\n",
      "1x8= 8\n",
      "1x9= 9\n",
      "1x10= 10\n",
      "\n",
      "2x1= 2\n",
      "2x2= 4\n",
      "2x3= 6\n",
      "2x4= 8\n",
      "2x5= 10\n",
      "2x6= 12\n",
      "2x7= 14\n",
      "2x8= 16\n",
      "2x9= 18\n",
      "2x10= 20\n",
      "\n",
      "3x1= 3\n",
      "3x2= 6\n",
      "3x3= 9\n",
      "3x4= 12\n",
      "3x5= 15\n",
      "3x6= 18\n",
      "3x7= 21\n",
      "3x8= 24\n",
      "3x9= 27\n",
      "3x10= 30\n",
      "\n",
      "4x1= 4\n",
      "4x2= 8\n",
      "4x3= 12\n",
      "4x4= 16\n",
      "4x5= 20\n",
      "4x6= 24\n",
      "4x7= 28\n",
      "4x8= 32\n",
      "4x9= 36\n",
      "4x10= 40\n",
      "\n",
      "5x1= 5\n",
      "5x2= 10\n",
      "5x3= 15\n",
      "5x4= 20\n",
      "5x5= 25\n",
      "5x6= 30\n",
      "5x7= 35\n",
      "5x8= 40\n",
      "5x9= 45\n",
      "5x10= 50\n",
      "\n"
     ]
    }
   ],
   "source": [
    "#16Write a program to print the multiplication table of numbers from 1 to 5 using a for loop.\n",
    "for i in range(1,6):\n",
    "  for n in range(1,11):\n",
    "      print(f'{i}x{n}=',i*n)\n",
    "  else:\n",
    "     print(\"\")    \n",
    "\n",
    "    \n"
   ]
  },
  {
   "cell_type": "code",
   "execution_count": 3,
   "metadata": {},
   "outputs": [
    {
     "name": "stdout",
     "output_type": "stream",
     "text": [
      " the factorial of 6 is =720\n"
     ]
    }
   ],
   "source": [
    "#17Write a program to find the factorial of a number using a while loop.\n",
    "num=int(input(\"enter the number\"))\n",
    "fact=1\n",
    "i=1\n",
    "while i<=num:\n",
    "    fact=fact*i\n",
    "    i+=1\n",
    "print(f' the factorial of {num} is ={fact}')    "
   ]
  },
  {
   "cell_type": "code",
   "execution_count": 8,
   "metadata": {},
   "outputs": [],
   "source": [
    "#18Write a program to count the number of vowels in a given string using a for loop.\n",
    "#def count_variable(content):\n",
    " #   vowels=\"aeiouAEIOU\"\n",
    "  #  for i in vowels:\n",
    "   #     content=content.count(\"a,e,i,o,u,A,E,I,O,U\")\n",
    "    #    return content\n"
   ]
  },
  {
   "cell_type": "code",
   "execution_count": 9,
   "metadata": {},
   "outputs": [
    {
     "data": {
      "text/plain": [
       "0"
      ]
     },
     "execution_count": 9,
     "metadata": {},
     "output_type": "execute_result"
    }
   ],
   "source": [
    "#count_variable(\"my name is Anjali prajapati \")"
   ]
  },
  {
   "cell_type": "code",
   "execution_count": 10,
   "metadata": {},
   "outputs": [
    {
     "name": "stdout",
     "output_type": "stream",
     "text": [
      "the total no. of vowels in string is  6\n"
     ]
    }
   ],
   "source": [
    "#18Write a program to count the number of vowels in a given string using a for loop.\n",
    "str=input(\"enter the string\")\n",
    "str=str.lower()\n",
    "count=0\n",
    "for i in str:\n",
    "    if i==\"a\" or i==\"e\" or i ==\"i\" or i==\"o\" or i=='u': \n",
    "        count=count+1\n",
    "print(\"the total no. of vowels in string is \",count)        "
   ]
  },
  {
   "cell_type": "code",
   "execution_count": 11,
   "metadata": {},
   "outputs": [
    {
     "ename": "TypeError",
     "evalue": "'int' object is not iterable",
     "output_type": "error",
     "traceback": [
      "\u001b[1;31m---------------------------------------------------------------------------\u001b[0m",
      "\u001b[1;31mTypeError\u001b[0m                                 Traceback (most recent call last)",
      "\u001b[1;32mc:\\Users\\anjal\\OneDrive\\Desktop\\digipodium\\loops\\loopsprac.2.ipynb Cell 22\u001b[0m line \u001b[0;36m4\n\u001b[0;32m      <a href='vscode-notebook-cell:/c%3A/Users/anjal/OneDrive/Desktop/digipodium/loops/loopsprac.2.ipynb#X30sZmlsZQ%3D%3D?line=1'>2</a>\u001b[0m num\u001b[39m=\u001b[39m\u001b[39mint\u001b[39m(\u001b[39minput\u001b[39m(\u001b[39m\"\u001b[39m\u001b[39menter the number:\u001b[39m\u001b[39m\"\u001b[39m))\n\u001b[0;32m      <a href='vscode-notebook-cell:/c%3A/Users/anjal/OneDrive/Desktop/digipodium/loops/loopsprac.2.ipynb#X30sZmlsZQ%3D%3D?line=2'>3</a>\u001b[0m n\u001b[39m=\u001b[39m\u001b[39m1\u001b[39m\n\u001b[1;32m----> <a href='vscode-notebook-cell:/c%3A/Users/anjal/OneDrive/Desktop/digipodium/loops/loopsprac.2.ipynb#X30sZmlsZQ%3D%3D?line=3'>4</a>\u001b[0m \u001b[39mfor\u001b[39;00m i \u001b[39min\u001b[39;00m num:\n\u001b[0;32m      <a href='vscode-notebook-cell:/c%3A/Users/anjal/OneDrive/Desktop/digipodium/loops/loopsprac.2.ipynb#X30sZmlsZQ%3D%3D?line=4'>5</a>\u001b[0m     \u001b[39mif\u001b[39;00m num\u001b[39m%\u001b[39mi\u001b[39m==\u001b[39m\u001b[39m0\u001b[39m \u001b[39mor\u001b[39;00m i\u001b[39m%\u001b[39mn\u001b[39m==\u001b[39m\u001b[39m0\u001b[39m:\n\u001b[0;32m      <a href='vscode-notebook-cell:/c%3A/Users/anjal/OneDrive/Desktop/digipodium/loops/loopsprac.2.ipynb#X30sZmlsZQ%3D%3D?line=5'>6</a>\u001b[0m         \u001b[39mprint\u001b[39m(\u001b[39mf\u001b[39m\u001b[39m\"\u001b[39m\u001b[39m{\u001b[39;00mnum\u001b[39m}\u001b[39;00m\u001b[39m is perfect square\u001b[39m\u001b[39m\"\u001b[39m)\n",
      "\u001b[1;31mTypeError\u001b[0m: 'int' object is not iterable"
     ]
    }
   ],
   "source": [
    "#19Write a program to check if a given number is a perfect square using a while loop.\n",
    "num=int(input(\"enter the number:\"))\n",
    "n=1\n",
    "for i in num:\n",
    "    if num%i==0 or i%n==0:\n",
    "        print(f\"{num} is perfect square\")\n",
    "    else:\n",
    "        print(f\"{num} is not perfet square\")    "
   ]
  },
  {
   "cell_type": "code",
   "execution_count": 17,
   "metadata": {},
   "outputs": [
    {
     "name": "stdout",
     "output_type": "stream",
     "text": [
      "its not a perfect square\n"
     ]
    }
   ],
   "source": [
    "#19Write a program to check if a given number is a perfect square using a while loop.\n",
    "num=int(input(\"enter the number:\"))\n",
    "flag=0\n",
    "for i in range(1,num):\n",
    "    if i*i==num:\n",
    "        flag=1\n",
    "        break\n",
    "if flag==1:\n",
    "    print(\"its a perfect square\")\n",
    "else:\n",
    "    print(\"its not a perfect square\")        "
   ]
  },
  {
   "cell_type": "code",
   "execution_count": 25,
   "metadata": {},
   "outputs": [
    {
     "name": "stdout",
     "output_type": "stream",
     "text": [
      "[5, 7, 8, 9, 1, 3, 3]\n",
      " the smallest element = 1\n",
      " the largest element = 9\n"
     ]
    }
   ],
   "source": [
    "#20Write a program to find the largest and smallest elements in an array using a for loop.\n",
    "array=[]\n",
    "for item in range(7):\n",
    "    x=int(input(\"enter the numbers:\"))\n",
    "    array.append(x)\n",
    "print(array)\n",
    "n=len(array)\n",
    "for i in range(0,n):\n",
    "    for j in range(i+1,n):\n",
    "        if (array[i]<array[j]):\n",
    "            temp=array[i]\n",
    "            array[i]=array[j]\n",
    "            array[j]=temp\n",
    "print(f' the smallest element = {array[-1]}') \n",
    "\n",
    "for n in range(0,n):\n",
    "    for k in range(i+1,n):\n",
    "        if (array[i]>array[j]):\n",
    "            temp=array[i]\n",
    "            array[i]=array[j]\n",
    "            array[j]=temp\n",
    "print(f' the largest element = {array[0]}')            "
   ]
  },
  {
   "cell_type": "code",
   "execution_count": 27,
   "metadata": {},
   "outputs": [
    {
     "ename": "TypeError",
     "evalue": "'reverse' is an invalid keyword argument for print()",
     "output_type": "error",
     "traceback": [
      "\u001b[1;31m---------------------------------------------------------------------------\u001b[0m",
      "\u001b[1;31mTypeError\u001b[0m                                 Traceback (most recent call last)",
      "\u001b[1;32mc:\\Users\\anjal\\OneDrive\\Desktop\\digipodium\\loops\\loopsprac.2.ipynb Cell 25\u001b[0m line \u001b[0;36m5\n\u001b[0;32m      <a href='vscode-notebook-cell:/c%3A/Users/anjal/OneDrive/Desktop/digipodium/loops/loopsprac.2.ipynb#X33sZmlsZQ%3D%3D?line=2'>3</a>\u001b[0m n\u001b[39m=\u001b[39m\u001b[39mlen\u001b[39m(\u001b[39mstr\u001b[39m)\n\u001b[0;32m      <a href='vscode-notebook-cell:/c%3A/Users/anjal/OneDrive/Desktop/digipodium/loops/loopsprac.2.ipynb#X33sZmlsZQ%3D%3D?line=3'>4</a>\u001b[0m \u001b[39mwhile\u001b[39;00m \u001b[39mTrue\u001b[39;00m:\n\u001b[1;32m----> <a href='vscode-notebook-cell:/c%3A/Users/anjal/OneDrive/Desktop/digipodium/loops/loopsprac.2.ipynb#X33sZmlsZQ%3D%3D?line=4'>5</a>\u001b[0m     \u001b[39mprint\u001b[39m(\u001b[39mstr\u001b[39m\u001b[39m.\u001b[39msplit(\u001b[39m'\u001b[39m\u001b[39m \u001b[39m\u001b[39m'\u001b[39m),reverse\u001b[39m=\u001b[39m\u001b[39mTrue\u001b[39;00m)\n",
      "\u001b[1;31mTypeError\u001b[0m: 'reverse' is an invalid keyword argument for print()"
     ]
    }
   ],
   "source": [
    "#21write a program to reverse the order of words in a sentence using a while loop.\n",
    "str=input(\"enter the string:\")\n",
    "n=len(str)\n",
    "while True:\n",
    "    print(str.split(' '),reverse=True)\n",
    "\n",
    " "
   ]
  }
 ],
 "metadata": {
  "kernelspec": {
   "display_name": "base",
   "language": "python",
   "name": "python3"
  },
  "language_info": {
   "codemirror_mode": {
    "name": "ipython",
    "version": 3
   },
   "file_extension": ".py",
   "mimetype": "text/x-python",
   "name": "python",
   "nbconvert_exporter": "python",
   "pygments_lexer": "ipython3",
   "version": "3.11.4"
  },
  "orig_nbformat": 4
 },
 "nbformat": 4,
 "nbformat_minor": 2
}
