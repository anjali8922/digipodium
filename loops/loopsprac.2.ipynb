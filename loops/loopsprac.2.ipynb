{
 "cells": [
  {
   "cell_type": "code",
   "execution_count": 12,
   "metadata": {},
   "outputs": [
    {
     "name": "stdout",
     "output_type": "stream",
     "text": [
      "the factorial of 4 is 24\n"
     ]
    }
   ],
   "source": [
    "#5\n",
    "num=int(input(\"enter any number:\"))\n",
    "fact=1\n",
    "if num>=1: \n",
    "   for i in range(1,num+1):\n",
    "      fact=fact*i \n",
    "    #if i==0:\n",
    "        #break\n",
    "print(f\"the factorial of {num} is {fact}\")    "
   ]
  },
  {
   "cell_type": "code",
   "execution_count": 13,
   "metadata": {},
   "outputs": [
    {
     "name": "stdout",
     "output_type": "stream",
     "text": [
      "Fibonacci Series: \n",
      "1 "
     ]
    }
   ],
   "source": [
    "#6Write a program to print the Fibonacci series up to a given limit using a while loop.\n",
    "limit = int(input('Enter the limit - '))\n",
    "\n",
    "num1 = 0\n",
    "\n",
    "num2 = 1\n",
    "\n",
    "print('Fibonacci Series: ')\n",
    "\n",
    "for z in range(0,limit):\n",
    "\n",
    "    if(z<=1):\n",
    "\n",
    "     num3 = z\n",
    "\n",
    "else:\n",
    "\n",
    "    num3 = num1+num2\n",
    "\n",
    "    num1 = num2\n",
    "\n",
    "    num2 = num3\n",
    "\n",
    "print(num3,end=' ') \n"
   ]
  },
  {
   "cell_type": "code",
   "execution_count": 1,
   "metadata": {},
   "outputs": [
    {
     "name": "stdout",
     "output_type": "stream",
     "text": [
      " factorial of 5= 1\n",
      " factorial of 5= 2\n",
      " factorial of 5= 6\n",
      " factorial of 5= 24\n",
      " factorial of 5= 120\n"
     ]
    }
   ],
   "source": [
    "num=int(input(\"enter the number :\"))\n",
    "i=1\n",
    "fact=1\n",
    "while i<=num:\n",
    "\n",
    "    fact=fact*i\n",
    "    i=i+1\n",
    "    \n",
    "    print(f\" factorial of {num}=\",fact)\n"
   ]
  },
  {
   "cell_type": "code",
   "execution_count": null,
   "metadata": {},
   "outputs": [],
   "source": []
  }
 ],
 "metadata": {
  "kernelspec": {
   "display_name": "base",
   "language": "python",
   "name": "python3"
  },
  "language_info": {
   "codemirror_mode": {
    "name": "ipython",
    "version": 3
   },
   "file_extension": ".py",
   "mimetype": "text/x-python",
   "name": "python",
   "nbconvert_exporter": "python",
   "pygments_lexer": "ipython3",
   "version": "3.11.4"
  },
  "orig_nbformat": 4
 },
 "nbformat": 4,
 "nbformat_minor": 2
}
