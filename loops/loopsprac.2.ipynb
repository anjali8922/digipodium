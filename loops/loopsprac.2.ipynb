{
 "cells": [
  {
   "cell_type": "code",
   "execution_count": 12,
   "metadata": {},
   "outputs": [
    {
     "name": "stdout",
     "output_type": "stream",
     "text": [
      "the factorial of 4 is 24\n"
     ]
    }
   ],
   "source": [
    "#5\n",
    "num=int(input(\"enter any number:\"))\n",
    "fact=1\n",
    "if num>=1: \n",
    "   for i in range(1,num+1):\n",
    "      fact=fact*i \n",
    "    #if i==0:\n",
    "        #break\n",
    "print(f\"the factorial of {num} is {fact}\")    "
   ]
  },
  {
   "cell_type": "code",
   "execution_count": 13,
   "metadata": {},
   "outputs": [
    {
     "name": "stdout",
     "output_type": "stream",
     "text": [
      "Fibonacci Series: \n",
      "1 "
     ]
    }
   ],
   "source": [
    "#6Write a program to print the Fibonacci series up to a given limit using a while loop.\n",
    "limit = int(input('Enter the limit - '))\n",
    "\n",
    "num1 = 0\n",
    "\n",
    "num2 = 1\n",
    "\n",
    "print('Fibonacci Series: ')\n",
    "\n",
    "for z in range(0,limit):\n",
    "\n",
    "    if(z<=1):\n",
    "\n",
    "     num3 = z\n",
    "\n",
    "else:\n",
    "\n",
    "    num3 = num1+num2\n",
    "\n",
    "    num1 = num2\n",
    "\n",
    "    num2 = num3\n",
    "\n",
    "print(num3,end=' ') \n"
   ]
  },
  {
   "cell_type": "code",
   "execution_count": 1,
   "metadata": {},
   "outputs": [
    {
     "name": "stdout",
     "output_type": "stream",
     "text": [
      " factorial of 5= 1\n",
      " factorial of 5= 2\n",
      " factorial of 5= 6\n",
      " factorial of 5= 24\n",
      " factorial of 5= 120\n"
     ]
    }
   ],
   "source": [
    "#7\n",
    "num=int(input(\"enter the number :\"))\n",
    "i=1\n",
    "fact=1\n",
    "while i<=num:\n",
    "\n",
    "    fact=fact*i\n",
    "    i=i+1\n",
    "    \n",
    "    print(f\" factorial of {num}=\",fact)\n"
   ]
  },
  {
   "cell_type": "code",
   "execution_count": 3,
   "metadata": {},
   "outputs": [
    {
     "name": "stdout",
     "output_type": "stream",
     "text": [
      "8\n"
     ]
    }
   ],
   "source": [
    "#8- Write a program to find the largest element in an array using a for loop.\n",
    "\n",
    "array=[2, 4 ,6, 7, 8, 9]\n",
    "n=len(array)\n",
    "for i in range(0,n):\n",
    "    for j in range(i+1,n):\n",
    "        if (array[i])>(array[j]):\n",
    "            temp=array[i]\n",
    "            array[i]=array[j]\n",
    "            array[j]=temp\n",
    "print(array[-2])            "
   ]
  },
  {
   "cell_type": "code",
   "execution_count": 4,
   "metadata": {},
   "outputs": [
    {
     "name": "stdout",
     "output_type": "stream",
     "text": [
      "olleh\n"
     ]
    }
   ],
   "source": [
    " #9Write a program to reverse a given string using a while loop.\n",
    "\n",
    "str=input(\"enter the string:\")\n",
    "output=\"\"\n",
    "length=len(str)-1\n",
    "while length>=0:\n",
    "    output +=str[length]\n",
    "    length-=1\n",
    "print(output)    "
   ]
  },
  {
   "cell_type": "code",
   "execution_count": 5,
   "metadata": {},
   "outputs": [
    {
     "name": "stdout",
     "output_type": "stream",
     "text": [
      "mar"
     ]
    }
   ],
   "source": [
    "str=input(\"enter the string:\")\n",
    "for i in range((len(str)-1),-1,-1):\n",
    "   print(str[i],end='')\n",
    "   #print(str2)"
   ]
  },
  {
   "cell_type": "code",
   "execution_count": 15,
   "metadata": {},
   "outputs": [
    {
     "name": "stdout",
     "output_type": "stream",
     "text": [
      " the asci value of 'MY NAME IS ANJALI' is = 73\n"
     ]
    }
   ],
   "source": [
    "#10Write a program to print the ASCII values of all uppercase letters using a for loop.\n",
    "\n",
    "str=input(\"enter the string\")\n",
    "msg=str.upper()\n",
    "idx=0\n",
    "for i in msg:\n",
    "    if idx ==1:\n",
    "        break\n",
    "print(f\" the asci value of '{msg}' is =\",ord(i))\n"
   ]
  },
  {
   "cell_type": "code",
   "execution_count": 1,
   "metadata": {},
   "outputs": [
    {
     "name": "stdout",
     "output_type": "stream",
     "text": [
      "the string is palindrome\n"
     ]
    }
   ],
   "source": [
    "#11Write a program to check if a given string is a palindrome using a while loop.\n",
    "\n",
    "str=input(\"enter the string:\")\n",
    "b=str[-1::-1]\n",
    "if str==b:\n",
    "    print(\"the string is palindrome\")\n",
    "else:\n",
    "    print(\"the string is palindrome\")    "
   ]
  },
  {
   "cell_type": "code",
   "execution_count": 1,
   "metadata": {},
   "outputs": [
    {
     "name": "stdout",
     "output_type": "stream",
     "text": [
      "the string is not palindrome😒\n"
     ]
    }
   ],
   "source": [
    "str=input(\"enter the string:\")\n",
    "l=len(str)\n",
    "p=l-1\n",
    "idx=0\n",
    "while idx<p:\n",
    "    if str[idx]==str[p]:\n",
    "        idx +=1\n",
    "        p -=1\n",
    "        print(\"the string is palindrome😊\")\n",
    "        break\n",
    "    else:\n",
    "        print(\"the string is not palindrome😒\") \n",
    "        break   "
   ]
  },
  {
   "cell_type": "code",
   "execution_count": null,
   "metadata": {},
   "outputs": [],
   "source": [
    "str1=input(\"enter the string\")\n",
    "for i in range((len(str1)-1),-1,-1):\n",
    "    print(str1[i],end=\"\")"
   ]
  },
  {
   "cell_type": "code",
   "execution_count": null,
   "metadata": {},
   "outputs": [],
   "source": [
    "#12 Write a program to calculate the average of a list of numbers using a for loop."
   ]
  }
 ],
 "metadata": {
  "kernelspec": {
   "display_name": "base",
   "language": "python",
   "name": "python3"
  },
  "language_info": {
   "codemirror_mode": {
    "name": "ipython",
    "version": 3
   },
   "file_extension": ".py",
   "mimetype": "text/x-python",
   "name": "python",
   "nbconvert_exporter": "python",
   "pygments_lexer": "ipython3",
   "version": "3.11.4"
  },
  "orig_nbformat": 4
 },
 "nbformat": 4,
 "nbformat_minor": 2
}
