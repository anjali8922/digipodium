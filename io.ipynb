{
 "cells": [
  {
   "cell_type": "code",
   "execution_count": null,
   "metadata": {},
   "outputs": [],
   "source": []
  },
  {
   "cell_type": "markdown",
   "metadata": {},
   "source": [
    "print()-->output\n",
    "input()-->input"
   ]
  },
  {
   "cell_type": "markdown",
   "metadata": {},
   "source": []
  },
  {
   "cell_type": "markdown",
   "metadata": {},
   "source": []
  },
  {
   "cell_type": "code",
   "execution_count": 1,
   "metadata": {},
   "outputs": [],
   "source": [
    "name=\"Anjali prajapati\"\n",
    "city=\"Banda\""
   ]
  },
  {
   "cell_type": "code",
   "execution_count": 2,
   "metadata": {},
   "outputs": [
    {
     "name": "stdout",
     "output_type": "stream",
     "text": [
      "information about me\n",
      "Anjali prajapati\n",
      "Banda\n"
     ]
    }
   ],
   "source": [
    "print(\"information about me\")\n",
    "print(name)\n",
    "print(city)"
   ]
  },
  {
   "cell_type": "code",
   "execution_count": 3,
   "metadata": {},
   "outputs": [
    {
     "name": "stdout",
     "output_type": "stream",
     "text": [
      "information about me = Anjali prajapati Banda\n"
     ]
    }
   ],
   "source": [
    "print(\"information about me =\" ,name , city)"
   ]
  },
  {
   "cell_type": "code",
   "execution_count": 6,
   "metadata": {},
   "outputs": [
    {
     "name": "stdout",
     "output_type": "stream",
     "text": [
      "i am Anjali prajapati and  i live in  , Banda\n"
     ]
    }
   ],
   "source": [
    "print('i am', name,'and  i live in ' ,',', city)"
   ]
  },
  {
   "cell_type": "code",
   "execution_count": 26,
   "metadata": {},
   "outputs": [],
   "source": [
    "x=12893498\n",
    "y=2344354"
   ]
  },
  {
   "cell_type": "code",
   "execution_count": 9,
   "metadata": {},
   "outputs": [
    {
     "name": "stdout",
     "output_type": "stream",
     "text": [
      "I am Anjali prajapati and i live in Banda\n"
     ]
    }
   ],
   "source": [
    "print(f\"I am {name} and i live in {city}\")"
   ]
  },
  {
   "cell_type": "markdown",
   "metadata": {},
   "source": [
    "#formatted string\n",
    "these are special strings in python ,where we prepend f before the opening quote, making the string an f -string .we can the embed python expression directly inside the string .the expression are replaced with their values\n"
   ]
  },
  {
   "cell_type": "code",
   "execution_count": 10,
   "metadata": {},
   "outputs": [],
   "source": [
    "n1='amjad'\n",
    "c1='lucknow'\n",
    "n2,c2='bhupendra','lucknow'\n",
    "n3,c3='sia','lucknow'"
   ]
  },
  {
   "cell_type": "code",
   "execution_count": 22,
   "metadata": {},
   "outputs": [
    {
     "name": "stdout",
     "output_type": "stream",
     "text": [
      "1.amjad          lucknow\n",
      "2.bhupendra      lucknow\n",
      "3.sia            lucknow\n"
     ]
    }
   ],
   "source": [
    "#alt + sift+ down for duplicating the line\n",
    "\n",
    "print(f'1.{n1:<14} {c1}') \n",
    "print(f'2.{n2:<14} {c2}')\n",
    "print(f'3.{n3:<14} {c3}')\n"
   ]
  },
  {
   "cell_type": "markdown",
   "metadata": {},
   "source": [
    "(>) use for right alignment\n",
    "^ use for center alignment"
   ]
  },
  {
   "cell_type": "code",
   "execution_count": 23,
   "metadata": {},
   "outputs": [
    {
     "name": "stdout",
     "output_type": "stream",
     "text": [
      "amjad bhupendra sia\n"
     ]
    }
   ],
   "source": [
    "print(n1 , n2 ,n3)"
   ]
  },
  {
   "cell_type": "code",
   "execution_count": 25,
   "metadata": {},
   "outputs": [
    {
     "name": "stdout",
     "output_type": "stream",
     "text": [
      "amjad\tbhupendra\tsia\n",
      "amjad\n",
      "bhupendra\n",
      "sia\n",
      "amjad,bhupendra,sia\n"
     ]
    }
   ],
   "source": [
    "print(n1 , n2 , n3, sep='\\t')\n",
    "print(n1 , n2 , n3, sep='\\n')\n",
    "print(n1 , n2 , n3, sep=',') #sep it is parameter"
   ]
  },
  {
   "cell_type": "code",
   "execution_count": null,
   "metadata": {},
   "outputs": [],
   "source": []
  }
 ],
 "metadata": {
  "kernelspec": {
   "display_name": "base",
   "language": "python",
   "name": "python3"
  },
  "language_info": {
   "codemirror_mode": {
    "name": "ipython",
    "version": 3
   },
   "file_extension": ".py",
   "mimetype": "text/x-python",
   "name": "python",
   "nbconvert_exporter": "python",
   "pygments_lexer": "ipython3",
   "version": "3.11.4"
  },
  "orig_nbformat": 4
 },
 "nbformat": 4,
 "nbformat_minor": 2
}
