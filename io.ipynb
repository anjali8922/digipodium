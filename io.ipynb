{
 "cells": [
  {
   "cell_type": "code",
   "execution_count": null,
   "metadata": {},
   "outputs": [],
   "source": []
  },
  {
   "cell_type": "markdown",
   "metadata": {},
   "source": [
    "print()-->output\n",
    "input()-->input"
   ]
  },
  {
   "cell_type": "markdown",
   "metadata": {},
   "source": []
  },
  {
   "cell_type": "markdown",
   "metadata": {},
   "source": []
  },
  {
   "cell_type": "code",
   "execution_count": 2,
   "metadata": {},
   "outputs": [],
   "source": [
    "Name=\"Anju prajapati\"\n",
    "city=\"Banda\""
   ]
  },
  {
   "cell_type": "code",
   "execution_count": 3,
   "metadata": {},
   "outputs": [
    {
     "name": "stdout",
     "output_type": "stream",
     "text": [
      "information about me\n",
      "Anju prajapati\n",
      "Banda\n"
     ]
    }
   ],
   "source": [
    "print(\"information about me\")\n",
    "print(Name)\n",
    "print(city)"
   ]
  },
  {
   "cell_type": "code",
   "execution_count": 4,
   "metadata": {},
   "outputs": [
    {
     "name": "stdout",
     "output_type": "stream",
     "text": [
      "information about me = Anju prajapati Banda\n"
     ]
    }
   ],
   "source": [
    "print(\"information about me =\" ,Name , city)"
   ]
  },
  {
   "cell_type": "code",
   "execution_count": 5,
   "metadata": {},
   "outputs": [
    {
     "name": "stdout",
     "output_type": "stream",
     "text": [
      "i am Anju prajapati and  i live in  , Banda\n"
     ]
    }
   ],
   "source": [
    "print('i am', Name,'and  i live in ' ,',', city)"
   ]
  },
  {
   "cell_type": "code",
   "execution_count": 6,
   "metadata": {},
   "outputs": [],
   "source": [
    "x=12893498\n",
    "y=2344354"
   ]
  },
  {
   "cell_type": "code",
   "execution_count": 7,
   "metadata": {},
   "outputs": [
    {
     "name": "stdout",
     "output_type": "stream",
     "text": [
      "i am Anju prajapati and i live in ,Banda\n"
     ]
    }
   ],
   "source": [
    "print(f\"i am {Name} and i live in ,{city}\")"
   ]
  },
  {
   "cell_type": "markdown",
   "metadata": {},
   "source": [
    "#formatted string\n",
    "these are special strings in python ,where we prepend f before the opening quote, making the string an f -string .we can the embed python expression directly inside the string .the expression are replaced with their values\n"
   ]
  },
  {
   "cell_type": "code",
   "execution_count": 8,
   "metadata": {},
   "outputs": [],
   "source": [
    "n1='amjad'\n",
    "c1='lucknow'\n",
    "n2,c2='bhupendra','lucknow'\n",
    "n3,c3='sia','lucknow'"
   ]
  },
  {
   "cell_type": "code",
   "execution_count": 9,
   "metadata": {},
   "outputs": [
    {
     "name": "stdout",
     "output_type": "stream",
     "text": [
      "1.amjad          lucknow\n",
      "2.bhupendra      lucknow\n",
      "3.sia            lucknow\n"
     ]
    }
   ],
   "source": [
    "#alt + sift+ down for duplicating the line\n",
    "\n",
    "print(f'1.{n1:<14} {c1}') \n",
    "print(f'2.{n2:<14} {c2}')\n",
    "print(f'3.{n3:<14} {c3}')\n"
   ]
  },
  {
   "cell_type": "markdown",
   "metadata": {},
   "source": [
    "(>) use for right alignment\n",
    "^ use for center alignment"
   ]
  },
  {
   "cell_type": "code",
   "execution_count": 10,
   "metadata": {},
   "outputs": [
    {
     "name": "stdout",
     "output_type": "stream",
     "text": [
      "amjad bhupendra sia\n"
     ]
    }
   ],
   "source": [
    "print(n1 , n2 ,n3)"
   ]
  },
  {
   "cell_type": "code",
   "execution_count": 11,
   "metadata": {},
   "outputs": [
    {
     "name": "stdout",
     "output_type": "stream",
     "text": [
      "amjad\tbhupendra\tsia\n",
      "amjad\n",
      "bhupendra\n",
      "sia\n",
      "amjad,bhupendra,sia\n"
     ]
    }
   ],
   "source": [
    "print(n1 , n2 , n3, sep='\\t')\n",
    "print(n1 , n2 , n3, sep='\\n')\n",
    "print(n1 , n2 , n3, sep=',') #sep it is parameter"
   ]
  },
  {
   "cell_type": "code",
   "execution_count": 12,
   "metadata": {},
   "outputs": [
    {
     "name": "stdout",
     "output_type": "stream",
     "text": [
      "\n"
     ]
    }
   ],
   "source": [
    "city=input()\n",
    "print(city)"
   ]
  },
  {
   "cell_type": "code",
   "execution_count": 13,
   "metadata": {},
   "outputs": [
    {
     "name": "stdout",
     "output_type": "stream",
     "text": [
      "\t\n"
     ]
    }
   ],
   "source": [
    "city=input(\"enter your city name\")\n",
    "month=input(\"enter the current month name\")\n",
    "print(city , month, sep='\\t')"
   ]
  },
  {
   "cell_type": "markdown",
   "metadata": {},
   "source": [
    "TYPE CASTING"
   ]
  },
  {
   "cell_type": "code",
   "execution_count": 14,
   "metadata": {},
   "outputs": [
    {
     "name": "stdout",
     "output_type": "stream",
     "text": [
      "122327 <class 'str'>\n",
      "122327 <class 'int'>\n"
     ]
    }
   ],
   "source": [
    "x=\"122327\"\n",
    "print(f\"{x}\" , type(x))\n",
    "x=int(x)\n",
    "print(f'{x}', type(x))"
   ]
  },
  {
   "cell_type": "code",
   "execution_count": null,
   "metadata": {},
   "outputs": [],
   "source": []
  },
  {
   "cell_type": "code",
   "execution_count": null,
   "metadata": {},
   "outputs": [],
   "source": []
  }
 ],
 "metadata": {
  "kernelspec": {
   "display_name": "base",
   "language": "python",
   "name": "python3"
  },
  "language_info": {
   "codemirror_mode": {
    "name": "ipython",
    "version": 3
   },
   "file_extension": ".py",
   "mimetype": "text/x-python",
   "name": "python",
   "nbconvert_exporter": "python",
   "pygments_lexer": "ipython3",
   "version": "3.11.4"
  },
  "orig_nbformat": 4
 },
 "nbformat": 4,
 "nbformat_minor": 2
}
